{
 "cells": [
  {
   "cell_type": "markdown",
   "metadata": {},
   "source": [
    "# Sentiment Analysis Web App\n",
    "\n",
    "_Deep Learning Nanodegree Program | Deployment_\n",
    "\n",
    "---\n",
    "\n",
    "In this notebook we will use Amazon's SageMaker service to construct a random tree model to predict the sentiment of a movie review. In addition, we will deploy this model to an endpoint and construct a very simple web app which will interact with our model's deployed endpoint.\n",
    "\n",
    "## General Outline\n",
    "\n",
    "Typically, when using a notebook instance with SageMaker, you will proceed through the following steps. Of course, not every step will need to be done with each project. Also, there is quite a lot of room for variation in many of the steps, as you will see throughout these lessons.\n",
    "\n",
    "1. Download or otherwise retrieve the data.\n",
    "2. Process / Prepare the data.\n",
    "3. Upload the processed data to S3.\n",
    "4. Train a chosen model.\n",
    "5. Test the trained model (typically using a batch transform job).\n",
    "6. Deploy the trained model.\n",
    "7. Use the deployed model.\n",
    "\n",
    "In this notebook we will progress through each of the steps above. We will also see that the final step, using the deployed model, can be quite challenging."
   ]
  },
  {
   "cell_type": "code",
   "execution_count": 1,
   "metadata": {},
   "outputs": [
    {
     "name": "stdout",
     "output_type": "stream",
     "text": [
      "Looking in indexes: https://pypi.org/simple, https://pip.repos.neuron.amazonaws.com\n",
      "Collecting sagemaker==1.72.0\n",
      "  Downloading sagemaker-1.72.0.tar.gz (297 kB)\n",
      "\u001b[2K     \u001b[90m━━━━━━━━━━━━━━━━━━━━━━━━━━━━━━━━━━━━━━━\u001b[0m \u001b[32m297.3/297.3 KB\u001b[0m \u001b[31m4.8 MB/s\u001b[0m eta \u001b[36m0:00:00\u001b[0m00:01\u001b[0m\n",
      "\u001b[?25h  Preparing metadata (setup.py) ... \u001b[?25ldone\n",
      "\u001b[?25hRequirement already satisfied: boto3>=1.14.12 in /home/ec2-user/anaconda3/envs/pytorch_p38/lib/python3.8/site-packages (from sagemaker==1.72.0) (1.24.60)\n",
      "Requirement already satisfied: numpy>=1.9.0 in /home/ec2-user/anaconda3/envs/pytorch_p38/lib/python3.8/site-packages (from sagemaker==1.72.0) (1.21.2)\n",
      "Requirement already satisfied: protobuf>=3.1 in /home/ec2-user/anaconda3/envs/pytorch_p38/lib/python3.8/site-packages (from sagemaker==1.72.0) (3.19.4)\n",
      "Requirement already satisfied: scipy>=0.19.0 in /home/ec2-user/anaconda3/envs/pytorch_p38/lib/python3.8/site-packages (from sagemaker==1.72.0) (1.7.2)\n",
      "Requirement already satisfied: protobuf3-to-dict>=0.1.5 in /home/ec2-user/anaconda3/envs/pytorch_p38/lib/python3.8/site-packages (from sagemaker==1.72.0) (0.1.5)\n",
      "Collecting smdebug-rulesconfig==0.1.4\n",
      "  Downloading smdebug_rulesconfig-0.1.4-py2.py3-none-any.whl (10 kB)\n",
      "Requirement already satisfied: importlib-metadata>=1.4.0 in /home/ec2-user/anaconda3/envs/pytorch_p38/lib/python3.8/site-packages (from sagemaker==1.72.0) (4.8.2)\n",
      "Requirement already satisfied: packaging>=20.0 in /home/ec2-user/anaconda3/envs/pytorch_p38/lib/python3.8/site-packages (from sagemaker==1.72.0) (21.3)\n",
      "Collecting botocore<1.28.0,>=1.27.60\n",
      "  Downloading botocore-1.27.64-py3-none-any.whl (9.1 MB)\n",
      "\u001b[2K     \u001b[90m━━━━━━━━━━━━━━━━━━━━━━━━━━━━━━━━━━━━━━━━\u001b[0m \u001b[32m9.1/9.1 MB\u001b[0m \u001b[31m33.5 MB/s\u001b[0m eta \u001b[36m0:00:00\u001b[0m00:01\u001b[0m:00:01\u001b[0m\n",
      "\u001b[?25hRequirement already satisfied: s3transfer<0.7.0,>=0.6.0 in /home/ec2-user/anaconda3/envs/pytorch_p38/lib/python3.8/site-packages (from boto3>=1.14.12->sagemaker==1.72.0) (0.6.0)\n",
      "Requirement already satisfied: jmespath<2.0.0,>=0.7.1 in /home/ec2-user/anaconda3/envs/pytorch_p38/lib/python3.8/site-packages (from boto3>=1.14.12->sagemaker==1.72.0) (0.10.0)\n",
      "Requirement already satisfied: zipp>=0.5 in /home/ec2-user/anaconda3/envs/pytorch_p38/lib/python3.8/site-packages (from importlib-metadata>=1.4.0->sagemaker==1.72.0) (3.6.0)\n",
      "Requirement already satisfied: pyparsing!=3.0.5,>=2.0.2 in /home/ec2-user/anaconda3/envs/pytorch_p38/lib/python3.8/site-packages (from packaging>=20.0->sagemaker==1.72.0) (3.0.6)\n",
      "Requirement already satisfied: six in /home/ec2-user/anaconda3/envs/pytorch_p38/lib/python3.8/site-packages (from protobuf3-to-dict>=0.1.5->sagemaker==1.72.0) (1.16.0)\n",
      "Requirement already satisfied: urllib3<1.27,>=1.25.4 in /home/ec2-user/anaconda3/envs/pytorch_p38/lib/python3.8/site-packages (from botocore<1.28.0,>=1.27.60->boto3>=1.14.12->sagemaker==1.72.0) (1.26.8)\n",
      "Requirement already satisfied: python-dateutil<3.0.0,>=2.1 in /home/ec2-user/anaconda3/envs/pytorch_p38/lib/python3.8/site-packages (from botocore<1.28.0,>=1.27.60->boto3>=1.14.12->sagemaker==1.72.0) (2.8.2)\n",
      "Building wheels for collected packages: sagemaker\n",
      "  Building wheel for sagemaker (setup.py) ... \u001b[?25ldone\n",
      "\u001b[?25h  Created wheel for sagemaker: filename=sagemaker-1.72.0-py2.py3-none-any.whl size=386379 sha256=abead040f77ce1eef9c28e5ccf5e94dbf942a185768c6bd9b4004acc03ddb2e6\n",
      "  Stored in directory: /home/ec2-user/.cache/pip/wheels/86/0e/1f/7c255f46c88da77dc4d0145188d39efda49e7e69fa9d320edf\n",
      "Successfully built sagemaker\n",
      "Installing collected packages: smdebug-rulesconfig, botocore, sagemaker\n",
      "  Attempting uninstall: smdebug-rulesconfig\n",
      "    Found existing installation: smdebug-rulesconfig 1.0.1\n",
      "    Uninstalling smdebug-rulesconfig-1.0.1:\n",
      "      Successfully uninstalled smdebug-rulesconfig-1.0.1\n",
      "  Attempting uninstall: botocore\n",
      "    Found existing installation: botocore 1.24.19\n",
      "    Uninstalling botocore-1.24.19:\n",
      "      Successfully uninstalled botocore-1.24.19\n",
      "  Attempting uninstall: sagemaker\n",
      "    Found existing installation: sagemaker 2.106.0\n",
      "    Uninstalling sagemaker-2.106.0:\n",
      "      Successfully uninstalled sagemaker-2.106.0\n",
      "\u001b[31mERROR: pip's dependency resolver does not currently take into account all the packages that are installed. This behaviour is the source of the following dependency conflicts.\n",
      "awscli 1.25.61 requires botocore==1.27.60, but you have botocore 1.27.64 which is incompatible.\n",
      "aiobotocore 2.0.1 requires botocore<1.22.9,>=1.22.8, but you have botocore 1.27.64 which is incompatible.\u001b[0m\u001b[31m\n",
      "\u001b[0mSuccessfully installed botocore-1.27.64 sagemaker-1.72.0 smdebug-rulesconfig-0.1.4\n",
      "\u001b[33mWARNING: You are using pip version 22.0.4; however, version 22.2.2 is available.\n",
      "You should consider upgrading via the '/home/ec2-user/anaconda3/envs/pytorch_p38/bin/python -m pip install --upgrade pip' command.\u001b[0m\u001b[33m\n",
      "\u001b[0m"
     ]
    }
   ],
   "source": [
    "# Make sure that we use SageMaker 1.x\n",
    "!pip install sagemaker==1.72.0"
   ]
  },
  {
   "cell_type": "markdown",
   "metadata": {},
   "source": [
    "## Step 1: Downloading the data\n",
    "\n",
    "The dataset we are going to use is very popular among researchers in Natural Language Processing, usually referred to as the [IMDb dataset](http://ai.stanford.edu/~amaas/data/sentiment/). It consists of movie reviews from the website [imdb.com](http://www.imdb.com/), each labeled as either '**pos**itive', if the reviewer enjoyed the film, or '**neg**ative' otherwise.\n",
    "\n",
    "> Maas, Andrew L., et al. [Learning Word Vectors for Sentiment Analysis](http://ai.stanford.edu/~amaas/data/sentiment/). In _Proceedings of the 49th Annual Meeting of the Association for Computational Linguistics: Human Language Technologies_. Association for Computational Linguistics, 2011.\n",
    "\n",
    "We begin by using some Jupyter Notebook magic to download and extract the dataset."
   ]
  },
  {
   "cell_type": "code",
   "execution_count": 2,
   "metadata": {},
   "outputs": [
    {
     "name": "stdout",
     "output_type": "stream",
     "text": [
      "mkdir: cannot create directory ‘../data’: File exists\n",
      "--2022-09-01 13:15:25--  http://ai.stanford.edu/~amaas/data/sentiment/aclImdb_v1.tar.gz\n",
      "Resolving ai.stanford.edu (ai.stanford.edu)... 171.64.68.10\n",
      "Connecting to ai.stanford.edu (ai.stanford.edu)|171.64.68.10|:80... connected.\n",
      "HTTP request sent, awaiting response... 200 OK\n",
      "Length: 84125825 (80M) [application/x-gzip]\n",
      "Saving to: ‘../data/aclImdb_v1.tar.gz’\n",
      "\n",
      "100%[======================================>] 84,125,825  22.5MB/s   in 5.6s   \n",
      "\n",
      "2022-09-01 13:15:31 (14.4 MB/s) - ‘../data/aclImdb_v1.tar.gz’ saved [84125825/84125825]\n",
      "\n"
     ]
    }
   ],
   "source": [
    "%mkdir ../data\n",
    "!wget -O ../data/aclImdb_v1.tar.gz http://ai.stanford.edu/~amaas/data/sentiment/aclImdb_v1.tar.gz\n",
    "!tar -zxf ../data/aclImdb_v1.tar.gz -C ../data"
   ]
  },
  {
   "cell_type": "markdown",
   "metadata": {},
   "source": [
    "## Step 2: Preparing and Processing the data\n",
    "\n",
    "The data we have downloaded is split into various files, each of which contains a single review. It will be much easier going forward if we combine these individual files into two large files, one for training and one for testing."
   ]
  },
  {
   "cell_type": "code",
   "execution_count": 3,
   "metadata": {},
   "outputs": [],
   "source": [
    "import os\n",
    "import glob\n",
    "\n",
    "def read_imdb_data(data_dir='../data/aclImdb'):\n",
    "    data = {}\n",
    "    labels = {}\n",
    "    \n",
    "    for data_type in ['train', 'test']:\n",
    "        data[data_type] = {}\n",
    "        labels[data_type] = {}\n",
    "        \n",
    "        for sentiment in ['pos', 'neg']:\n",
    "            data[data_type][sentiment] = []\n",
    "            labels[data_type][sentiment] = []\n",
    "            \n",
    "            path = os.path.join(data_dir, data_type, sentiment, '*.txt')\n",
    "            files = glob.glob(path)\n",
    "            \n",
    "            for f in files:\n",
    "                with open(f) as review:\n",
    "                    data[data_type][sentiment].append(review.read())\n",
    "                    # Here we represent a positive review by '1' and a negative review by '0'\n",
    "                    labels[data_type][sentiment].append(1 if sentiment == 'pos' else 0)\n",
    "                    \n",
    "            assert len(data[data_type][sentiment]) == len(labels[data_type][sentiment]), \\\n",
    "                    \"{}/{} data size does not match labels size\".format(data_type, sentiment)\n",
    "                \n",
    "    return data, labels"
   ]
  },
  {
   "cell_type": "code",
   "execution_count": 4,
   "metadata": {},
   "outputs": [
    {
     "name": "stdout",
     "output_type": "stream",
     "text": [
      "IMDB reviews: train = 12500 pos / 12500 neg, test = 12500 pos / 12500 neg\n"
     ]
    }
   ],
   "source": [
    "data, labels = read_imdb_data()\n",
    "print(\"IMDB reviews: train = {} pos / {} neg, test = {} pos / {} neg\".format(\n",
    "            len(data['train']['pos']), len(data['train']['neg']),\n",
    "            len(data['test']['pos']), len(data['test']['neg'])))"
   ]
  },
  {
   "cell_type": "code",
   "execution_count": 5,
   "metadata": {},
   "outputs": [],
   "source": [
    "from sklearn.utils import shuffle\n",
    "\n",
    "def prepare_imdb_data(data, labels):\n",
    "    \"\"\"Prepare training and test sets from IMDb movie reviews.\"\"\"\n",
    "    \n",
    "    #Combine positive and negative reviews and labels\n",
    "    data_train = data['train']['pos'] + data['train']['neg']\n",
    "    data_test = data['test']['pos'] + data['test']['neg']\n",
    "    labels_train = labels['train']['pos'] + labels['train']['neg']\n",
    "    labels_test = labels['test']['pos'] + labels['test']['neg']\n",
    "    \n",
    "    #Shuffle reviews and corresponding labels within training and test sets\n",
    "    data_train, labels_train = shuffle(data_train, labels_train)\n",
    "    data_test, labels_test = shuffle(data_test, labels_test)\n",
    "    \n",
    "    # Return a unified training data, test data, training labels, test labets\n",
    "    return data_train, data_test, labels_train, labels_test"
   ]
  },
  {
   "cell_type": "code",
   "execution_count": 6,
   "metadata": {},
   "outputs": [
    {
     "name": "stdout",
     "output_type": "stream",
     "text": [
      "IMDb reviews (combined): train = 25000, test = 25000\n"
     ]
    }
   ],
   "source": [
    "train_X, test_X, train_y, test_y = prepare_imdb_data(data, labels)\n",
    "print(\"IMDb reviews (combined): train = {}, test = {}\".format(len(train_X), len(test_X)))"
   ]
  },
  {
   "cell_type": "code",
   "execution_count": 7,
   "metadata": {},
   "outputs": [
    {
     "data": {
      "text/plain": [
       "\"One of my sisters friends lent me this game, and it is too damn hard! It carries the appearance of a kids game, but you have to learn how to do tons of intricate moves that require you to twist and turn your hands into all sorts of awkward positions, and you have to search seemingly endless levels for 100 notes, to improve your 'score'! You also have to find these impossibly hidden jigsaw puzzle pieces, that require you to do almost impossible tasks to get them! AND I AM ONLY UP TO STAGE THREE!!!!! Maybe if you have no life nad can stay home all the time you might get some enjoyment out of this, but otherwise keep away! AND IT IS DEFINATELY NOT RECOMMENDED FOR KIDS - THEY WILL PULL THEIR HAIR OUT WITHIN THE HOUR!\""
      ]
     },
     "execution_count": 7,
     "metadata": {},
     "output_type": "execute_result"
    }
   ],
   "source": [
    "train_X[100]"
   ]
  },
  {
   "cell_type": "markdown",
   "metadata": {},
   "source": [
    "## Processing the data\n",
    "\n",
    "Now that we have our training and testing datasets merged and ready to use, we need to start processing the raw data into something that will be useable by our machine learning algorithm. To begin with, we remove any html formatting and any non-alpha numeric characters that may appear in the reviews. We will do this in a very simplistic way using Python's regular expression module. We will discuss the reason for this rather simplistic pre-processing later on."
   ]
  },
  {
   "cell_type": "code",
   "execution_count": 8,
   "metadata": {},
   "outputs": [],
   "source": [
    "import re\n",
    "\n",
    "REPLACE_NO_SPACE = re.compile(\"(\\.)|(\\;)|(\\:)|(\\!)|(\\')|(\\?)|(\\,)|(\\\")|(\\()|(\\))|(\\[)|(\\])\")\n",
    "REPLACE_WITH_SPACE = re.compile(\"(<br\\s*/><br\\s*/>)|(\\-)|(\\/)\")\n",
    "\n",
    "def review_to_words(review):\n",
    "    words = REPLACE_NO_SPACE.sub(\"\", review.lower())\n",
    "    words = REPLACE_WITH_SPACE.sub(\" \", words)\n",
    "    return words"
   ]
  },
  {
   "cell_type": "code",
   "execution_count": 9,
   "metadata": {},
   "outputs": [
    {
     "data": {
      "text/plain": [
       "'one of my sisters friends lent me this game and it is too damn hard it carries the appearance of a kids game but you have to learn how to do tons of intricate moves that require you to twist and turn your hands into all sorts of awkward positions and you have to search seemingly endless levels for 100 notes to improve your score you also have to find these impossibly hidden jigsaw puzzle pieces that require you to do almost impossible tasks to get them and i am only up to stage three maybe if you have no life nad can stay home all the time you might get some enjoyment out of this but otherwise keep away and it is definately not recommended for kids   they will pull their hair out within the hour'"
      ]
     },
     "execution_count": 9,
     "metadata": {},
     "output_type": "execute_result"
    }
   ],
   "source": [
    "review_to_words(train_X[100])"
   ]
  },
  {
   "cell_type": "code",
   "execution_count": 10,
   "metadata": {},
   "outputs": [],
   "source": [
    "import pickle\n",
    "\n",
    "cache_dir = os.path.join(\"../cache\", \"sentiment_web_app\")  # where to store cache files\n",
    "os.makedirs(cache_dir, exist_ok=True)  # ensure cache directory exists\n",
    "\n",
    "def preprocess_data(data_train, data_test, labels_train, labels_test,\n",
    "                    cache_dir=cache_dir, cache_file=\"preprocessed_data.pkl\"):\n",
    "    \"\"\"Convert each review to words; read from cache if available.\"\"\"\n",
    "\n",
    "    # If cache_file is not None, try to read from it first\n",
    "    cache_data = None\n",
    "    if cache_file is not None:\n",
    "        try:\n",
    "            with open(os.path.join(cache_dir, cache_file), \"rb\") as f:\n",
    "                cache_data = pickle.load(f)\n",
    "            print(\"Read preprocessed data from cache file:\", cache_file)\n",
    "        except:\n",
    "            pass  # unable to read from cache, but that's okay\n",
    "    \n",
    "    # If cache is missing, then do the heavy lifting\n",
    "    if cache_data is None:\n",
    "        # Preprocess training and test data to obtain words for each review\n",
    "        #words_train = list(map(review_to_words, data_train))\n",
    "        #words_test = list(map(review_to_words, data_test))\n",
    "        words_train = [review_to_words(review) for review in data_train]\n",
    "        words_test = [review_to_words(review) for review in data_test]\n",
    "        \n",
    "        # Write to cache file for future runs\n",
    "        if cache_file is not None:\n",
    "            cache_data = dict(words_train=words_train, words_test=words_test,\n",
    "                              labels_train=labels_train, labels_test=labels_test)\n",
    "            with open(os.path.join(cache_dir, cache_file), \"wb\") as f:\n",
    "                pickle.dump(cache_data, f)\n",
    "            print(\"Wrote preprocessed data to cache file:\", cache_file)\n",
    "    else:\n",
    "        # Unpack data loaded from cache file\n",
    "        words_train, words_test, labels_train, labels_test = (cache_data['words_train'],\n",
    "                cache_data['words_test'], cache_data['labels_train'], cache_data['labels_test'])\n",
    "    \n",
    "    return words_train, words_test, labels_train, labels_test"
   ]
  },
  {
   "cell_type": "code",
   "execution_count": 11,
   "metadata": {},
   "outputs": [
    {
     "name": "stdout",
     "output_type": "stream",
     "text": [
      "Read preprocessed data from cache file: preprocessed_data.pkl\n"
     ]
    }
   ],
   "source": [
    "# Preprocess data\n",
    "train_X, test_X, train_y, test_y = preprocess_data(train_X, test_X, train_y, test_y)"
   ]
  },
  {
   "cell_type": "markdown",
   "metadata": {},
   "source": [
    "### Extract Bag-of-Words features\n",
    "\n",
    "For the model we will be implementing, rather than using the reviews directly, we are going to transform each review into a Bag-of-Words feature representation. Keep in mind that 'in the wild' we will only have access to the training set so our transformer can only use the training set to construct a representation."
   ]
  },
  {
   "cell_type": "code",
   "execution_count": 12,
   "metadata": {},
   "outputs": [],
   "source": [
    "import numpy as np\n",
    "from sklearn.feature_extraction.text import CountVectorizer\n",
    "\n",
    "# sklearn.externals.joblib is deprecated in 0.21 and will be removed in 0.23. \n",
    "# from sklearn.externals import joblib\n",
    "\n",
    "# Import joblib package directly\n",
    "import joblib\n",
    "# joblib is an enhanced version of pickle that is more efficient for storing NumPy arrays\n",
    "\n",
    "def extract_BoW_features(words_train, words_test, vocabulary_size=5000,\n",
    "                         cache_dir=cache_dir, cache_file=\"bow_features.pkl\"):\n",
    "    \"\"\"Extract Bag-of-Words for a given set of documents, already preprocessed into words.\"\"\"\n",
    "    \n",
    "    # If cache_file is not None, try to read from it first\n",
    "    cache_data = None\n",
    "    if cache_file is not None:\n",
    "        try:\n",
    "            with open(os.path.join(cache_dir, cache_file), \"rb\") as f:\n",
    "                cache_data = joblib.load(f)\n",
    "            print(\"Read features from cache file:\", cache_file)\n",
    "        except:\n",
    "            pass  # unable to read from cache, but that's okay\n",
    "    \n",
    "    # If cache is missing, then do the heavy lifting\n",
    "    if cache_data is None:\n",
    "        # Fit a vectorizer to training documents and use it to transform them\n",
    "        # NOTE: Training documents have already been preprocessed and tokenized into words;\n",
    "        #       pass in dummy functions to skip those steps, e.g. preprocessor=lambda x: x\n",
    "        vectorizer = CountVectorizer(max_features=vocabulary_size)\n",
    "        features_train = vectorizer.fit_transform(words_train).toarray()\n",
    "\n",
    "        # Apply the same vectorizer to transform the test documents (ignore unknown words)\n",
    "        features_test = vectorizer.transform(words_test).toarray()\n",
    "        \n",
    "        # NOTE: Remember to convert the features using .toarray() for a compact representation\n",
    "        \n",
    "        # Write to cache file for future runs (store vocabulary as well)\n",
    "        if cache_file is not None:\n",
    "            vocabulary = vectorizer.vocabulary_\n",
    "            cache_data = dict(features_train=features_train, features_test=features_test,\n",
    "                             vocabulary=vocabulary)\n",
    "            with open(os.path.join(cache_dir, cache_file), \"wb\") as f:\n",
    "                joblib.dump(cache_data, f)\n",
    "            print(\"Wrote features to cache file:\", cache_file)\n",
    "    else:\n",
    "        # Unpack data loaded from cache file\n",
    "        features_train, features_test, vocabulary = (cache_data['features_train'],\n",
    "                cache_data['features_test'], cache_data['vocabulary'])\n",
    "    \n",
    "    # Return both the extracted features as well as the vocabulary\n",
    "    return features_train, features_test, vocabulary"
   ]
  },
  {
   "cell_type": "code",
   "execution_count": 13,
   "metadata": {},
   "outputs": [
    {
     "name": "stdout",
     "output_type": "stream",
     "text": [
      "Read features from cache file: bow_features.pkl\n"
     ]
    }
   ],
   "source": [
    "# Extract Bag of Words features for both training and test datasets\n",
    "train_X, test_X, vocabulary = extract_BoW_features(train_X, test_X)"
   ]
  },
  {
   "cell_type": "code",
   "execution_count": 14,
   "metadata": {},
   "outputs": [
    {
     "data": {
      "text/plain": [
       "5000"
      ]
     },
     "execution_count": 14,
     "metadata": {},
     "output_type": "execute_result"
    }
   ],
   "source": [
    "len(train_X[100])"
   ]
  },
  {
   "cell_type": "markdown",
   "metadata": {},
   "source": [
    "## Step 3: Upload data to S3\n",
    "\n",
    "Now that we have created the feature representation of our training (and testing) data, it is time to start setting up and using the XGBoost classifier provided by SageMaker.\n",
    "\n",
    "### Writing the datasets\n",
    "\n",
    "The XGBoost classifier that we will be using requires the dataset to be written to a file and stored using Amazon S3. To do this, we will start by splitting the training dataset into two parts, the data we will train the model with and a validation set. Then, we will write those datasets to a file locally and then upload the files to S3. In addition, we will write the test set to a file and upload that file to S3. This is so that we can use SageMakers Batch Transform functionality to test our model once we've fit it."
   ]
  },
  {
   "cell_type": "code",
   "execution_count": 15,
   "metadata": {},
   "outputs": [],
   "source": [
    "import pandas as pd\n",
    "\n",
    "# Earlier we shuffled the training dataset so to make things simple we can just assign\n",
    "# the first 10 000 reviews to the validation set and use the remaining reviews for training.\n",
    "val_X = pd.DataFrame(train_X[:10000])\n",
    "train_X = pd.DataFrame(train_X[10000:])\n",
    "\n",
    "val_y = pd.DataFrame(train_y[:10000])\n",
    "train_y = pd.DataFrame(train_y[10000:])"
   ]
  },
  {
   "cell_type": "markdown",
   "metadata": {},
   "source": [
    "The documentation for the XGBoost algorithm in SageMaker requires that the training and validation datasets should contain no headers or index and that the label should occur first for each sample.\n",
    "\n",
    "For more information about this and other algorithms, the SageMaker developer documentation can be found on __[Amazon's website.](https://docs.aws.amazon.com/sagemaker/latest/dg/)__"
   ]
  },
  {
   "cell_type": "code",
   "execution_count": 16,
   "metadata": {},
   "outputs": [],
   "source": [
    "# First we make sure that the local directory in which we'd like to store the training and validation csv files exists.\n",
    "data_dir = '../data/sentiment_web_app'\n",
    "if not os.path.exists(data_dir):\n",
    "    os.makedirs(data_dir)"
   ]
  },
  {
   "cell_type": "code",
   "execution_count": 17,
   "metadata": {},
   "outputs": [],
   "source": [
    "pd.DataFrame(test_X).to_csv(os.path.join(data_dir, 'test.csv'), header=False, index=False)\n",
    "\n",
    "pd.concat([val_y, val_X], axis=1).to_csv(os.path.join(data_dir, 'validation.csv'), header=False, index=False)\n",
    "pd.concat([train_y, train_X], axis=1).to_csv(os.path.join(data_dir, 'train.csv'), header=False, index=False)"
   ]
  },
  {
   "cell_type": "code",
   "execution_count": 18,
   "metadata": {},
   "outputs": [],
   "source": [
    "# To save a bit of memory we can set text_X, train_X, val_X, train_y and val_y to None.\n",
    "\n",
    "test_X = train_X = val_X = train_y = val_y = None"
   ]
  },
  {
   "cell_type": "markdown",
   "metadata": {},
   "source": [
    "### Uploading Training / Validation files to S3\n",
    "\n",
    "Amazon's S3 service allows us to store files that can be accessed by both the built-in training models such as the XGBoost model we will be using as well as custom models such as the one we will see a little later.\n",
    "\n",
    "For this and most other tasks we will be doing using SageMaker, there are two methods we could use. The first is to use the low level functionality of SageMaker which requires knowing each of the objects involved in the SageMaker environment. The second is to use the high level functionality in which certain choices have been made on the user's behalf. The low level approach benefits from allowing the user a great deal of flexibility while the high level approach makes development much quicker. For our purposes we will opt to use the high level approach although using the low-level approach is certainly an option.\n",
    "\n",
    "Recall the method `upload_data()` which is a member of the object representing our current SageMaker session. What this method does is upload the data to the default bucket (which is created if it does not exist) into the path described by the key_prefix variable. To see this for yourself, once you have uploaded the data files, go to the S3 console and look to see where the files have been uploaded.\n",
    "\n",
    "For additional resources, see the __[SageMaker API documentation](http://sagemaker.readthedocs.io/en/latest/)__ and in addition the __[SageMaker Developer Guide.](https://docs.aws.amazon.com/sagemaker/latest/dg/)__"
   ]
  },
  {
   "cell_type": "code",
   "execution_count": 19,
   "metadata": {},
   "outputs": [],
   "source": [
    "import sagemaker\n",
    "\n",
    "session = sagemaker.Session() # Store the current SageMaker session\n",
    "\n",
    "# S3 prefix (which folder will we use)\n",
    "prefix = 'sentiment-web-app'\n",
    "\n",
    "test_location = session.upload_data(os.path.join(data_dir, 'test.csv'), key_prefix=prefix)\n",
    "val_location = session.upload_data(os.path.join(data_dir, 'validation.csv'), key_prefix=prefix)\n",
    "train_location = session.upload_data(os.path.join(data_dir, 'train.csv'), key_prefix=prefix)"
   ]
  },
  {
   "cell_type": "markdown",
   "metadata": {},
   "source": [
    "## Step 4: Creating the XGBoost model\n",
    "\n",
    "Now that the data has been uploaded it is time to create the XGBoost model. To begin with, we need to do some setup. At this point it is worth discussing what a model is in SageMaker. It is easiest to think of a model of comprising three different objects in the SageMaker ecosystem, which interact with one another.\n",
    "\n",
    "- Model Artifacts\n",
    "- Training Code (Container)\n",
    "- Inference Code (Container)\n",
    "\n",
    "The Model Artifacts are what you might think of as the actual model itself. For example, if you were building a neural network, the model artifacts would be the weights of the various layers. In our case, for an XGBoost model, the artifacts are the actual trees that are created during training.\n",
    "\n",
    "The other two objects, the training code and the inference code are then used to manipulate the training artifacts. More precisely, the training code uses the training data that is provided and creates the model artifacts, while the inference code uses the model artifacts to make predictions on new data.\n",
    "\n",
    "The way that SageMaker runs the training and inference code is by making use of Docker containers. For now, think of a container as being a way of packaging code up so that dependencies aren't an issue."
   ]
  },
  {
   "cell_type": "code",
   "execution_count": 20,
   "metadata": {},
   "outputs": [],
   "source": [
    "from sagemaker import get_execution_role\n",
    "\n",
    "# Our current execution role is required when creating the model as the training\n",
    "# and inference code will need to access the model artifacts.\n",
    "role = get_execution_role()"
   ]
  },
  {
   "cell_type": "code",
   "execution_count": 21,
   "metadata": {},
   "outputs": [
    {
     "name": "stderr",
     "output_type": "stream",
     "text": [
      "'get_image_uri' method will be deprecated in favor of 'ImageURIProvider' class in SageMaker Python SDK v2.\n",
      "There is a more up to date SageMaker XGBoost image. To use the newer image, please set 'repo_version'='1.0-1'. For example:\n",
      "\tget_image_uri(region, 'xgboost', '1.0-1').\n"
     ]
    }
   ],
   "source": [
    "# We need to retrieve the location of the container which is provided by Amazon for using XGBoost.\n",
    "# As a matter of convenience, the training and inference code both use the same container.\n",
    "from sagemaker.amazon.amazon_estimator import get_image_uri\n",
    "\n",
    "container = get_image_uri(session.boto_region_name, 'xgboost')"
   ]
  },
  {
   "cell_type": "code",
   "execution_count": 22,
   "metadata": {},
   "outputs": [
    {
     "name": "stderr",
     "output_type": "stream",
     "text": [
      "Parameter image_name will be renamed to image_uri in SageMaker Python SDK v2.\n"
     ]
    }
   ],
   "source": [
    "# First we create a SageMaker estimator object for our model.\n",
    "xgb = sagemaker.estimator.Estimator(container, # The location of the container we wish to use\n",
    "                                    role,                                    # What is our current IAM Role\n",
    "                                    train_instance_count=1,                  # How many compute instances\n",
    "                                    train_instance_type='ml.m4.xlarge',      # What kind of compute instances\n",
    "                                    output_path='s3://{}/{}/output'.format(session.default_bucket(), prefix),\n",
    "                                    sagemaker_session=session)\n",
    "\n",
    "# And then set the algorithm specific parameters.\n",
    "xgb.set_hyperparameters(max_depth=5,\n",
    "                        eta=0.2,\n",
    "                        gamma=4,\n",
    "                        min_child_weight=6,\n",
    "                        subsample=0.8,\n",
    "                        silent=0,\n",
    "                        objective='binary:logistic',\n",
    "                        early_stopping_rounds=10,\n",
    "                        num_round=500)"
   ]
  },
  {
   "cell_type": "markdown",
   "metadata": {},
   "source": [
    "### Fit the XGBoost model\n",
    "\n",
    "Now that our model has been set up we simply need to attach the training and validation datasets and then ask SageMaker to set up the computation."
   ]
  },
  {
   "cell_type": "code",
   "execution_count": 23,
   "metadata": {},
   "outputs": [
    {
     "name": "stderr",
     "output_type": "stream",
     "text": [
      "'s3_input' class will be renamed to 'TrainingInput' in SageMaker Python SDK v2.\n",
      "'s3_input' class will be renamed to 'TrainingInput' in SageMaker Python SDK v2.\n"
     ]
    }
   ],
   "source": [
    "s3_input_train = sagemaker.s3_input(s3_data=train_location, content_type='csv')\n",
    "s3_input_validation = sagemaker.s3_input(s3_data=val_location, content_type='csv')"
   ]
  },
  {
   "cell_type": "code",
   "execution_count": 24,
   "metadata": {},
   "outputs": [
    {
     "name": "stdout",
     "output_type": "stream",
     "text": [
      "2022-09-01 13:19:35 Starting - Starting the training job......\n",
      "2022-09-01 13:20:13 Starting - Preparing the instances for training.........\n",
      "2022-09-01 13:21:43 Downloading - Downloading input data...\n",
      "2022-09-01 13:22:34 Training - Downloading the training image......\n",
      "2022-09-01 13:23:29 Training - Training image download completed. Training in progress..\u001b[34mArguments: train\u001b[0m\n",
      "\u001b[34m[2022-09-01:13:23:33:INFO] Running standalone xgboost training.\u001b[0m\n",
      "\u001b[34m[2022-09-01:13:23:33:INFO] File size need to be processed in the node: 238.5mb. Available memory size in the node: 8800.08mb\u001b[0m\n",
      "\u001b[34m[2022-09-01:13:23:33:INFO] Determined delimiter of CSV input is ','\u001b[0m\n",
      "\u001b[34m[13:23:33] S3DistributionType set as FullyReplicated\u001b[0m\n",
      "\u001b[34m[13:23:35] 15000x5000 matrix with 75000000 entries loaded from /opt/ml/input/data/train?format=csv&label_column=0&delimiter=,\u001b[0m\n",
      "\u001b[34m[2022-09-01:13:23:35:INFO] Determined delimiter of CSV input is ','\u001b[0m\n",
      "\u001b[34m[13:23:35] S3DistributionType set as FullyReplicated\u001b[0m\n",
      "\u001b[34m[13:23:37] 10000x5000 matrix with 50000000 entries loaded from /opt/ml/input/data/validation?format=csv&label_column=0&delimiter=,\u001b[0m\n",
      "\u001b[34m[13:23:42] src/tree/updater_prune.cc:74: tree pruning end, 1 roots, 38 extra nodes, 8 pruned nodes, max_depth=5\u001b[0m\n",
      "\u001b[34m[0]#011train-error:0.308533#011validation-error:0.3052\u001b[0m\n",
      "\u001b[34mMultiple eval metrics have been passed: 'validation-error' will be used for early stopping.\u001b[0m\n",
      "\u001b[34mWill train until validation-error hasn't improved in 10 rounds.\u001b[0m\n",
      "\u001b[34m[13:23:44] src/tree/updater_prune.cc:74: tree pruning end, 1 roots, 42 extra nodes, 8 pruned nodes, max_depth=5\u001b[0m\n",
      "\u001b[34m[1]#011train-error:0.291467#011validation-error:0.294\u001b[0m\n",
      "\u001b[34m[13:23:46] src/tree/updater_prune.cc:74: tree pruning end, 1 roots, 38 extra nodes, 6 pruned nodes, max_depth=5\u001b[0m\n",
      "\u001b[34m[2]#011train-error:0.2858#011validation-error:0.2902\u001b[0m\n",
      "\u001b[34m[13:23:48] src/tree/updater_prune.cc:74: tree pruning end, 1 roots, 32 extra nodes, 0 pruned nodes, max_depth=5\u001b[0m\n",
      "\u001b[34m[3]#011train-error:0.277133#011validation-error:0.2814\u001b[0m\n",
      "\u001b[34m[13:23:49] src/tree/updater_prune.cc:74: tree pruning end, 1 roots, 40 extra nodes, 10 pruned nodes, max_depth=5\u001b[0m\n",
      "\u001b[34m[4]#011train-error:0.2562#011validation-error:0.2676\u001b[0m\n",
      "\u001b[34m[13:23:52] src/tree/updater_prune.cc:74: tree pruning end, 1 roots, 30 extra nodes, 2 pruned nodes, max_depth=5\u001b[0m\n",
      "\u001b[34m[5]#011train-error:0.257467#011validation-error:0.2702\u001b[0m\n",
      "\u001b[34m[13:23:54] src/tree/updater_prune.cc:74: tree pruning end, 1 roots, 40 extra nodes, 2 pruned nodes, max_depth=5\u001b[0m\n",
      "\u001b[34m[6]#011train-error:0.243133#011validation-error:0.2584\u001b[0m\n",
      "\u001b[34m[13:23:56] src/tree/updater_prune.cc:74: tree pruning end, 1 roots, 38 extra nodes, 8 pruned nodes, max_depth=5\u001b[0m\n",
      "\u001b[34m[7]#011train-error:0.2352#011validation-error:0.2526\u001b[0m\n",
      "\u001b[34m[13:23:58] src/tree/updater_prune.cc:74: tree pruning end, 1 roots, 26 extra nodes, 8 pruned nodes, max_depth=5\u001b[0m\n",
      "\u001b[34m[8]#011train-error:0.233333#011validation-error:0.2487\u001b[0m\n",
      "\u001b[34m[13:24:00] src/tree/updater_prune.cc:74: tree pruning end, 1 roots, 42 extra nodes, 4 pruned nodes, max_depth=5\u001b[0m\n",
      "\u001b[34m[9]#011train-error:0.226467#011validation-error:0.2431\u001b[0m\n",
      "\u001b[34m[13:24:02] src/tree/updater_prune.cc:74: tree pruning end, 1 roots, 34 extra nodes, 6 pruned nodes, max_depth=5\u001b[0m\n",
      "\u001b[34m[10]#011train-error:0.222267#011validation-error:0.2414\u001b[0m\n",
      "\u001b[34m[13:24:04] src/tree/updater_prune.cc:74: tree pruning end, 1 roots, 26 extra nodes, 14 pruned nodes, max_depth=5\u001b[0m\n",
      "\u001b[34m[11]#011train-error:0.219867#011validation-error:0.2392\u001b[0m\n",
      "\u001b[34m[13:24:06] src/tree/updater_prune.cc:74: tree pruning end, 1 roots, 28 extra nodes, 6 pruned nodes, max_depth=5\u001b[0m\n",
      "\u001b[34m[12]#011train-error:0.212867#011validation-error:0.2315\u001b[0m\n",
      "\u001b[34m[13:24:08] src/tree/updater_prune.cc:74: tree pruning end, 1 roots, 40 extra nodes, 4 pruned nodes, max_depth=5\u001b[0m\n",
      "\u001b[34m[13]#011train-error:0.206133#011validation-error:0.229\u001b[0m\n",
      "\u001b[34m[13:24:10] src/tree/updater_prune.cc:74: tree pruning end, 1 roots, 30 extra nodes, 8 pruned nodes, max_depth=5\u001b[0m\n",
      "\u001b[34m[14]#011train-error:0.202867#011validation-error:0.226\u001b[0m\n",
      "\u001b[34m[13:24:13] src/tree/updater_prune.cc:74: tree pruning end, 1 roots, 26 extra nodes, 10 pruned nodes, max_depth=5\u001b[0m\n",
      "\u001b[34m[15]#011train-error:0.201133#011validation-error:0.2241\u001b[0m\n",
      "\u001b[34m[13:24:14] src/tree/updater_prune.cc:74: tree pruning end, 1 roots, 28 extra nodes, 10 pruned nodes, max_depth=5\u001b[0m\n",
      "\u001b[34m[16]#011train-error:0.1958#011validation-error:0.2211\u001b[0m\n",
      "\u001b[34m[13:24:16] src/tree/updater_prune.cc:74: tree pruning end, 1 roots, 34 extra nodes, 6 pruned nodes, max_depth=5\u001b[0m\n",
      "\u001b[34m[17]#011train-error:0.192467#011validation-error:0.2185\u001b[0m\n",
      "\u001b[34m[13:24:18] src/tree/updater_prune.cc:74: tree pruning end, 1 roots, 28 extra nodes, 8 pruned nodes, max_depth=5\u001b[0m\n",
      "\u001b[34m[18]#011train-error:0.187267#011validation-error:0.2143\u001b[0m\n",
      "\u001b[34m[13:24:20] src/tree/updater_prune.cc:74: tree pruning end, 1 roots, 24 extra nodes, 10 pruned nodes, max_depth=5\u001b[0m\n",
      "\u001b[34m[19]#011train-error:0.186867#011validation-error:0.2138\u001b[0m\n",
      "\u001b[34m[13:24:21] src/tree/updater_prune.cc:74: tree pruning end, 1 roots, 28 extra nodes, 12 pruned nodes, max_depth=5\u001b[0m\n",
      "\u001b[34m[20]#011train-error:0.185533#011validation-error:0.2114\u001b[0m\n",
      "\u001b[34m[13:24:23] src/tree/updater_prune.cc:74: tree pruning end, 1 roots, 28 extra nodes, 8 pruned nodes, max_depth=5\u001b[0m\n",
      "\u001b[34m[21]#011train-error:0.182067#011validation-error:0.2116\u001b[0m\n",
      "\u001b[34m[13:24:25] src/tree/updater_prune.cc:74: tree pruning end, 1 roots, 28 extra nodes, 8 pruned nodes, max_depth=5\u001b[0m\n",
      "\u001b[34m[22]#011train-error:0.180867#011validation-error:0.2101\u001b[0m\n",
      "\u001b[34m[13:24:27] src/tree/updater_prune.cc:74: tree pruning end, 1 roots, 40 extra nodes, 8 pruned nodes, max_depth=5\u001b[0m\n",
      "\u001b[34m[23]#011train-error:0.181133#011validation-error:0.2054\u001b[0m\n",
      "\u001b[34m[13:24:29] src/tree/updater_prune.cc:74: tree pruning end, 1 roots, 38 extra nodes, 2 pruned nodes, max_depth=5\u001b[0m\n",
      "\u001b[34m[24]#011train-error:0.177333#011validation-error:0.2027\u001b[0m\n",
      "\u001b[34m[13:24:31] src/tree/updater_prune.cc:74: tree pruning end, 1 roots, 30 extra nodes, 8 pruned nodes, max_depth=5\u001b[0m\n",
      "\u001b[34m[25]#011train-error:0.175867#011validation-error:0.2003\u001b[0m\n",
      "\u001b[34m[13:24:33] src/tree/updater_prune.cc:74: tree pruning end, 1 roots, 22 extra nodes, 8 pruned nodes, max_depth=5\u001b[0m\n",
      "\u001b[34m[26]#011train-error:0.173133#011validation-error:0.1995\u001b[0m\n",
      "\u001b[34m[13:24:35] src/tree/updater_prune.cc:74: tree pruning end, 1 roots, 32 extra nodes, 4 pruned nodes, max_depth=5\u001b[0m\n",
      "\u001b[34m[27]#011train-error:0.170867#011validation-error:0.1995\u001b[0m\n",
      "\u001b[34m[13:24:37] src/tree/updater_prune.cc:74: tree pruning end, 1 roots, 24 extra nodes, 12 pruned nodes, max_depth=5\u001b[0m\n",
      "\u001b[34m[28]#011train-error:0.168867#011validation-error:0.1985\u001b[0m\n",
      "\u001b[34m[13:24:39] src/tree/updater_prune.cc:74: tree pruning end, 1 roots, 42 extra nodes, 6 pruned nodes, max_depth=5\u001b[0m\n",
      "\u001b[34m[29]#011train-error:0.1672#011validation-error:0.1984\u001b[0m\n",
      "\u001b[34m[13:24:41] src/tree/updater_prune.cc:74: tree pruning end, 1 roots, 44 extra nodes, 6 pruned nodes, max_depth=5\u001b[0m\n",
      "\u001b[34m[30]#011train-error:0.164067#011validation-error:0.1961\u001b[0m\n",
      "\u001b[34m[13:24:43] src/tree/updater_prune.cc:74: tree pruning end, 1 roots, 20 extra nodes, 6 pruned nodes, max_depth=5\u001b[0m\n",
      "\u001b[34m[31]#011train-error:0.161533#011validation-error:0.1956\u001b[0m\n",
      "\u001b[34m[13:24:45] src/tree/updater_prune.cc:74: tree pruning end, 1 roots, 22 extra nodes, 8 pruned nodes, max_depth=5\u001b[0m\n",
      "\u001b[34m[32]#011train-error:0.159933#011validation-error:0.1959\u001b[0m\n",
      "\u001b[34m[13:24:47] src/tree/updater_prune.cc:74: tree pruning end, 1 roots, 18 extra nodes, 10 pruned nodes, max_depth=5\u001b[0m\n",
      "\u001b[34m[33]#011train-error:0.1584#011validation-error:0.1943\u001b[0m\n",
      "\u001b[34m[13:24:49] src/tree/updater_prune.cc:74: tree pruning end, 1 roots, 16 extra nodes, 8 pruned nodes, max_depth=5\u001b[0m\n",
      "\u001b[34m[34]#011train-error:0.155867#011validation-error:0.1922\u001b[0m\n",
      "\u001b[34m[13:24:51] src/tree/updater_prune.cc:74: tree pruning end, 1 roots, 22 extra nodes, 10 pruned nodes, max_depth=5\u001b[0m\n",
      "\u001b[34m[35]#011train-error:0.1552#011validation-error:0.1917\u001b[0m\n",
      "\u001b[34m[13:24:53] src/tree/updater_prune.cc:74: tree pruning end, 1 roots, 40 extra nodes, 6 pruned nodes, max_depth=5\u001b[0m\n",
      "\u001b[34m[36]#011train-error:0.1532#011validation-error:0.1879\u001b[0m\n",
      "\u001b[34m[13:24:55] src/tree/updater_prune.cc:74: tree pruning end, 1 roots, 30 extra nodes, 10 pruned nodes, max_depth=5\u001b[0m\n",
      "\u001b[34m[37]#011train-error:0.1502#011validation-error:0.1877\u001b[0m\n",
      "\u001b[34m[13:24:57] src/tree/updater_prune.cc:74: tree pruning end, 1 roots, 22 extra nodes, 16 pruned nodes, max_depth=5\u001b[0m\n",
      "\u001b[34m[38]#011train-error:0.149467#011validation-error:0.1876\u001b[0m\n",
      "\u001b[34m[13:24:59] src/tree/updater_prune.cc:74: tree pruning end, 1 roots, 24 extra nodes, 12 pruned nodes, max_depth=5\u001b[0m\n",
      "\u001b[34m[39]#011train-error:0.147533#011validation-error:0.1865\u001b[0m\n",
      "\u001b[34m[13:25:01] src/tree/updater_prune.cc:74: tree pruning end, 1 roots, 14 extra nodes, 8 pruned nodes, max_depth=5\u001b[0m\n",
      "\u001b[34m[40]#011train-error:0.146933#011validation-error:0.1847\u001b[0m\n",
      "\u001b[34m[13:25:03] src/tree/updater_prune.cc:74: tree pruning end, 1 roots, 24 extra nodes, 2 pruned nodes, max_depth=5\u001b[0m\n",
      "\u001b[34m[41]#011train-error:0.145#011validation-error:0.1842\u001b[0m\n",
      "\u001b[34m[13:25:05] src/tree/updater_prune.cc:74: tree pruning end, 1 roots, 18 extra nodes, 2 pruned nodes, max_depth=5\u001b[0m\n",
      "\u001b[34m[42]#011train-error:0.1436#011validation-error:0.1832\u001b[0m\n",
      "\u001b[34m[13:25:07] src/tree/updater_prune.cc:74: tree pruning end, 1 roots, 34 extra nodes, 6 pruned nodes, max_depth=5\u001b[0m\n",
      "\u001b[34m[43]#011train-error:0.1422#011validation-error:0.1815\u001b[0m\n",
      "\u001b[34m[13:25:08] src/tree/updater_prune.cc:74: tree pruning end, 1 roots, 24 extra nodes, 8 pruned nodes, max_depth=5\u001b[0m\n",
      "\u001b[34m[44]#011train-error:0.140933#011validation-error:0.1803\u001b[0m\n",
      "\u001b[34m[13:25:10] src/tree/updater_prune.cc:74: tree pruning end, 1 roots, 24 extra nodes, 8 pruned nodes, max_depth=5\u001b[0m\n",
      "\u001b[34m[45]#011train-error:0.140467#011validation-error:0.1808\u001b[0m\n",
      "\u001b[34m[13:25:12] src/tree/updater_prune.cc:74: tree pruning end, 1 roots, 22 extra nodes, 8 pruned nodes, max_depth=5\u001b[0m\n",
      "\u001b[34m[46]#011train-error:0.1398#011validation-error:0.1798\u001b[0m\n",
      "\u001b[34m[13:25:14] src/tree/updater_prune.cc:74: tree pruning end, 1 roots, 20 extra nodes, 16 pruned nodes, max_depth=5\u001b[0m\n",
      "\u001b[34m[47]#011train-error:0.139333#011validation-error:0.178\u001b[0m\n",
      "\u001b[34m[13:25:16] src/tree/updater_prune.cc:74: tree pruning end, 1 roots, 14 extra nodes, 10 pruned nodes, max_depth=5\u001b[0m\n",
      "\u001b[34m[48]#011train-error:0.138267#011validation-error:0.1774\u001b[0m\n",
      "\u001b[34m[13:25:18] src/tree/updater_prune.cc:74: tree pruning end, 1 roots, 32 extra nodes, 10 pruned nodes, max_depth=5\u001b[0m\n",
      "\u001b[34m[49]#011train-error:0.1372#011validation-error:0.1753\u001b[0m\n",
      "\u001b[34m[13:25:20] src/tree/updater_prune.cc:74: tree pruning end, 1 roots, 18 extra nodes, 6 pruned nodes, max_depth=5\u001b[0m\n",
      "\u001b[34m[50]#011train-error:0.137533#011validation-error:0.1754\u001b[0m\n",
      "\u001b[34m[13:25:22] src/tree/updater_prune.cc:74: tree pruning end, 1 roots, 16 extra nodes, 12 pruned nodes, max_depth=5\u001b[0m\n",
      "\u001b[34m[51]#011train-error:0.137667#011validation-error:0.1754\u001b[0m\n",
      "\u001b[34m[13:25:24] src/tree/updater_prune.cc:74: tree pruning end, 1 roots, 30 extra nodes, 12 pruned nodes, max_depth=5\u001b[0m\n",
      "\u001b[34m[52]#011train-error:0.135733#011validation-error:0.1751\u001b[0m\n",
      "\u001b[34m[13:25:26] src/tree/updater_prune.cc:74: tree pruning end, 1 roots, 28 extra nodes, 4 pruned nodes, max_depth=5\u001b[0m\n",
      "\u001b[34m[53]#011train-error:0.134733#011validation-error:0.1744\u001b[0m\n",
      "\u001b[34m[13:25:28] src/tree/updater_prune.cc:74: tree pruning end, 1 roots, 12 extra nodes, 14 pruned nodes, max_depth=5\u001b[0m\n",
      "\u001b[34m[54]#011train-error:0.1342#011validation-error:0.1735\u001b[0m\n",
      "\u001b[34m[13:25:29] src/tree/updater_prune.cc:74: tree pruning end, 1 roots, 30 extra nodes, 12 pruned nodes, max_depth=5\u001b[0m\n",
      "\u001b[34m[55]#011train-error:0.132733#011validation-error:0.1729\u001b[0m\n",
      "\u001b[34m[13:25:31] src/tree/updater_prune.cc:74: tree pruning end, 1 roots, 14 extra nodes, 6 pruned nodes, max_depth=5\u001b[0m\n",
      "\u001b[34m[56]#011train-error:0.131#011validation-error:0.1731\u001b[0m\n",
      "\u001b[34m[13:25:34] src/tree/updater_prune.cc:74: tree pruning end, 1 roots, 16 extra nodes, 12 pruned nodes, max_depth=5\u001b[0m\n",
      "\u001b[34m[57]#011train-error:0.1314#011validation-error:0.1714\u001b[0m\n",
      "\u001b[34m[13:25:36] src/tree/updater_prune.cc:74: tree pruning end, 1 roots, 26 extra nodes, 12 pruned nodes, max_depth=5\u001b[0m\n",
      "\u001b[34m[58]#011train-error:0.130267#011validation-error:0.1701\u001b[0m\n",
      "\u001b[34m[13:25:38] src/tree/updater_prune.cc:74: tree pruning end, 1 roots, 24 extra nodes, 0 pruned nodes, max_depth=5\u001b[0m\n",
      "\u001b[34m[59]#011train-error:0.130533#011validation-error:0.1708\u001b[0m\n",
      "\u001b[34m[13:25:40] src/tree/updater_prune.cc:74: tree pruning end, 1 roots, 14 extra nodes, 18 pruned nodes, max_depth=5\u001b[0m\n",
      "\u001b[34m[60]#011train-error:0.1296#011validation-error:0.1712\u001b[0m\n",
      "\u001b[34m[13:25:42] src/tree/updater_prune.cc:74: tree pruning end, 1 roots, 26 extra nodes, 16 pruned nodes, max_depth=5\u001b[0m\n",
      "\u001b[34m[61]#011train-error:0.129467#011validation-error:0.1696\u001b[0m\n",
      "\u001b[34m[13:25:44] src/tree/updater_prune.cc:74: tree pruning end, 1 roots, 34 extra nodes, 14 pruned nodes, max_depth=5\u001b[0m\n",
      "\u001b[34m[62]#011train-error:0.1282#011validation-error:0.1692\u001b[0m\n",
      "\u001b[34m[13:25:46] src/tree/updater_prune.cc:74: tree pruning end, 1 roots, 30 extra nodes, 4 pruned nodes, max_depth=5\u001b[0m\n",
      "\u001b[34m[63]#011train-error:0.126667#011validation-error:0.168\u001b[0m\n",
      "\u001b[34m[13:25:48] src/tree/updater_prune.cc:74: tree pruning end, 1 roots, 10 extra nodes, 4 pruned nodes, max_depth=5\u001b[0m\n",
      "\u001b[34m[64]#011train-error:0.126267#011validation-error:0.1676\u001b[0m\n",
      "\u001b[34m[13:25:50] src/tree/updater_prune.cc:74: tree pruning end, 1 roots, 18 extra nodes, 12 pruned nodes, max_depth=5\u001b[0m\n",
      "\u001b[34m[65]#011train-error:0.125667#011validation-error:0.168\u001b[0m\n",
      "\u001b[34m[13:25:53] src/tree/updater_prune.cc:74: tree pruning end, 1 roots, 16 extra nodes, 8 pruned nodes, max_depth=5\u001b[0m\n",
      "\u001b[34m[66]#011train-error:0.1242#011validation-error:0.1682\u001b[0m\n",
      "\u001b[34m[13:25:55] src/tree/updater_prune.cc:74: tree pruning end, 1 roots, 18 extra nodes, 10 pruned nodes, max_depth=5\u001b[0m\n",
      "\u001b[34m[67]#011train-error:0.1236#011validation-error:0.1672\u001b[0m\n",
      "\u001b[34m[13:25:56] src/tree/updater_prune.cc:74: tree pruning end, 1 roots, 32 extra nodes, 10 pruned nodes, max_depth=5\u001b[0m\n",
      "\u001b[34m[68]#011train-error:0.122733#011validation-error:0.167\u001b[0m\n",
      "\u001b[34m[13:25:59] src/tree/updater_prune.cc:74: tree pruning end, 1 roots, 22 extra nodes, 12 pruned nodes, max_depth=5\u001b[0m\n",
      "\u001b[34m[69]#011train-error:0.1216#011validation-error:0.1644\u001b[0m\n",
      "\u001b[34m[13:26:00] src/tree/updater_prune.cc:74: tree pruning end, 1 roots, 24 extra nodes, 2 pruned nodes, max_depth=5\u001b[0m\n",
      "\u001b[34m[70]#011train-error:0.119#011validation-error:0.1646\u001b[0m\n",
      "\u001b[34m[13:26:02] src/tree/updater_prune.cc:74: tree pruning end, 1 roots, 22 extra nodes, 6 pruned nodes, max_depth=5\u001b[0m\n",
      "\u001b[34m[71]#011train-error:0.118667#011validation-error:0.1644\u001b[0m\n",
      "\u001b[34m[13:26:05] src/tree/updater_prune.cc:74: tree pruning end, 1 roots, 18 extra nodes, 18 pruned nodes, max_depth=5\u001b[0m\n",
      "\u001b[34m[72]#011train-error:0.1182#011validation-error:0.1633\u001b[0m\n",
      "\u001b[34m[13:26:06] src/tree/updater_prune.cc:74: tree pruning end, 1 roots, 10 extra nodes, 8 pruned nodes, max_depth=5\u001b[0m\n",
      "\u001b[34m[73]#011train-error:0.117267#011validation-error:0.1638\u001b[0m\n",
      "\u001b[34m[13:26:09] src/tree/updater_prune.cc:74: tree pruning end, 1 roots, 16 extra nodes, 6 pruned nodes, max_depth=5\u001b[0m\n",
      "\u001b[34m[74]#011train-error:0.117067#011validation-error:0.1632\u001b[0m\n",
      "\u001b[34m[13:26:11] src/tree/updater_prune.cc:74: tree pruning end, 1 roots, 12 extra nodes, 10 pruned nodes, max_depth=5\u001b[0m\n",
      "\u001b[34m[75]#011train-error:0.1168#011validation-error:0.1626\u001b[0m\n",
      "\u001b[34m[13:26:13] src/tree/updater_prune.cc:74: tree pruning end, 1 roots, 16 extra nodes, 2 pruned nodes, max_depth=5\u001b[0m\n",
      "\u001b[34m[76]#011train-error:0.115933#011validation-error:0.1618\u001b[0m\n",
      "\u001b[34m[13:26:15] src/tree/updater_prune.cc:74: tree pruning end, 1 roots, 12 extra nodes, 12 pruned nodes, max_depth=5\u001b[0m\n",
      "\u001b[34m[77]#011train-error:0.1154#011validation-error:0.1615\u001b[0m\n",
      "\u001b[34m[13:26:17] src/tree/updater_prune.cc:74: tree pruning end, 1 roots, 20 extra nodes, 6 pruned nodes, max_depth=5\u001b[0m\n",
      "\u001b[34m[78]#011train-error:0.115#011validation-error:0.1612\u001b[0m\n",
      "\u001b[34m[13:26:19] src/tree/updater_prune.cc:74: tree pruning end, 1 roots, 16 extra nodes, 8 pruned nodes, max_depth=5\u001b[0m\n",
      "\u001b[34m[79]#011train-error:0.114333#011validation-error:0.1603\u001b[0m\n",
      "\u001b[34m[13:26:21] src/tree/updater_prune.cc:74: tree pruning end, 1 roots, 20 extra nodes, 18 pruned nodes, max_depth=5\u001b[0m\n",
      "\u001b[34m[80]#011train-error:0.1144#011validation-error:0.1605\u001b[0m\n",
      "\u001b[34m[13:26:23] src/tree/updater_prune.cc:74: tree pruning end, 1 roots, 20 extra nodes, 12 pruned nodes, max_depth=5\u001b[0m\n",
      "\u001b[34m[81]#011train-error:0.1134#011validation-error:0.1605\u001b[0m\n",
      "\u001b[34m[13:26:25] src/tree/updater_prune.cc:74: tree pruning end, 1 roots, 28 extra nodes, 14 pruned nodes, max_depth=5\u001b[0m\n",
      "\u001b[34m[82]#011train-error:0.112533#011validation-error:0.1591\u001b[0m\n",
      "\u001b[34m[13:26:27] src/tree/updater_prune.cc:74: tree pruning end, 1 roots, 12 extra nodes, 14 pruned nodes, max_depth=5\u001b[0m\n",
      "\u001b[34m[83]#011train-error:0.1118#011validation-error:0.1585\u001b[0m\n",
      "\u001b[34m[13:26:28] src/tree/updater_prune.cc:74: tree pruning end, 1 roots, 30 extra nodes, 6 pruned nodes, max_depth=5\u001b[0m\n",
      "\u001b[34m[84]#011train-error:0.110867#011validation-error:0.1577\u001b[0m\n",
      "\u001b[34m[13:26:30] src/tree/updater_prune.cc:74: tree pruning end, 1 roots, 20 extra nodes, 6 pruned nodes, max_depth=5\u001b[0m\n",
      "\u001b[34m[85]#011train-error:0.1106#011validation-error:0.1569\u001b[0m\n",
      "\u001b[34m[13:26:32] src/tree/updater_prune.cc:74: tree pruning end, 1 roots, 22 extra nodes, 6 pruned nodes, max_depth=5\u001b[0m\n",
      "\u001b[34m[86]#011train-error:0.1098#011validation-error:0.1568\u001b[0m\n",
      "\u001b[34m[13:26:34] src/tree/updater_prune.cc:74: tree pruning end, 1 roots, 36 extra nodes, 10 pruned nodes, max_depth=5\u001b[0m\n",
      "\u001b[34m[87]#011train-error:0.1092#011validation-error:0.1557\u001b[0m\n",
      "\u001b[34m[13:26:36] src/tree/updater_prune.cc:74: tree pruning end, 1 roots, 12 extra nodes, 12 pruned nodes, max_depth=5\u001b[0m\n",
      "\u001b[34m[88]#011train-error:0.109267#011validation-error:0.1555\u001b[0m\n",
      "\u001b[34m[13:26:38] src/tree/updater_prune.cc:74: tree pruning end, 1 roots, 26 extra nodes, 10 pruned nodes, max_depth=5\u001b[0m\n",
      "\u001b[34m[89]#011train-error:0.108533#011validation-error:0.1544\u001b[0m\n",
      "\u001b[34m[13:26:40] src/tree/updater_prune.cc:74: tree pruning end, 1 roots, 16 extra nodes, 10 pruned nodes, max_depth=5\u001b[0m\n",
      "\u001b[34m[90]#011train-error:0.1072#011validation-error:0.1541\u001b[0m\n",
      "\u001b[34m[13:26:42] src/tree/updater_prune.cc:74: tree pruning end, 1 roots, 10 extra nodes, 12 pruned nodes, max_depth=5\u001b[0m\n",
      "\u001b[34m[91]#011train-error:0.107#011validation-error:0.154\u001b[0m\n",
      "\u001b[34m[13:26:44] src/tree/updater_prune.cc:74: tree pruning end, 1 roots, 12 extra nodes, 12 pruned nodes, max_depth=5\u001b[0m\n",
      "\u001b[34m[92]#011train-error:0.1068#011validation-error:0.1542\u001b[0m\n",
      "\u001b[34m[13:26:46] src/tree/updater_prune.cc:74: tree pruning end, 1 roots, 14 extra nodes, 6 pruned nodes, max_depth=5\u001b[0m\n",
      "\u001b[34m[93]#011train-error:0.106267#011validation-error:0.153\u001b[0m\n",
      "\u001b[34m[13:26:48] src/tree/updater_prune.cc:74: tree pruning end, 1 roots, 10 extra nodes, 8 pruned nodes, max_depth=5\u001b[0m\n",
      "\u001b[34m[94]#011train-error:0.105533#011validation-error:0.153\u001b[0m\n",
      "\u001b[34m[13:26:51] src/tree/updater_prune.cc:74: tree pruning end, 1 roots, 26 extra nodes, 12 pruned nodes, max_depth=5\u001b[0m\n",
      "\u001b[34m[95]#011train-error:0.1052#011validation-error:0.1514\u001b[0m\n",
      "\u001b[34m[13:26:53] src/tree/updater_prune.cc:74: tree pruning end, 1 roots, 26 extra nodes, 4 pruned nodes, max_depth=5\u001b[0m\n",
      "\u001b[34m[96]#011train-error:0.104267#011validation-error:0.1518\u001b[0m\n",
      "\u001b[34m[13:26:55] src/tree/updater_prune.cc:74: tree pruning end, 1 roots, 32 extra nodes, 2 pruned nodes, max_depth=5\u001b[0m\n",
      "\u001b[34m[97]#011train-error:0.1038#011validation-error:0.1513\u001b[0m\n",
      "\u001b[34m[13:26:57] src/tree/updater_prune.cc:74: tree pruning end, 1 roots, 12 extra nodes, 2 pruned nodes, max_depth=5\u001b[0m\n",
      "\u001b[34m[98]#011train-error:0.1028#011validation-error:0.1513\u001b[0m\n",
      "\u001b[34m[13:26:59] src/tree/updater_prune.cc:74: tree pruning end, 1 roots, 12 extra nodes, 8 pruned nodes, max_depth=5\u001b[0m\n",
      "\u001b[34m[99]#011train-error:0.1024#011validation-error:0.1516\u001b[0m\n",
      "\u001b[34m[13:27:01] src/tree/updater_prune.cc:74: tree pruning end, 1 roots, 12 extra nodes, 4 pruned nodes, max_depth=5\u001b[0m\n",
      "\u001b[34m[100]#011train-error:0.102067#011validation-error:0.1506\u001b[0m\n",
      "\u001b[34m[13:27:03] src/tree/updater_prune.cc:74: tree pruning end, 1 roots, 14 extra nodes, 8 pruned nodes, max_depth=5\u001b[0m\n",
      "\u001b[34m[101]#011train-error:0.101533#011validation-error:0.1516\u001b[0m\n",
      "\u001b[34m[13:27:05] src/tree/updater_prune.cc:74: tree pruning end, 1 roots, 18 extra nodes, 12 pruned nodes, max_depth=5\u001b[0m\n",
      "\u001b[34m[102]#011train-error:0.1012#011validation-error:0.1513\u001b[0m\n",
      "\u001b[34m[13:27:07] src/tree/updater_prune.cc:74: tree pruning end, 1 roots, 20 extra nodes, 6 pruned nodes, max_depth=5\u001b[0m\n",
      "\u001b[34m[103]#011train-error:0.1006#011validation-error:0.1512\u001b[0m\n",
      "\u001b[34m[13:27:09] src/tree/updater_prune.cc:74: tree pruning end, 1 roots, 18 extra nodes, 8 pruned nodes, max_depth=5\u001b[0m\n",
      "\u001b[34m[104]#011train-error:0.100267#011validation-error:0.1515\u001b[0m\n",
      "\u001b[34m[13:27:11] src/tree/updater_prune.cc:74: tree pruning end, 1 roots, 10 extra nodes, 6 pruned nodes, max_depth=5\u001b[0m\n",
      "\u001b[34m[105]#011train-error:0.100333#011validation-error:0.1513\u001b[0m\n",
      "\u001b[34m[13:27:13] src/tree/updater_prune.cc:74: tree pruning end, 1 roots, 18 extra nodes, 14 pruned nodes, max_depth=5\u001b[0m\n",
      "\u001b[34m[106]#011train-error:0.1004#011validation-error:0.1517\u001b[0m\n",
      "\u001b[34m[13:27:15] src/tree/updater_prune.cc:74: tree pruning end, 1 roots, 12 extra nodes, 4 pruned nodes, max_depth=5\u001b[0m\n",
      "\u001b[34m[107]#011train-error:0.099933#011validation-error:0.1511\u001b[0m\n",
      "\u001b[34m[13:27:17] src/tree/updater_prune.cc:74: tree pruning end, 1 roots, 20 extra nodes, 4 pruned nodes, max_depth=5\u001b[0m\n",
      "\u001b[34m[108]#011train-error:0.0994#011validation-error:0.1509\u001b[0m\n",
      "\u001b[34m[13:27:19] src/tree/updater_prune.cc:74: tree pruning end, 1 roots, 18 extra nodes, 10 pruned nodes, max_depth=5\u001b[0m\n",
      "\u001b[34m[109]#011train-error:0.099#011validation-error:0.1505\u001b[0m\n",
      "\u001b[34m[13:27:21] src/tree/updater_prune.cc:74: tree pruning end, 1 roots, 26 extra nodes, 8 pruned nodes, max_depth=5\u001b[0m\n",
      "\u001b[34m[110]#011train-error:0.097533#011validation-error:0.1499\u001b[0m\n",
      "\u001b[34m[13:27:23] src/tree/updater_prune.cc:74: tree pruning end, 1 roots, 16 extra nodes, 10 pruned nodes, max_depth=5\u001b[0m\n",
      "\u001b[34m[111]#011train-error:0.0974#011validation-error:0.1493\u001b[0m\n",
      "\u001b[34m[13:27:25] src/tree/updater_prune.cc:74: tree pruning end, 1 roots, 16 extra nodes, 4 pruned nodes, max_depth=5\u001b[0m\n",
      "\u001b[34m[112]#011train-error:0.0966#011validation-error:0.1498\u001b[0m\n",
      "\u001b[34m[13:27:26] src/tree/updater_prune.cc:74: tree pruning end, 1 roots, 26 extra nodes, 2 pruned nodes, max_depth=5\u001b[0m\n",
      "\u001b[34m[113]#011train-error:0.096#011validation-error:0.1498\u001b[0m\n",
      "\u001b[34m[13:27:28] src/tree/updater_prune.cc:74: tree pruning end, 1 roots, 16 extra nodes, 0 pruned nodes, max_depth=5\u001b[0m\n",
      "\u001b[34m[114]#011train-error:0.095067#011validation-error:0.1492\u001b[0m\n",
      "\u001b[34m[13:27:30] src/tree/updater_prune.cc:74: tree pruning end, 1 roots, 18 extra nodes, 4 pruned nodes, max_depth=5\u001b[0m\n",
      "\u001b[34m[115]#011train-error:0.093667#011validation-error:0.1488\u001b[0m\n",
      "\u001b[34m[13:27:32] src/tree/updater_prune.cc:74: tree pruning end, 1 roots, 28 extra nodes, 6 pruned nodes, max_depth=5\u001b[0m\n",
      "\u001b[34m[116]#011train-error:0.0934#011validation-error:0.1493\u001b[0m\n",
      "\u001b[34m[13:27:34] src/tree/updater_prune.cc:74: tree pruning end, 1 roots, 12 extra nodes, 0 pruned nodes, max_depth=5\u001b[0m\n",
      "\u001b[34m[117]#011train-error:0.092933#011validation-error:0.1479\u001b[0m\n",
      "\u001b[34m[13:27:36] src/tree/updater_prune.cc:74: tree pruning end, 1 roots, 14 extra nodes, 6 pruned nodes, max_depth=5\u001b[0m\n",
      "\u001b[34m[118]#011train-error:0.093733#011validation-error:0.1475\u001b[0m\n",
      "\u001b[34m[13:27:37] src/tree/updater_prune.cc:74: tree pruning end, 1 roots, 22 extra nodes, 6 pruned nodes, max_depth=5\u001b[0m\n",
      "\u001b[34m[119]#011train-error:0.093067#011validation-error:0.1481\u001b[0m\n",
      "\u001b[34m[13:27:40] src/tree/updater_prune.cc:74: tree pruning end, 1 roots, 18 extra nodes, 6 pruned nodes, max_depth=5\u001b[0m\n",
      "\u001b[34m[120]#011train-error:0.092667#011validation-error:0.1479\u001b[0m\n",
      "\u001b[34m[13:27:42] src/tree/updater_prune.cc:74: tree pruning end, 1 roots, 26 extra nodes, 8 pruned nodes, max_depth=5\u001b[0m\n",
      "\u001b[34m[121]#011train-error:0.092467#011validation-error:0.1467\u001b[0m\n",
      "\u001b[34m[13:27:44] src/tree/updater_prune.cc:74: tree pruning end, 1 roots, 20 extra nodes, 4 pruned nodes, max_depth=5\u001b[0m\n",
      "\u001b[34m[122]#011train-error:0.0922#011validation-error:0.1464\u001b[0m\n",
      "\u001b[34m[13:27:46] src/tree/updater_prune.cc:74: tree pruning end, 1 roots, 10 extra nodes, 10 pruned nodes, max_depth=5\u001b[0m\n",
      "\u001b[34m[123]#011train-error:0.0914#011validation-error:0.1467\u001b[0m\n",
      "\u001b[34m[13:27:48] src/tree/updater_prune.cc:74: tree pruning end, 1 roots, 12 extra nodes, 12 pruned nodes, max_depth=5\u001b[0m\n",
      "\u001b[34m[124]#011train-error:0.091867#011validation-error:0.1479\u001b[0m\n",
      "\u001b[34m[13:27:50] src/tree/updater_prune.cc:74: tree pruning end, 1 roots, 14 extra nodes, 10 pruned nodes, max_depth=5\u001b[0m\n",
      "\u001b[34m[125]#011train-error:0.091933#011validation-error:0.1472\u001b[0m\n",
      "\u001b[34m[13:27:52] src/tree/updater_prune.cc:74: tree pruning end, 1 roots, 24 extra nodes, 12 pruned nodes, max_depth=5\u001b[0m\n",
      "\u001b[34m[126]#011train-error:0.0914#011validation-error:0.1469\u001b[0m\n",
      "\u001b[34m[13:27:54] src/tree/updater_prune.cc:74: tree pruning end, 1 roots, 22 extra nodes, 10 pruned nodes, max_depth=5\u001b[0m\n",
      "\u001b[34m[127]#011train-error:0.090333#011validation-error:0.1464\u001b[0m\n",
      "\u001b[34m[13:27:56] src/tree/updater_prune.cc:74: tree pruning end, 1 roots, 26 extra nodes, 8 pruned nodes, max_depth=5\u001b[0m\n",
      "\u001b[34m[128]#011train-error:0.089733#011validation-error:0.1474\u001b[0m\n",
      "\u001b[34m[13:27:58] src/tree/updater_prune.cc:74: tree pruning end, 1 roots, 18 extra nodes, 14 pruned nodes, max_depth=5\u001b[0m\n",
      "\u001b[34m[129]#011train-error:0.089267#011validation-error:0.1469\u001b[0m\n",
      "\u001b[34m[13:28:00] src/tree/updater_prune.cc:74: tree pruning end, 1 roots, 10 extra nodes, 2 pruned nodes, max_depth=5\u001b[0m\n",
      "\u001b[34m[130]#011train-error:0.088933#011validation-error:0.1472\u001b[0m\n",
      "\u001b[34m[13:28:02] src/tree/updater_prune.cc:74: tree pruning end, 1 roots, 18 extra nodes, 0 pruned nodes, max_depth=5\u001b[0m\n",
      "\u001b[34m[131]#011train-error:0.088267#011validation-error:0.1466\u001b[0m\n",
      "\u001b[34m[13:28:04] src/tree/updater_prune.cc:74: tree pruning end, 1 roots, 18 extra nodes, 16 pruned nodes, max_depth=5\u001b[0m\n",
      "\u001b[34m[132]#011train-error:0.088467#011validation-error:0.145\u001b[0m\n",
      "\u001b[34m[13:28:06] src/tree/updater_prune.cc:74: tree pruning end, 1 roots, 10 extra nodes, 4 pruned nodes, max_depth=5\u001b[0m\n",
      "\u001b[34m[133]#011train-error:0.088733#011validation-error:0.1444\u001b[0m\n",
      "\u001b[34m[13:28:08] src/tree/updater_prune.cc:74: tree pruning end, 1 roots, 12 extra nodes, 6 pruned nodes, max_depth=5\u001b[0m\n",
      "\u001b[34m[134]#011train-error:0.088533#011validation-error:0.1444\u001b[0m\n",
      "\u001b[34m[13:28:11] src/tree/updater_prune.cc:74: tree pruning end, 1 roots, 16 extra nodes, 0 pruned nodes, max_depth=5\u001b[0m\n",
      "\u001b[34m[135]#011train-error:0.0876#011validation-error:0.1441\u001b[0m\n",
      "\u001b[34m[13:28:13] src/tree/updater_prune.cc:74: tree pruning end, 1 roots, 16 extra nodes, 2 pruned nodes, max_depth=5\u001b[0m\n",
      "\u001b[34m[136]#011train-error:0.086933#011validation-error:0.1446\u001b[0m\n",
      "\u001b[34m[13:28:15] src/tree/updater_prune.cc:74: tree pruning end, 1 roots, 14 extra nodes, 4 pruned nodes, max_depth=5\u001b[0m\n",
      "\u001b[34m[137]#011train-error:0.0868#011validation-error:0.144\u001b[0m\n",
      "\u001b[34m[13:28:17] src/tree/updater_prune.cc:74: tree pruning end, 1 roots, 20 extra nodes, 16 pruned nodes, max_depth=5\u001b[0m\n",
      "\u001b[34m[138]#011train-error:0.086#011validation-error:0.1437\u001b[0m\n",
      "\u001b[34m[13:28:19] src/tree/updater_prune.cc:74: tree pruning end, 1 roots, 18 extra nodes, 14 pruned nodes, max_depth=5\u001b[0m\n",
      "\u001b[34m[139]#011train-error:0.085933#011validation-error:0.1436\u001b[0m\n",
      "\u001b[34m[13:28:21] src/tree/updater_prune.cc:74: tree pruning end, 1 roots, 18 extra nodes, 10 pruned nodes, max_depth=5\u001b[0m\n",
      "\u001b[34m[140]#011train-error:0.085067#011validation-error:0.143\u001b[0m\n",
      "\u001b[34m[13:28:23] src/tree/updater_prune.cc:74: tree pruning end, 1 roots, 10 extra nodes, 6 pruned nodes, max_depth=5\u001b[0m\n",
      "\u001b[34m[141]#011train-error:0.085333#011validation-error:0.1435\u001b[0m\n",
      "\u001b[34m[13:28:25] src/tree/updater_prune.cc:74: tree pruning end, 1 roots, 24 extra nodes, 14 pruned nodes, max_depth=5\u001b[0m\n",
      "\u001b[34m[142]#011train-error:0.085667#011validation-error:0.1434\u001b[0m\n",
      "\u001b[34m[13:28:27] src/tree/updater_prune.cc:74: tree pruning end, 1 roots, 22 extra nodes, 10 pruned nodes, max_depth=5\u001b[0m\n",
      "\u001b[34m[143]#011train-error:0.0844#011validation-error:0.1427\u001b[0m\n",
      "\u001b[34m[13:28:29] src/tree/updater_prune.cc:74: tree pruning end, 1 roots, 16 extra nodes, 12 pruned nodes, max_depth=5\u001b[0m\n",
      "\u001b[34m[144]#011train-error:0.083867#011validation-error:0.1426\u001b[0m\n",
      "\u001b[34m[13:28:31] src/tree/updater_prune.cc:74: tree pruning end, 1 roots, 14 extra nodes, 6 pruned nodes, max_depth=5\u001b[0m\n",
      "\u001b[34m[145]#011train-error:0.083533#011validation-error:0.1423\u001b[0m\n",
      "\u001b[34m[13:28:32] src/tree/updater_prune.cc:74: tree pruning end, 1 roots, 14 extra nodes, 16 pruned nodes, max_depth=5\u001b[0m\n",
      "\u001b[34m[146]#011train-error:0.083333#011validation-error:0.143\u001b[0m\n",
      "\u001b[34m[13:28:34] src/tree/updater_prune.cc:74: tree pruning end, 1 roots, 12 extra nodes, 10 pruned nodes, max_depth=5\u001b[0m\n",
      "\u001b[34m[147]#011train-error:0.0832#011validation-error:0.1431\u001b[0m\n",
      "\u001b[34m[13:28:36] src/tree/updater_prune.cc:74: tree pruning end, 1 roots, 18 extra nodes, 10 pruned nodes, max_depth=5\u001b[0m\n",
      "\u001b[34m[148]#011train-error:0.0826#011validation-error:0.1428\u001b[0m\n",
      "\u001b[34m[13:28:38] src/tree/updater_prune.cc:74: tree pruning end, 1 roots, 12 extra nodes, 12 pruned nodes, max_depth=5\u001b[0m\n",
      "\u001b[34m[149]#011train-error:0.081933#011validation-error:0.1424\u001b[0m\n",
      "\u001b[34m[13:28:40] src/tree/updater_prune.cc:74: tree pruning end, 1 roots, 20 extra nodes, 10 pruned nodes, max_depth=5\u001b[0m\n",
      "\u001b[34m[150]#011train-error:0.081733#011validation-error:0.142\u001b[0m\n",
      "\u001b[34m[13:28:41] src/tree/updater_prune.cc:74: tree pruning end, 1 roots, 18 extra nodes, 8 pruned nodes, max_depth=5\u001b[0m\n",
      "\u001b[34m[151]#011train-error:0.081533#011validation-error:0.1425\u001b[0m\n",
      "\u001b[34m[13:28:43] src/tree/updater_prune.cc:74: tree pruning end, 1 roots, 22 extra nodes, 2 pruned nodes, max_depth=5\u001b[0m\n",
      "\u001b[34m[152]#011train-error:0.081333#011validation-error:0.1414\u001b[0m\n",
      "\u001b[34m[13:28:45] src/tree/updater_prune.cc:74: tree pruning end, 1 roots, 28 extra nodes, 6 pruned nodes, max_depth=5\u001b[0m\n",
      "\u001b[34m[153]#011train-error:0.080467#011validation-error:0.1413\u001b[0m\n",
      "\u001b[34m[13:28:47] src/tree/updater_prune.cc:74: tree pruning end, 1 roots, 14 extra nodes, 8 pruned nodes, max_depth=5\u001b[0m\n",
      "\u001b[34m[154]#011train-error:0.080533#011validation-error:0.1413\u001b[0m\n",
      "\u001b[34m[13:28:49] src/tree/updater_prune.cc:74: tree pruning end, 1 roots, 16 extra nodes, 12 pruned nodes, max_depth=5\u001b[0m\n",
      "\u001b[34m[155]#011train-error:0.08#011validation-error:0.142\u001b[0m\n",
      "\u001b[34m[13:28:51] src/tree/updater_prune.cc:74: tree pruning end, 1 roots, 12 extra nodes, 16 pruned nodes, max_depth=5\u001b[0m\n",
      "\u001b[34m[156]#011train-error:0.0796#011validation-error:0.1416\u001b[0m\n",
      "\u001b[34m[13:28:53] src/tree/updater_prune.cc:74: tree pruning end, 1 roots, 20 extra nodes, 4 pruned nodes, max_depth=5\u001b[0m\n",
      "\u001b[34m[157]#011train-error:0.079667#011validation-error:0.1415\u001b[0m\n",
      "\u001b[34m[13:28:55] src/tree/updater_prune.cc:74: tree pruning end, 1 roots, 16 extra nodes, 2 pruned nodes, max_depth=5\u001b[0m\n",
      "\u001b[34m[158]#011train-error:0.079267#011validation-error:0.1415\u001b[0m\n",
      "\u001b[34m[13:28:57] src/tree/updater_prune.cc:74: tree pruning end, 1 roots, 16 extra nodes, 10 pruned nodes, max_depth=5\u001b[0m\n",
      "\u001b[34m[159]#011train-error:0.0796#011validation-error:0.1414\u001b[0m\n",
      "\u001b[34m[13:28:59] src/tree/updater_prune.cc:74: tree pruning end, 1 roots, 28 extra nodes, 8 pruned nodes, max_depth=5\u001b[0m\n",
      "\u001b[34m[160]#011train-error:0.0794#011validation-error:0.1424\u001b[0m\n",
      "\u001b[34m[13:29:01] src/tree/updater_prune.cc:74: tree pruning end, 1 roots, 12 extra nodes, 6 pruned nodes, max_depth=5\u001b[0m\n",
      "\u001b[34m[161]#011train-error:0.079067#011validation-error:0.1422\u001b[0m\n",
      "\u001b[34m[13:29:03] src/tree/updater_prune.cc:74: tree pruning end, 1 roots, 16 extra nodes, 24 pruned nodes, max_depth=5\u001b[0m\n",
      "\u001b[34m[162]#011train-error:0.0784#011validation-error:0.142\u001b[0m\n",
      "\u001b[34m[13:29:06] src/tree/updater_prune.cc:74: tree pruning end, 1 roots, 14 extra nodes, 8 pruned nodes, max_depth=5\u001b[0m\n",
      "\u001b[34m[163]#011train-error:0.078333#011validation-error:0.1421\u001b[0m\n",
      "\u001b[34mStopping. Best iteration:\u001b[0m\n",
      "\u001b[34m[153]#011train-error:0.080467#011validation-error:0.1413\u001b[0m\n",
      "\n",
      "2022-09-01 13:29:37 Uploading - Uploading generated training model\n",
      "2022-09-01 13:29:37 Completed - Training job completed\n",
      "Training seconds: 474\n",
      "Billable seconds: 474\n"
     ]
    }
   ],
   "source": [
    "xgb.fit({'train': s3_input_train, 'validation': s3_input_validation})"
   ]
  },
  {
   "cell_type": "markdown",
   "metadata": {},
   "source": [
    "## Step 5: Testing the model\n",
    "\n",
    "Now that we've fit our XGBoost model, it's time to see how well it performs. To do this we will use SageMakers Batch Transform functionality. Batch Transform is a convenient way to perform inference on a large dataset in a way that is not realtime. That is, we don't necessarily need to use our model's results immediately and instead we can perform inference on a large number of samples. An example of this in industry might be performing an end of month report. This method of inference can also be useful to us as it means that we can perform inference on our entire test set. \n",
    "\n",
    "To perform a Batch Transformation we need to first create a transformer objects from our trained estimator object."
   ]
  },
  {
   "cell_type": "code",
   "execution_count": 25,
   "metadata": {},
   "outputs": [
    {
     "name": "stderr",
     "output_type": "stream",
     "text": [
      "Parameter image will be renamed to image_uri in SageMaker Python SDK v2.\n"
     ]
    }
   ],
   "source": [
    "xgb_transformer = xgb.transformer(instance_count = 1, instance_type = 'ml.m4.xlarge')"
   ]
  },
  {
   "cell_type": "markdown",
   "metadata": {},
   "source": [
    "Next we actually perform the transform job. When doing so we need to make sure to specify the type of data we are sending so that it is serialized correctly in the background. In our case we are providing our model with csv data so we specify `text/csv`. Also, if the test data that we have provided is too large to process all at once then we need to specify how the data file should be split up. Since each line is a single entry in our data set we tell SageMaker that it can split the input on each line."
   ]
  },
  {
   "cell_type": "code",
   "execution_count": 26,
   "metadata": {},
   "outputs": [],
   "source": [
    "xgb_transformer.transform(test_location, content_type='text/csv', split_type='Line')"
   ]
  },
  {
   "cell_type": "markdown",
   "metadata": {},
   "source": [
    "Currently the transform job is running but it is doing so in the background. Since we wish to wait until the transform job is done and we would like a bit of feedback we can run the `wait()` method."
   ]
  },
  {
   "cell_type": "code",
   "execution_count": 27,
   "metadata": {},
   "outputs": [
    {
     "name": "stdout",
     "output_type": "stream",
     "text": [
      "......................................\u001b[34mArguments: serve\u001b[0m\n",
      "\u001b[34m[2022-09-01 13:36:12 +0000] [1] [INFO] Starting gunicorn 19.9.0\u001b[0m\n",
      "\u001b[34m[2022-09-01 13:36:12 +0000] [1] [INFO] Listening at: http://0.0.0.0:8080 (1)\u001b[0m\n",
      "\u001b[34m[2022-09-01 13:36:12 +0000] [1] [INFO] Using worker: gevent\u001b[0m\n",
      "\u001b[34m[2022-09-01 13:36:12 +0000] [21] [INFO] Booting worker with pid: 21\u001b[0m\n",
      "\u001b[34m[2022-09-01 13:36:12 +0000] [22] [INFO] Booting worker with pid: 22\u001b[0m\n",
      "\u001b[34m[2022-09-01 13:36:12 +0000] [23] [INFO] Booting worker with pid: 23\u001b[0m\n",
      "\u001b[34m/opt/amazon/lib/python3.7/site-packages/gunicorn/workers/ggevent.py:65: MonkeyPatchWarning: Monkey-patching ssl after ssl has already been imported may lead to errors, including RecursionError on Python 3.6. It may also silently lead to incorrect behaviour on Python 3.7. Please monkey-patch earlier. See https://github.com/gevent/gevent/issues/1016. Modules that had direct imports (NOT patched): ['urllib3.util (/opt/amazon/lib/python3.7/site-packages/urllib3/util/__init__.py)', 'urllib3.util.ssl_ (/opt/amazon/lib/python3.7/site-packages/urllib3/util/ssl_.py)']. \n",
      "  monkey.patch_all(subprocess=True)\u001b[0m\n",
      "\u001b[34m[2022-09-01:13:36:12:INFO] Model loaded successfully for worker : 21\u001b[0m\n",
      "\u001b[34m[2022-09-01 13:36:12 +0000] [24] [INFO] Booting worker with pid: 24\u001b[0m\n",
      "\u001b[34m/opt/amazon/lib/python3.7/site-packages/gunicorn/workers/ggevent.py:65: MonkeyPatchWarning: Monkey-patching ssl after ssl has already been imported may lead to errors, including RecursionError on Python 3.6. It may also silently lead to incorrect behaviour on Python 3.7. Please monkey-patch earlier. See https://github.com/gevent/gevent/issues/1016. Modules that had direct imports (NOT patched): ['urllib3.util (/opt/amazon/lib/python3.7/site-packages/urllib3/util/__init__.py)', 'urllib3.util.ssl_ (/opt/amazon/lib/python3.7/site-packages/urllib3/util/ssl_.py)']. \n",
      "  monkey.patch_all(subprocess=True)\u001b[0m\n",
      "\u001b[34m[2022-09-01:13:36:12:INFO] Model loaded successfully for worker : 22\u001b[0m\n",
      "\u001b[34m/opt/amazon/lib/python3.7/site-packages/gunicorn/workers/ggevent.py:65: MonkeyPatchWarning: Monkey-patching ssl after ssl has already been imported may lead to errors, including RecursionError on Python 3.6. It may also silently lead to incorrect behaviour on Python 3.7. Please monkey-patch earlier. See https://github.com/gevent/gevent/issues/1016. Modules that had direct imports (NOT patched): ['urllib3.util (/opt/amazon/lib/python3.7/site-packages/urllib3/util/__init__.py)', 'urllib3.util.ssl_ (/opt/amazon/lib/python3.7/site-packages/urllib3/util/ssl_.py)']. \n",
      "  monkey.patch_all(subprocess=True)\u001b[0m\n",
      "\u001b[34m[2022-09-01:13:36:12:INFO] Model loaded successfully for worker : 23\u001b[0m\n",
      "\u001b[34m/opt/amazon/lib/python3.7/site-packages/gunicorn/workers/ggevent.py:65: MonkeyPatchWarning: Monkey-patching ssl after ssl has already been imported may lead to errors, including RecursionError on Python 3.6. It may also silently lead to incorrect behaviour on Python 3.7. Please monkey-patch earlier. See https://github.com/gevent/gevent/issues/1016. Modules that had direct imports (NOT patched): ['urllib3.util (/opt/amazon/lib/python3.7/site-packages/urllib3/util/__init__.py)', 'urllib3.util.ssl_ (/opt/amazon/lib/python3.7/site-packages/urllib3/util/ssl_.py)']. \n",
      "  monkey.patch_all(subprocess=True)\u001b[0m\n",
      "\u001b[34m[2022-09-01:13:36:12:INFO] Model loaded successfully for worker : 24\u001b[0m\n",
      "\u001b[34m[2022-09-01:13:36:20:INFO] Sniff delimiter as ','\u001b[0m\n",
      "\u001b[34m[2022-09-01:13:36:20:INFO] Determined delimiter of CSV input is ','\u001b[0m\n",
      "\u001b[34m[2022-09-01:13:36:20:INFO] Sniff delimiter as ','\u001b[0m\n",
      "\u001b[34m[2022-09-01:13:36:20:INFO] Determined delimiter of CSV input is ','\u001b[0m\n",
      "\u001b[34m[2022-09-01:13:36:20:INFO] Sniff delimiter as ','\u001b[0m\n",
      "\u001b[34m[2022-09-01:13:36:20:INFO] Determined delimiter of CSV input is ','\u001b[0m\n",
      "\u001b[34m[2022-09-01:13:36:20:INFO] Sniff delimiter as ','\u001b[0m\n",
      "\u001b[34m[2022-09-01:13:36:20:INFO] Determined delimiter of CSV input is ','\u001b[0m\n",
      "\u001b[35m[2022-09-01:13:36:20:INFO] Sniff delimiter as ','\u001b[0m\n",
      "\u001b[35m[2022-09-01:13:36:20:INFO] Determined delimiter of CSV input is ','\u001b[0m\n",
      "\u001b[35m[2022-09-01:13:36:20:INFO] Sniff delimiter as ','\u001b[0m\n",
      "\u001b[35m[2022-09-01:13:36:20:INFO] Determined delimiter of CSV input is ','\u001b[0m\n",
      "\u001b[35m[2022-09-01:13:36:20:INFO] Sniff delimiter as ','\u001b[0m\n",
      "\u001b[35m[2022-09-01:13:36:20:INFO] Determined delimiter of CSV input is ','\u001b[0m\n",
      "\u001b[35m[2022-09-01:13:36:20:INFO] Sniff delimiter as ','\u001b[0m\n",
      "\u001b[35m[2022-09-01:13:36:20:INFO] Determined delimiter of CSV input is ','\u001b[0m\n",
      "\u001b[32m2022-09-01T13:36:16.267:[sagemaker logs]: MaxConcurrentTransforms=4, MaxPayloadInMB=6, BatchStrategy=MULTI_RECORD\u001b[0m\n",
      "\u001b[34m[2022-09-01:13:36:24:INFO] Sniff delimiter as ','\u001b[0m\n",
      "\u001b[34m[2022-09-01:13:36:24:INFO] Determined delimiter of CSV input is ','\u001b[0m\n",
      "\u001b[34m[2022-09-01:13:36:24:INFO] Sniff delimiter as ','\u001b[0m\n",
      "\u001b[34m[2022-09-01:13:36:24:INFO] Determined delimiter of CSV input is ','\u001b[0m\n",
      "\u001b[34m[2022-09-01:13:36:24:INFO] Sniff delimiter as ','\u001b[0m\n",
      "\u001b[34m[2022-09-01:13:36:24:INFO] Determined delimiter of CSV input is ','\u001b[0m\n",
      "\u001b[34m[2022-09-01:13:36:24:INFO] Sniff delimiter as ','\u001b[0m\n",
      "\u001b[34m[2022-09-01:13:36:24:INFO] Determined delimiter of CSV input is ','\u001b[0m\n",
      "\u001b[35m[2022-09-01:13:36:24:INFO] Sniff delimiter as ','\u001b[0m\n",
      "\u001b[35m[2022-09-01:13:36:24:INFO] Determined delimiter of CSV input is ','\u001b[0m\n",
      "\u001b[35m[2022-09-01:13:36:24:INFO] Sniff delimiter as ','\u001b[0m\n",
      "\u001b[35m[2022-09-01:13:36:24:INFO] Determined delimiter of CSV input is ','\u001b[0m\n",
      "\u001b[35m[2022-09-01:13:36:24:INFO] Sniff delimiter as ','\u001b[0m\n",
      "\u001b[35m[2022-09-01:13:36:24:INFO] Determined delimiter of CSV input is ','\u001b[0m\n",
      "\u001b[35m[2022-09-01:13:36:24:INFO] Sniff delimiter as ','\u001b[0m\n",
      "\u001b[35m[2022-09-01:13:36:24:INFO] Determined delimiter of CSV input is ','\u001b[0m\n",
      "\u001b[34m[2022-09-01:13:36:27:INFO] Sniff delimiter as ','\u001b[0m\n",
      "\u001b[34m[2022-09-01:13:36:27:INFO] Determined delimiter of CSV input is ','\u001b[0m\n",
      "\u001b[34m[2022-09-01:13:36:27:INFO] Sniff delimiter as ','\u001b[0m\n",
      "\u001b[34m[2022-09-01:13:36:27:INFO] Determined delimiter of CSV input is ','\u001b[0m\n",
      "\u001b[34m[2022-09-01:13:36:28:INFO] Sniff delimiter as ','\u001b[0m\n",
      "\u001b[34m[2022-09-01:13:36:28:INFO] Determined delimiter of CSV input is ','\u001b[0m\n",
      "\u001b[34m[2022-09-01:13:36:28:INFO] Sniff delimiter as ','\u001b[0m\n",
      "\u001b[34m[2022-09-01:13:36:28:INFO] Determined delimiter of CSV input is ','\u001b[0m\n",
      "\u001b[35m[2022-09-01:13:36:27:INFO] Sniff delimiter as ','\u001b[0m\n",
      "\u001b[35m[2022-09-01:13:36:27:INFO] Determined delimiter of CSV input is ','\u001b[0m\n",
      "\u001b[35m[2022-09-01:13:36:27:INFO] Sniff delimiter as ','\u001b[0m\n",
      "\u001b[35m[2022-09-01:13:36:27:INFO] Determined delimiter of CSV input is ','\u001b[0m\n",
      "\u001b[35m[2022-09-01:13:36:28:INFO] Sniff delimiter as ','\u001b[0m\n",
      "\u001b[35m[2022-09-01:13:36:28:INFO] Determined delimiter of CSV input is ','\u001b[0m\n",
      "\u001b[35m[2022-09-01:13:36:28:INFO] Sniff delimiter as ','\u001b[0m\n",
      "\u001b[35m[2022-09-01:13:36:28:INFO] Determined delimiter of CSV input is ','\u001b[0m\n",
      "\u001b[34m[2022-09-01:13:36:31:INFO] Sniff delimiter as ','\u001b[0m\n",
      "\u001b[34m[2022-09-01:13:36:31:INFO] Determined delimiter of CSV input is ','\u001b[0m\n",
      "\u001b[34m[2022-09-01:13:36:31:INFO] Sniff delimiter as ','\u001b[0m\n",
      "\u001b[34m[2022-09-01:13:36:31:INFO] Determined delimiter of CSV input is ','\u001b[0m\n",
      "\u001b[34m[2022-09-01:13:36:31:INFO] Sniff delimiter as ','\u001b[0m\n",
      "\u001b[34m[2022-09-01:13:36:31:INFO] Determined delimiter of CSV input is ','\u001b[0m\n",
      "\u001b[34m[2022-09-01:13:36:32:INFO] Sniff delimiter as ','\u001b[0m\n",
      "\u001b[34m[2022-09-01:13:36:32:INFO] Determined delimiter of CSV input is ','\u001b[0m\n",
      "\u001b[35m[2022-09-01:13:36:31:INFO] Sniff delimiter as ','\u001b[0m\n",
      "\u001b[35m[2022-09-01:13:36:31:INFO] Determined delimiter of CSV input is ','\u001b[0m\n",
      "\u001b[35m[2022-09-01:13:36:31:INFO] Sniff delimiter as ','\u001b[0m\n",
      "\u001b[35m[2022-09-01:13:36:31:INFO] Determined delimiter of CSV input is ','\u001b[0m\n",
      "\u001b[35m[2022-09-01:13:36:31:INFO] Sniff delimiter as ','\u001b[0m\n",
      "\u001b[35m[2022-09-01:13:36:31:INFO] Determined delimiter of CSV input is ','\u001b[0m\n",
      "\u001b[35m[2022-09-01:13:36:32:INFO] Sniff delimiter as ','\u001b[0m\n",
      "\u001b[35m[2022-09-01:13:36:32:INFO] Determined delimiter of CSV input is ','\u001b[0m\n",
      "\u001b[34m[2022-09-01:13:36:39:INFO] Sniff delimiter as ','\u001b[0m\n",
      "\u001b[34m[2022-09-01:13:36:39:INFO] Determined delimiter of CSV input is ','\u001b[0m\n",
      "\u001b[34m[2022-09-01:13:36:39:INFO] Sniff delimiter as ','\u001b[0m\n",
      "\u001b[34m[2022-09-01:13:36:39:INFO] Determined delimiter of CSV input is ','\u001b[0m\n",
      "\u001b[35m[2022-09-01:13:36:39:INFO] Sniff delimiter as ','\u001b[0m\n",
      "\u001b[35m[2022-09-01:13:36:39:INFO] Determined delimiter of CSV input is ','\u001b[0m\n",
      "\u001b[35m[2022-09-01:13:36:39:INFO] Sniff delimiter as ','\u001b[0m\n",
      "\u001b[35m[2022-09-01:13:36:39:INFO] Determined delimiter of CSV input is ','\u001b[0m\n",
      "\u001b[34m[2022-09-01:13:36:39:INFO] Sniff delimiter as ','\u001b[0m\n",
      "\u001b[35m[2022-09-01:13:36:39:INFO] Sniff delimiter as ','\u001b[0m\n",
      "\u001b[34m[2022-09-01:13:36:39:INFO] Determined delimiter of CSV input is ','\u001b[0m\n",
      "\u001b[34m[2022-09-01:13:36:39:INFO] Sniff delimiter as ','\u001b[0m\n",
      "\u001b[34m[2022-09-01:13:36:39:INFO] Determined delimiter of CSV input is ','\u001b[0m\n",
      "\u001b[35m[2022-09-01:13:36:39:INFO] Determined delimiter of CSV input is ','\u001b[0m\n",
      "\u001b[35m[2022-09-01:13:36:39:INFO] Sniff delimiter as ','\u001b[0m\n",
      "\u001b[35m[2022-09-01:13:36:39:INFO] Determined delimiter of CSV input is ','\u001b[0m\n",
      "\u001b[34m[2022-09-01:13:36:43:INFO] Sniff delimiter as ','\u001b[0m\n",
      "\u001b[34m[2022-09-01:13:36:43:INFO] Determined delimiter of CSV input is ','\u001b[0m\n",
      "\u001b[34m[2022-09-01:13:36:43:INFO] Sniff delimiter as ','\u001b[0m\n",
      "\u001b[34m[2022-09-01:13:36:43:INFO] Determined delimiter of CSV input is ','\u001b[0m\n",
      "\u001b[34m[2022-09-01:13:36:43:INFO] Sniff delimiter as ','\u001b[0m\n",
      "\u001b[34m[2022-09-01:13:36:43:INFO] Determined delimiter of CSV input is ','\u001b[0m\n",
      "\u001b[35m[2022-09-01:13:36:43:INFO] Sniff delimiter as ','\u001b[0m\n",
      "\u001b[35m[2022-09-01:13:36:43:INFO] Determined delimiter of CSV input is ','\u001b[0m\n",
      "\u001b[35m[2022-09-01:13:36:43:INFO] Sniff delimiter as ','\u001b[0m\n",
      "\u001b[35m[2022-09-01:13:36:43:INFO] Determined delimiter of CSV input is ','\u001b[0m\n",
      "\u001b[35m[2022-09-01:13:36:43:INFO] Sniff delimiter as ','\u001b[0m\n",
      "\u001b[35m[2022-09-01:13:36:43:INFO] Determined delimiter of CSV input is ','\u001b[0m\n",
      "\u001b[34m[2022-09-01:13:36:43:INFO] Sniff delimiter as ','\u001b[0m\n",
      "\u001b[34m[2022-09-01:13:36:43:INFO] Determined delimiter of CSV input is ','\u001b[0m\n",
      "\u001b[35m[2022-09-01:13:36:43:INFO] Sniff delimiter as ','\u001b[0m\n",
      "\u001b[35m[2022-09-01:13:36:43:INFO] Determined delimiter of CSV input is ','\u001b[0m\n",
      "\u001b[34m[2022-09-01:13:36:47:INFO] Sniff delimiter as ','\u001b[0m\n",
      "\u001b[34m[2022-09-01:13:36:47:INFO] Determined delimiter of CSV input is ','\u001b[0m\n",
      "\u001b[34m[2022-09-01:13:36:47:INFO] Sniff delimiter as ','\u001b[0m\n",
      "\u001b[34m[2022-09-01:13:36:47:INFO] Determined delimiter of CSV input is ','\u001b[0m\n",
      "\u001b[34m[2022-09-01:13:36:47:INFO] Sniff delimiter as ','\u001b[0m\n",
      "\u001b[34m[2022-09-01:13:36:47:INFO] Determined delimiter of CSV input is ','\u001b[0m\n",
      "\u001b[35m[2022-09-01:13:36:47:INFO] Sniff delimiter as ','\u001b[0m\n",
      "\u001b[35m[2022-09-01:13:36:47:INFO] Determined delimiter of CSV input is ','\u001b[0m\n",
      "\u001b[35m[2022-09-01:13:36:47:INFO] Sniff delimiter as ','\u001b[0m\n",
      "\u001b[35m[2022-09-01:13:36:47:INFO] Determined delimiter of CSV input is ','\u001b[0m\n",
      "\u001b[35m[2022-09-01:13:36:47:INFO] Sniff delimiter as ','\u001b[0m\n",
      "\u001b[35m[2022-09-01:13:36:47:INFO] Determined delimiter of CSV input is ','\u001b[0m\n",
      "\u001b[34m[2022-09-01:13:36:50:INFO] Sniff delimiter as ','\u001b[0m\n",
      "\u001b[34m[2022-09-01:13:36:50:INFO] Determined delimiter of CSV input is ','\u001b[0m\n",
      "\u001b[34m[2022-09-01:13:36:50:INFO] Sniff delimiter as ','\u001b[0m\n",
      "\u001b[34m[2022-09-01:13:36:50:INFO] Determined delimiter of CSV input is ','\u001b[0m\n",
      "\u001b[34m[2022-09-01:13:36:51:INFO] Sniff delimiter as ','\u001b[0m\n",
      "\u001b[34m[2022-09-01:13:36:51:INFO] Determined delimiter of CSV input is ','\u001b[0m\n",
      "\u001b[34m[2022-09-01:13:36:51:INFO] Sniff delimiter as ','\u001b[0m\n",
      "\u001b[34m[2022-09-01:13:36:51:INFO] Determined delimiter of CSV input is ','\u001b[0m\n",
      "\u001b[35m[2022-09-01:13:36:50:INFO] Sniff delimiter as ','\u001b[0m\n",
      "\u001b[35m[2022-09-01:13:36:50:INFO] Determined delimiter of CSV input is ','\u001b[0m\n",
      "\u001b[35m[2022-09-01:13:36:50:INFO] Sniff delimiter as ','\u001b[0m\n",
      "\u001b[35m[2022-09-01:13:36:50:INFO] Determined delimiter of CSV input is ','\u001b[0m\n",
      "\u001b[35m[2022-09-01:13:36:51:INFO] Sniff delimiter as ','\u001b[0m\n",
      "\u001b[35m[2022-09-01:13:36:51:INFO] Determined delimiter of CSV input is ','\u001b[0m\n",
      "\u001b[35m[2022-09-01:13:36:51:INFO] Sniff delimiter as ','\u001b[0m\n",
      "\u001b[35m[2022-09-01:13:36:51:INFO] Determined delimiter of CSV input is ','\u001b[0m\n",
      "\n"
     ]
    }
   ],
   "source": [
    "xgb_transformer.wait()"
   ]
  },
  {
   "cell_type": "markdown",
   "metadata": {},
   "source": [
    "Now the transform job has executed and the result, the estimated sentiment of each review, has been saved on S3. Since we would rather work on this file locally we can perform a bit of notebook magic to copy the file to the `data_dir`."
   ]
  },
  {
   "cell_type": "code",
   "execution_count": 28,
   "metadata": {},
   "outputs": [
    {
     "name": "stdout",
     "output_type": "stream",
     "text": [
      "download: s3://sagemaker-us-east-1-037926194159/xgboost-2022-09-01-13-30-02-554/test.csv.out to ../data/sentiment_web_app/test.csv.out\n"
     ]
    }
   ],
   "source": [
    "!aws s3 cp --recursive $xgb_transformer.output_path $data_dir"
   ]
  },
  {
   "cell_type": "markdown",
   "metadata": {},
   "source": [
    "The last step is now to read in the output from our model, convert the output to something a little more usable, in this case we want the sentiment to be either `1` (positive) or `0` (negative), and then compare to the ground truth labels."
   ]
  },
  {
   "cell_type": "code",
   "execution_count": 29,
   "metadata": {},
   "outputs": [],
   "source": [
    "predictions = pd.read_csv(os.path.join(data_dir, 'test.csv.out'), header=None)\n",
    "predictions = [round(num) for num in predictions.squeeze().values]"
   ]
  },
  {
   "cell_type": "code",
   "execution_count": 30,
   "metadata": {},
   "outputs": [
    {
     "data": {
      "text/plain": [
       "0.85972"
      ]
     },
     "execution_count": 30,
     "metadata": {},
     "output_type": "execute_result"
    }
   ],
   "source": [
    "from sklearn.metrics import accuracy_score\n",
    "accuracy_score(test_y, predictions)"
   ]
  },
  {
   "cell_type": "markdown",
   "metadata": {},
   "source": [
    "## Step 6: Deploying the model\n",
    "\n",
    "Once we construct and fit our model, SageMaker stores the resulting model artifacts and we can use those to deploy an endpoint (inference code). To see this, look in the SageMaker console and you should see that a model has been created along with a link to the S3 location where the model artifacts have been stored.\n",
    "\n",
    "Deploying an endpoint is a lot like training the model with a few important differences. The first is that a deployed model doesn't change the model artifacts, so as you send it various testing instances the model won't change. Another difference is that since we aren't performing a fixed computation, as we were in the training step or while performing a batch transform, the compute instance that gets started stays running until we tell it to stop. This is important to note as if we forget and leave it running we will be charged the entire time.\n",
    "\n",
    "In other words **If you are no longer using a deployed endpoint, shut it down!**"
   ]
  },
  {
   "cell_type": "code",
   "execution_count": 31,
   "metadata": {},
   "outputs": [
    {
     "name": "stderr",
     "output_type": "stream",
     "text": [
      "Parameter image will be renamed to image_uri in SageMaker Python SDK v2.\n",
      "Using already existing model: xgboost-2022-09-01-13-19-35-806\n"
     ]
    },
    {
     "name": "stdout",
     "output_type": "stream",
     "text": [
      "--------!"
     ]
    }
   ],
   "source": [
    "xgb_predictor = xgb.deploy(initial_instance_count = 1, instance_type = 'ml.m4.xlarge')"
   ]
  },
  {
   "cell_type": "markdown",
   "metadata": {},
   "source": [
    "### Testing the model (again)\n",
    "\n",
    "Now that we have deployed our endpoint, we can send the testing data to it and get back the inference results. We already did this earlier using the batch transform functionality of SageMaker, however, we will test our model again using the newly deployed endpoint so that we can make sure that it works properly and to get a bit of a feel for how the endpoint works.\n",
    "\n",
    "When using the created endpoint it is important to know that we are limited in the amount of information we can send in each call so we need to break the testing data up into chunks and then send each chunk. Also, we need to serialize our data before we send it to the endpoint to ensure that our data is transmitted properly. Fortunately, SageMaker can do the serialization part for us provided we tell it the format of our data."
   ]
  },
  {
   "cell_type": "code",
   "execution_count": 32,
   "metadata": {},
   "outputs": [],
   "source": [
    "from sagemaker.predictor import csv_serializer\n",
    "\n",
    "# We need to tell the endpoint what format the data we are sending is in so that SageMaker can perform the serialization.\n",
    "xgb_predictor.content_type = 'text/csv'\n",
    "xgb_predictor.serializer = csv_serializer"
   ]
  },
  {
   "cell_type": "code",
   "execution_count": 33,
   "metadata": {},
   "outputs": [],
   "source": [
    "# We split the data into chunks and send each chunk seperately, accumulating the results.\n",
    "\n",
    "def predict(data, rows=512):\n",
    "    split_array = np.array_split(data, int(data.shape[0] / float(rows) + 1))\n",
    "    predictions = ''\n",
    "    for array in split_array:\n",
    "        predictions = ','.join([predictions, xgb_predictor.predict(array).decode('utf-8')])\n",
    "    \n",
    "    return np.fromstring(predictions[1:], sep=',')"
   ]
  },
  {
   "cell_type": "code",
   "execution_count": 34,
   "metadata": {},
   "outputs": [],
   "source": [
    "test_X = pd.read_csv(os.path.join(data_dir, 'test.csv'), header=None).values\n",
    "\n",
    "predictions = predict(test_X)\n",
    "predictions = [round(num) for num in predictions]"
   ]
  },
  {
   "cell_type": "markdown",
   "metadata": {},
   "source": [
    "Lastly, we check to see what the accuracy of our model is."
   ]
  },
  {
   "cell_type": "code",
   "execution_count": 35,
   "metadata": {},
   "outputs": [
    {
     "data": {
      "text/plain": [
       "0.85972"
      ]
     },
     "execution_count": 35,
     "metadata": {},
     "output_type": "execute_result"
    }
   ],
   "source": [
    "from sklearn.metrics import accuracy_score\n",
    "accuracy_score(test_y, predictions)"
   ]
  },
  {
   "cell_type": "markdown",
   "metadata": {},
   "source": [
    "And the results here should agree with the model testing that we did earlier using the batch transform job.\n",
    "\n",
    "### Cleaning up\n",
    "\n",
    "Now that we've determined that deploying our model works as expected, we are going to shut it down. Remember that the longer the endpoint is left running, the greater the cost and since we have a bit more work to do before we are able to use our endpoint with our simple web app, we should shut everything down."
   ]
  },
  {
   "cell_type": "code",
   "execution_count": 36,
   "metadata": {},
   "outputs": [],
   "source": [
    "xgb_predictor.delete_endpoint()"
   ]
  },
  {
   "cell_type": "markdown",
   "metadata": {},
   "source": [
    "## Step 7: Putting our model to work\n",
    "\n",
    "As we've mentioned a few times now, our goal is to have our model deployed and then access it using a very simple web app. The intent is for this web app to take some user submitted data (a review), send it off to our endpoint (the model) and then display the result.\n",
    "\n",
    "However, there is a small catch. Currently the only way we can access the endpoint to send it data is using the SageMaker API. We can, if we wish, expose the actual URL that our model's endpoint is receiving data from, however, if we just send it data ourselves we will not get anything in return. This is because the endpoint created by SageMaker requires the entity accessing it have the correct permissions. So, we would need to somehow authenticate our web app with AWS.\n",
    "\n",
    "Having a website that authenticates to AWS seems a bit beyond the scope of this lesson so we will opt for an alternative approach. Namely, we will create a new endpoint which does not require authentication and which acts as a proxy for the SageMaker endpoint.\n",
    "\n",
    "As an additional constraint, we will try to avoid doing any data processing in the web app itself. Remember that when we constructed and tested our model we started with a movie review, then we simplified it by removing any html formatting and punctuation, then we constructed a bag of words embedding and the resulting vector is what we sent to our model. All of this needs to be done to our user input as well.\n",
    "\n",
    "Fortunately we can do all of this data processing in the backend, using Amazon's Lambda service.\n",
    "\n",
    "<img src=\"Web App Diagram.svg\">\n",
    "\n",
    "The diagram above gives an overview of how the various services will work together. On the far right is the model which we trained above and which will be deployed using SageMaker. On the far left is our web app that collects a user's movie review, sends it off and expects a positive or negative sentiment in return.\n",
    "\n",
    "In the middle is where some of the magic happens. We will construct a Lambda function, which you can think of as a straightforward Python function that can be executed whenever a specified event occurs. This Python function will do the data processing we need to perform on a user submitted review. In addition, we will give this function permission to send and recieve data from a SageMaker endpoint.\n",
    "\n",
    "Lastly, the method we will use to execute the Lambda function is a new endpoint that we will create using API Gateway. This endpoint will be a url that listens for data to be sent to it. Once it gets some data it will pass that data on to the Lambda function and then return whatever the Lambda function returns. Essentially it will act as an interface that lets our web app communicate with the Lambda function.\n",
    "\n",
    "### Processing a single review\n",
    "\n",
    "For now, suppose we are given a movie review by our user in the form of a string, like so:"
   ]
  },
  {
   "cell_type": "code",
   "execution_count": 37,
   "metadata": {},
   "outputs": [],
   "source": [
    "test_review = \"Nothing but a disgusting materialistic pageant of glistening abed remote control greed zombies, totally devoid of any heart or heat. A romantic comedy that has zero romantic chemestry and zero laughs!\""
   ]
  },
  {
   "cell_type": "markdown",
   "metadata": {},
   "source": [
    "How do we go from this string to the bag of words feature vector that is expected by our model?\n",
    "\n",
    "If we recall at the beginning of this notebook, the first step is to remove any unnecessary characters using the `review_to_words` method. Remember that we intentionally did this in a very simplistic way. This is because we are going to have to copy this method to our (eventual) Lambda function (we will go into more detail later) and this means it needs to be rather simplistic."
   ]
  },
  {
   "cell_type": "code",
   "execution_count": 38,
   "metadata": {},
   "outputs": [
    {
     "name": "stdout",
     "output_type": "stream",
     "text": [
      "nothing but a disgusting materialistic pageant of glistening abed remote control greed zombies totally devoid of any heart or heat a romantic comedy that has zero romantic chemestry and zero laughs\n"
     ]
    }
   ],
   "source": [
    "test_words = review_to_words(test_review)\n",
    "print(test_words)"
   ]
  },
  {
   "cell_type": "markdown",
   "metadata": {},
   "source": [
    "Next, we need to construct a bag of words embedding of the `test_words` string. To do this, remember that a bag of words embedding uses a `vocabulary` consisting of the most frequently appearing words in a set of documents. Then, for each word in the vocabulary we record the number of times that word appears in `test_words`. We constructed the `vocabulary` earlier using the training set for our problem so encoding `test_words` is relatively straightforward."
   ]
  },
  {
   "cell_type": "code",
   "execution_count": 39,
   "metadata": {},
   "outputs": [],
   "source": [
    "def bow_encoding(words, vocabulary):\n",
    "    bow = [0] * len(vocabulary) # Start by setting the count for each word in the vocabulary to zero.\n",
    "    for word in words.split():  # For each word in the string\n",
    "        if word in vocabulary:  # If the word is one that occurs in the vocabulary, increase its count.\n",
    "            bow[vocabulary[word]] += 1\n",
    "    return bow"
   ]
  },
  {
   "cell_type": "code",
   "execution_count": 40,
   "metadata": {},
   "outputs": [
    {
     "name": "stdout",
     "output_type": "stream",
     "text": [
      "[0, 0, 0, 0, 0, 0, 0, 0, 0, 0, 0, 0, 0, 0, 0, 0, 0, 0, 0, 0, 0, 0, 0, 0, 0, 0, 0, 0, 0, 0, 0, 0, 0, 0, 0, 0, 0, 0, 0, 0, 0, 0, 0, 0, 0, 0, 0, 0, 0, 0, 0, 0, 0, 0, 0, 0, 0, 0, 0, 0, 0, 0, 0, 0, 0, 0, 0, 0, 0, 0, 0, 0, 0, 0, 0, 0, 0, 0, 0, 0, 0, 0, 0, 0, 0, 0, 0, 0, 0, 0, 0, 0, 0, 0, 0, 0, 0, 0, 0, 0, 0, 0, 0, 0, 0, 0, 0, 0, 0, 0, 0, 0, 0, 0, 0, 0, 0, 0, 0, 0, 0, 0, 0, 0, 0, 0, 0, 0, 0, 0, 0, 0, 0, 0, 0, 0, 0, 0, 0, 0, 0, 0, 0, 0, 0, 0, 0, 0, 0, 0, 0, 0, 0, 0, 0, 0, 0, 0, 0, 0, 0, 0, 0, 0, 0, 0, 0, 0, 0, 0, 0, 0, 0, 0, 0, 0, 0, 0, 0, 0, 0, 0, 0, 0, 0, 0, 0, 0, 0, 0, 0, 0, 0, 0, 0, 0, 0, 0, 0, 0, 0, 0, 0, 0, 0, 0, 0, 0, 0, 0, 0, 0, 0, 0, 0, 0, 0, 0, 0, 0, 0, 0, 0, 0, 0, 0, 1, 0, 0, 0, 0, 0, 0, 0, 0, 0, 0, 0, 0, 0, 0, 0, 0, 0, 0, 0, 0, 0, 0, 0, 0, 0, 0, 0, 0, 0, 1, 0, 0, 0, 0, 0, 0, 0, 0, 0, 0, 0, 0, 0, 0, 0, 0, 0, 0, 0, 0, 0, 0, 0, 0, 0, 0, 0, 0, 0, 0, 0, 0, 0, 0, 0, 0, 0, 0, 0, 0, 0, 0, 0, 0, 0, 0, 0, 0, 0, 0, 0, 0, 0, 0, 0, 0, 0, 0, 0, 0, 0, 0, 0, 0, 0, 0, 0, 0, 0, 0, 0, 0, 0, 0, 0, 0, 0, 0, 0, 0, 0, 0, 0, 0, 0, 0, 0, 0, 0, 0, 0, 0, 0, 0, 0, 0, 0, 0, 0, 0, 0, 0, 0, 0, 0, 0, 0, 0, 0, 0, 0, 0, 0, 0, 0, 0, 0, 0, 0, 0, 0, 0, 0, 0, 0, 0, 0, 0, 0, 0, 0, 0, 0, 0, 0, 0, 0, 0, 0, 0, 0, 0, 0, 0, 0, 0, 0, 0, 0, 0, 0, 0, 0, 0, 0, 0, 0, 0, 0, 0, 0, 0, 0, 0, 0, 0, 0, 0, 0, 0, 0, 0, 0, 0, 0, 0, 0, 0, 0, 0, 0, 0, 0, 0, 0, 0, 0, 0, 0, 0, 0, 0, 0, 0, 0, 0, 0, 0, 0, 0, 0, 0, 0, 0, 0, 0, 0, 0, 0, 0, 0, 0, 0, 0, 0, 0, 0, 0, 0, 0, 0, 0, 0, 0, 0, 0, 0, 0, 0, 0, 0, 0, 0, 0, 0, 0, 0, 0, 0, 0, 0, 0, 0, 0, 0, 0, 0, 0, 0, 0, 0, 0, 0, 0, 0, 0, 0, 0, 0, 0, 0, 0, 0, 0, 0, 0, 0, 0, 0, 0, 0, 0, 0, 0, 0, 0, 0, 0, 0, 0, 0, 0, 0, 0, 0, 0, 0, 0, 0, 0, 0, 0, 0, 0, 0, 0, 0, 0, 0, 0, 0, 0, 0, 0, 0, 0, 0, 0, 0, 0, 0, 0, 0, 0, 0, 0, 0, 0, 0, 0, 0, 0, 0, 0, 0, 0, 0, 0, 0, 0, 0, 0, 0, 0, 0, 0, 0, 0, 0, 0, 0, 0, 0, 0, 0, 0, 0, 0, 0, 0, 0, 0, 0, 0, 0, 0, 0, 0, 0, 0, 0, 0, 0, 0, 0, 0, 0, 0, 0, 0, 0, 0, 0, 0, 0, 0, 0, 0, 0, 1, 0, 0, 0, 0, 0, 0, 0, 0, 0, 0, 0, 0, 0, 0, 0, 0, 0, 0, 0, 0, 0, 0, 0, 0, 0, 0, 0, 0, 0, 0, 0, 0, 0, 0, 0, 0, 0, 0, 0, 0, 0, 0, 0, 0, 0, 0, 0, 0, 0, 0, 0, 0, 0, 0, 0, 0, 0, 0, 0, 0, 0, 0, 0, 0, 0, 0, 0, 0, 0, 0, 0, 0, 0, 0, 0, 0, 0, 0, 0, 0, 0, 0, 0, 0, 0, 0, 0, 0, 0, 0, 0, 0, 0, 0, 0, 0, 0, 0, 0, 0, 0, 0, 0, 0, 0, 0, 0, 0, 0, 0, 0, 0, 0, 0, 0, 0, 0, 0, 0, 0, 0, 0, 0, 0, 0, 0, 0, 0, 0, 0, 0, 0, 0, 0, 0, 0, 0, 0, 0, 0, 0, 0, 0, 0, 0, 0, 0, 0, 0, 0, 0, 0, 0, 0, 0, 0, 0, 0, 0, 0, 0, 0, 0, 0, 0, 0, 0, 0, 0, 0, 0, 0, 0, 0, 0, 0, 0, 0, 0, 0, 0, 0, 0, 0, 0, 0, 0, 0, 0, 0, 0, 0, 0, 0, 0, 0, 0, 0, 0, 0, 0, 0, 0, 0, 0, 0, 0, 0, 0, 0, 0, 0, 0, 0, 0, 0, 0, 0, 0, 0, 0, 0, 0, 0, 0, 0, 0, 0, 0, 0, 0, 0, 0, 0, 0, 0, 0, 0, 0, 0, 0, 0, 0, 0, 0, 0, 0, 0, 0, 0, 0, 0, 0, 1, 0, 0, 0, 0, 0, 0, 0, 0, 0, 0, 0, 0, 0, 0, 0, 0, 0, 0, 0, 0, 0, 0, 0, 0, 0, 0, 0, 0, 0, 0, 0, 0, 0, 0, 0, 0, 0, 0, 0, 0, 0, 0, 0, 0, 0, 0, 0, 0, 0, 0, 0, 0, 0, 0, 0, 0, 0, 0, 0, 0, 0, 0, 0, 0, 0, 0, 0, 0, 0, 0, 0, 0, 0, 0, 0, 0, 0, 0, 0, 0, 0, 0, 0, 0, 0, 0, 1, 0, 0, 0, 0, 0, 0, 0, 0, 0, 0, 0, 0, 0, 0, 0, 0, 0, 0, 0, 0, 0, 0, 0, 0, 0, 0, 0, 0, 0, 0, 0, 0, 0, 0, 0, 0, 0, 0, 0, 0, 0, 0, 0, 0, 0, 0, 0, 0, 0, 0, 0, 0, 0, 0, 0, 0, 0, 0, 0, 0, 0, 0, 0, 0, 0, 0, 0, 0, 0, 0, 0, 0, 0, 0, 0, 0, 0, 0, 0, 0, 0, 0, 0, 0, 0, 0, 0, 0, 0, 0, 0, 0, 0, 0, 0, 0, 0, 0, 0, 0, 0, 0, 0, 0, 0, 0, 0, 0, 0, 0, 0, 0, 0, 0, 0, 0, 0, 0, 0, 0, 0, 0, 0, 0, 0, 0, 0, 0, 0, 0, 0, 0, 0, 0, 0, 0, 0, 0, 0, 0, 0, 0, 0, 0, 0, 0, 0, 0, 0, 0, 0, 0, 0, 0, 0, 0, 0, 0, 0, 0, 0, 0, 0, 0, 0, 0, 0, 0, 0, 0, 0, 0, 0, 0, 0, 0, 0, 0, 0, 0, 0, 0, 0, 0, 0, 0, 0, 0, 0, 0, 0, 0, 0, 0, 0, 0, 0, 0, 0, 0, 0, 0, 0, 0, 0, 0, 0, 0, 0, 0, 0, 0, 0, 0, 0, 0, 0, 0, 0, 0, 0, 0, 0, 0, 0, 0, 0, 0, 0, 0, 0, 0, 0, 0, 0, 0, 0, 0, 0, 0, 0, 0, 0, 0, 0, 0, 0, 0, 0, 0, 0, 0, 1, 0, 0, 0, 0, 0, 0, 0, 0, 0, 0, 0, 0, 0, 0, 0, 0, 0, 0, 0, 0, 0, 0, 0, 0, 0, 0, 0, 0, 0, 0, 0, 0, 0, 0, 0, 0, 0, 0, 0, 0, 0, 0, 0, 0, 0, 0, 0, 0, 0, 0, 0, 0, 0, 0, 0, 1, 0, 0, 0, 0, 0, 0, 0, 0, 0, 0, 0, 0, 0, 0, 0, 0, 0, 0, 0, 0, 0, 0, 0, 0, 0, 0, 0, 0, 0, 0, 0, 0, 0, 0, 0, 0, 0, 0, 0, 0, 0, 0, 0, 0, 0, 0, 0, 0, 0, 0, 0, 0, 0, 0, 0, 0, 0, 0, 0, 0, 0, 0, 0, 0, 0, 0, 0, 0, 0, 0, 0, 0, 0, 0, 0, 0, 0, 0, 0, 0, 0, 0, 0, 0, 0, 0, 0, 0, 0, 0, 0, 0, 0, 0, 0, 0, 0, 0, 0, 0, 0, 0, 0, 0, 0, 0, 0, 0, 0, 0, 0, 0, 0, 0, 0, 0, 0, 0, 0, 0, 0, 0, 0, 0, 0, 0, 0, 0, 0, 0, 0, 0, 0, 0, 0, 0, 0, 0, 0, 0, 0, 0, 0, 0, 0, 0, 0, 0, 0, 0, 0, 0, 0, 0, 0, 0, 0, 0, 0, 0, 0, 0, 0, 0, 0, 0, 0, 0, 0, 0, 0, 0, 0, 0, 0, 0, 0, 0, 0, 0, 0, 0, 0, 0, 0, 0, 0, 0, 0, 0, 0, 0, 0, 0, 0, 0, 0, 0, 0, 0, 0, 0, 0, 0, 0, 0, 0, 0, 0, 0, 0, 0, 0, 0, 0, 0, 0, 0, 0, 0, 0, 0, 0, 0, 0, 0, 0, 0, 0, 0, 0, 0, 0, 0, 0, 0, 0, 0, 0, 0, 0, 0, 0, 0, 0, 0, 0, 0, 0, 0, 0, 0, 0, 0, 0, 0, 0, 0, 0, 0, 0, 0, 0, 0, 0, 0, 0, 0, 0, 0, 0, 0, 0, 0, 0, 0, 0, 0, 0, 0, 0, 0, 0, 0, 0, 0, 0, 0, 0, 0, 0, 0, 0, 0, 0, 0, 0, 0, 0, 0, 0, 0, 0, 0, 0, 0, 0, 0, 0, 0, 0, 0, 0, 0, 0, 0, 0, 0, 0, 0, 0, 0, 0, 0, 0, 0, 0, 0, 0, 0, 0, 0, 0, 0, 0, 0, 0, 0, 0, 0, 0, 0, 0, 0, 0, 0, 0, 0, 0, 0, 0, 0, 0, 0, 0, 0, 0, 0, 0, 0, 0, 0, 0, 0, 0, 0, 0, 0, 0, 0, 0, 0, 0, 0, 0, 0, 0, 0, 0, 0, 0, 0, 0, 0, 0, 0, 0, 0, 0, 0, 0, 0, 0, 0, 0, 0, 0, 0, 0, 0, 0, 0, 0, 0, 0, 0, 0, 0, 0, 0, 0, 0, 0, 0, 0, 0, 0, 0, 0, 0, 0, 0, 0, 0, 0, 0, 0, 0, 0, 0, 0, 0, 0, 0, 0, 0, 0, 0, 0, 0, 0, 0, 0, 0, 0, 0, 0, 0, 0, 0, 0, 0, 0, 0, 0, 0, 0, 0, 0, 0, 0, 0, 0, 0, 0, 0, 0, 0, 0, 0, 0, 0, 0, 0, 0, 0, 0, 0, 0, 0, 0, 0, 0, 0, 0, 0, 0, 0, 0, 0, 0, 0, 0, 0, 0, 0, 0, 0, 0, 0, 0, 0, 0, 0, 0, 0, 0, 0, 0, 0, 0, 0, 0, 0, 0, 0, 0, 0, 0, 0, 0, 0, 0, 0, 0, 0, 0, 0, 0, 0, 0, 0, 0, 0, 0, 0, 0, 0, 0, 0, 0, 0, 0, 0, 0, 0, 0, 0, 0, 0, 0, 0, 0, 0, 0, 0, 0, 0, 0, 0, 0, 0, 0, 0, 0, 0, 0, 0, 0, 0, 0, 0, 0, 0, 0, 0, 0, 0, 0, 0, 0, 0, 0, 0, 0, 0, 0, 0, 0, 0, 0, 0, 0, 0, 0, 0, 0, 0, 0, 0, 0, 0, 0, 0, 0, 0, 0, 0, 0, 0, 0, 0, 0, 0, 0, 0, 0, 0, 0, 0, 0, 0, 0, 0, 0, 0, 0, 0, 0, 0, 0, 0, 0, 0, 0, 0, 0, 0, 0, 0, 0, 0, 0, 0, 0, 0, 0, 0, 0, 0, 0, 0, 0, 0, 0, 0, 0, 0, 0, 0, 0, 0, 0, 0, 0, 0, 0, 0, 0, 0, 0, 0, 0, 0, 0, 0, 0, 0, 0, 0, 0, 1, 0, 0, 0, 0, 0, 0, 0, 0, 0, 0, 0, 0, 0, 0, 0, 0, 0, 0, 0, 0, 0, 0, 0, 0, 0, 0, 0, 0, 0, 0, 0, 0, 0, 0, 0, 0, 0, 0, 0, 0, 0, 0, 0, 0, 0, 0, 0, 0, 0, 0, 0, 0, 0, 0, 0, 0, 0, 0, 0, 0, 0, 0, 0, 0, 0, 0, 0, 0, 0, 0, 0, 0, 0, 0, 1, 0, 0, 0, 0, 0, 0, 0, 0, 0, 0, 0, 0, 0, 0, 0, 0, 0, 0, 0, 0, 1, 0, 0, 1, 0, 0, 0, 0, 0, 0, 0, 0, 0, 0, 0, 0, 0, 0, 0, 0, 0, 0, 0, 0, 0, 0, 0, 0, 0, 0, 0, 0, 0, 0, 0, 0, 0, 0, 0, 0, 0, 0, 0, 0, 0, 0, 0, 0, 0, 0, 0, 0, 0, 0, 0, 0, 0, 0, 0, 0, 0, 0, 0, 0, 0, 0, 0, 0, 0, 0, 0, 0, 0, 0, 0, 0, 0, 0, 0, 0, 0, 0, 0, 0, 0, 0, 0, 0, 0, 0, 0, 0, 0, 0, 0, 0, 0, 0, 0, 0, 0, 0, 0, 0, 0, 0, 0, 0, 0, 0, 0, 0, 0, 0, 0, 0, 0, 0, 0, 0, 0, 0, 0, 0, 0, 0, 0, 0, 0, 0, 0, 0, 0, 0, 0, 0, 0, 0, 0, 0, 0, 0, 0, 0, 0, 0, 0, 0, 0, 0, 0, 0, 0, 0, 0, 0, 0, 0, 0, 0, 0, 0, 0, 0, 0, 0, 0, 0, 0, 0, 0, 0, 0, 0, 0, 0, 0, 0, 0, 0, 0, 0, 0, 0, 0, 0, 0, 0, 0, 0, 0, 0, 0, 0, 0, 0, 0, 0, 0, 0, 0, 0, 0, 0, 0, 0, 0, 0, 0, 0, 0, 0, 0, 0, 0, 0, 0, 0, 0, 0, 0, 0, 0, 0, 0, 0, 0, 0, 0, 0, 0, 0, 0, 0, 0, 0, 0, 0, 0, 0, 0, 0, 0, 0, 0, 0, 0, 0, 0, 0, 0, 0, 0, 0, 0, 0, 0, 0, 0, 0, 0, 0, 0, 0, 0, 0, 0, 0, 0, 0, 0, 0, 0, 0, 0, 0, 0, 0, 0, 0, 0, 0, 0, 0, 0, 0, 0, 0, 0, 0, 0, 0, 0, 0, 0, 0, 0, 0, 0, 0, 0, 0, 0, 0, 0, 0, 0, 0, 0, 0, 0, 0, 0, 0, 0, 0, 0, 0, 0, 0, 0, 0, 0, 0, 0, 0, 0, 0, 0, 0, 0, 0, 0, 0, 0, 0, 0, 0, 0, 0, 0, 0, 0, 0, 0, 0, 0, 0, 0, 0, 0, 0, 0, 0, 0, 0, 0, 0, 0, 0, 0, 0, 0, 0, 0, 0, 0, 0, 0, 0, 0, 0, 0, 0, 0, 0, 0, 0, 0, 0, 0, 0, 0, 0, 0, 0, 0, 0, 0, 0, 0, 0, 0, 0, 0, 0, 0, 0, 0, 0, 0, 0, 0, 0, 0, 0, 0, 0, 0, 0, 0, 0, 0, 0, 0, 0, 0, 0, 0, 0, 0, 0, 0, 0, 0, 0, 0, 0, 0, 0, 0, 0, 0, 0, 0, 0, 0, 0, 0, 0, 0, 0, 0, 0, 0, 0, 0, 0, 0, 0, 0, 0, 0, 0, 0, 0, 0, 0, 0, 0, 0, 0, 0, 0, 0, 0, 0, 0, 0, 0, 1, 0, 0, 0, 0, 0, 0, 0, 0, 0, 0, 0, 0, 0, 0, 0, 0, 0, 0, 0, 0, 0, 0, 0, 0, 0, 0, 0, 0, 0, 0, 0, 0, 0, 0, 0, 0, 0, 0, 0, 0, 0, 0, 0, 0, 0, 0, 0, 0, 0, 0, 0, 0, 0, 0, 0, 0, 0, 0, 0, 0, 0, 0, 0, 0, 0, 0, 0, 0, 0, 0, 0, 0, 0, 0, 0, 0, 0, 0, 0, 0, 0, 0, 0, 0, 0, 0, 0, 0, 0, 0, 0, 0, 0, 0, 0, 0, 0, 0, 0, 0, 0, 0, 0, 0, 0, 0, 0, 0, 0, 0, 0, 0, 0, 0, 0, 0, 0, 0, 0, 0, 0, 0, 0, 0, 0, 0, 0, 0, 0, 0, 0, 0, 0, 0, 0, 0, 0, 0, 0, 0, 0, 0, 0, 0, 0, 0, 0, 0, 0, 0, 0, 0, 0, 0, 0, 0, 0, 0, 0, 0, 0, 0, 0, 0, 0, 0, 0, 0, 0, 0, 0, 0, 0, 0, 0, 0, 0, 0, 0, 0, 0, 0, 0, 0, 0, 0, 0, 0, 0, 0, 0, 0, 0, 0, 0, 0, 0, 0, 0, 0, 0, 0, 0, 0, 0, 0, 0, 0, 0, 0, 0, 0, 0, 0, 0, 0, 0, 0, 0, 0, 0, 0, 0, 0, 0, 0, 0, 0, 0, 0, 0, 0, 0, 0, 0, 0, 0, 0, 0, 0, 0, 0, 0, 0, 0, 0, 0, 0, 0, 0, 0, 0, 0, 0, 0, 0, 0, 0, 0, 0, 0, 0, 0, 0, 0, 0, 0, 0, 0, 0, 0, 0, 0, 0, 0, 0, 0, 0, 0, 0, 0, 0, 0, 0, 0, 0, 0, 0, 0, 0, 0, 0, 0, 0, 0, 0, 0, 0, 0, 0, 0, 0, 0, 0, 0, 0, 0, 0, 0, 0, 0, 0, 0, 0, 0, 0, 0, 0, 0, 0, 0, 0, 0, 0, 0, 0, 0, 0, 0, 0, 0, 0, 0, 0, 0, 0, 0, 0, 0, 0, 0, 0, 0, 0, 0, 0, 0, 0, 0, 0, 0, 0, 0, 0, 0, 0, 0, 0, 0, 0, 0, 0, 0, 0, 0, 0, 0, 0, 0, 0, 0, 0, 0, 0, 0, 0, 0, 0, 0, 0, 0, 0, 0, 0, 0, 0, 0, 0, 0, 0, 0, 0, 0, 0, 0, 0, 0, 0, 0, 0, 0, 0, 0, 0, 0, 0, 0, 0, 0, 0, 0, 0, 0, 0, 0, 0, 0, 0, 0, 0, 0, 0, 0, 0, 0, 0, 0, 0, 0, 0, 0, 0, 0, 0, 0, 0, 0, 0, 0, 0, 0, 0, 0, 0, 0, 0, 0, 0, 0, 0, 0, 0, 0, 0, 0, 0, 0, 0, 0, 0, 0, 0, 0, 0, 0, 0, 0, 0, 0, 0, 0, 0, 0, 0, 0, 0, 0, 0, 0, 0, 0, 0, 0, 0, 0, 0, 0, 0, 0, 0, 0, 0, 0, 0, 0, 0, 0, 0, 0, 0, 0, 0, 0, 0, 0, 0, 0, 0, 0, 0, 0, 0, 1, 0, 0, 0, 0, 0, 0, 0, 0, 0, 0, 0, 0, 0, 0, 0, 0, 0, 0, 0, 0, 0, 0, 0, 0, 0, 0, 0, 0, 0, 0, 0, 0, 0, 0, 0, 2, 0, 0, 0, 0, 0, 0, 0, 0, 0, 0, 0, 0, 0, 0, 0, 0, 0, 0, 0, 0, 0, 0, 0, 0, 0, 0, 0, 0, 0, 0, 0, 0, 0, 0, 0, 0, 0, 0, 0, 0, 1, 0, 0, 0, 0, 0, 0, 0, 0, 0, 0, 0, 0, 0, 0, 0, 0, 0, 0, 0, 0, 0, 0, 0, 0, 0, 0, 0, 0, 0, 0, 0, 0, 0, 0, 0, 0, 0, 0, 0, 0, 0, 0, 0, 0, 0, 0, 0, 0, 0, 0, 0, 0, 0, 0, 0, 0, 0, 0, 0, 0, 0, 0, 0, 0, 0, 0, 0, 0, 0, 0, 0, 0, 0, 0, 0, 0, 0, 0, 0, 0, 0, 0, 0, 0, 0, 0, 0, 0, 0, 0, 0, 0, 0, 0, 0, 0, 0, 0, 0, 0, 0, 0, 0, 0, 0, 0, 0, 0, 0, 0, 0, 0, 0, 0, 0, 0, 0, 0, 0, 0, 0, 0, 0, 0, 0, 0, 0, 0, 0, 0, 0, 0, 0, 0, 0, 0, 0, 0, 0, 0, 0, 0, 0, 0, 0, 0, 0, 0, 0, 0, 0, 0, 0, 0, 0, 0, 0, 0, 0, 0, 0, 0, 0, 0, 0, 0, 0, 0, 0, 0, 0, 0, 0, 0, 0, 0, 0, 0, 0, 0, 0, 0, 0, 0, 0, 0, 0, 0, 0, 0, 0, 0, 0, 0, 0, 0, 0, 0, 0, 0, 0, 0, 0, 0, 0, 0, 0, 0, 0, 0, 0, 0, 0, 0, 0, 0, 0, 0, 0, 0, 0, 0, 0, 0, 0, 0, 0, 0, 0, 0, 0, 0, 0, 0, 0, 0, 0, 0, 0, 0, 0, 0, 0, 0, 0, 0, 0, 0, 0, 0, 0, 0, 0, 0, 0, 0, 0, 0, 0, 0, 0, 0, 0, 0, 0, 0, 0, 0, 0, 0, 0, 0, 0, 0, 0, 0, 0, 0, 0, 0, 0, 0, 0, 0, 0, 0, 0, 0, 0, 0, 0, 0, 0, 0, 0, 0, 0, 0, 0, 0, 0, 0, 0, 0, 0, 0, 0, 0, 0, 0, 0, 0, 0, 0, 0, 0, 0, 0, 0, 0, 0, 0, 0, 0, 0, 0, 0, 0, 0, 0, 0, 0, 0, 0, 0, 0, 0, 0, 0, 0, 0, 0, 0, 0, 0, 0, 0, 0, 0, 0, 0, 0, 0, 0, 0, 0, 0, 0, 0, 0, 0, 0, 0, 0, 0, 0, 0, 0, 0, 0, 0, 0, 0, 0, 0, 0, 0, 0, 0, 0, 0, 0, 0, 0, 0, 0, 0, 0, 0, 0, 0, 0, 0, 0, 0, 0, 0, 0, 0, 0, 0, 0, 0, 0, 0, 0, 0, 0, 0, 0, 0, 0, 0, 0, 0, 0, 0, 0, 0, 0, 0, 0, 0, 0, 0, 0, 0, 0, 0, 0, 0, 0, 0, 0, 0, 0, 0, 0, 0, 0, 0, 0, 0, 0, 0, 0, 0, 0, 0, 0, 0, 0, 0, 0, 0, 0, 0, 0, 0, 0, 0, 0, 0, 0, 0, 0, 0, 0, 0, 0, 0, 0, 0, 0, 0, 0, 0, 0, 0, 0, 0, 0, 0, 0, 0, 0, 0, 0, 0, 0, 0, 0, 0, 0, 0, 0, 0, 1, 0, 0, 0, 0, 0, 0, 0, 0, 0, 0, 0, 0, 0, 0, 0, 0, 0, 0, 0, 0, 0, 0, 0, 0, 0, 0, 0, 0, 0, 0, 0, 0, 0, 0, 0, 0, 0, 0, 0, 0, 0, 0, 0, 0, 0, 0, 0, 0, 0, 0, 0, 0, 0, 0, 0, 0, 0, 0, 0, 0, 0, 0, 0, 0, 0, 0, 0, 0, 0, 0, 0, 0, 0, 0, 0, 0, 0, 0, 0, 0, 0, 0, 0, 0, 0, 0, 0, 0, 0, 0, 0, 0, 0, 0, 0, 0, 0, 0, 0, 0, 0, 0, 0, 0, 0, 0, 0, 0, 0, 0, 2, 0, 0, 0, 0, 0, 0, 0, 0, 0, 0, 0, 0, 0, 0, 0, 0, 0, 0, 0, 0, 0, 0, 0, 0, 0, 0, 0, 0, 0, 0, 0, 0, 0, 0, 0, 0, 0, 0, 0, 0, 0, 0, 0, 0, 0, 0, 0, 0, 0, 0, 0, 0, 0, 0, 0, 0, 0, 0, 0, 0, 0, 0, 0, 0, 0, 0, 0, 0, 0, 0, 0, 0, 0, 0, 0, 0, 0, 0, 0, 0, 0, 0, 0, 0, 0, 0, 0, 0, 0, 0, 0, 0, 0, 0, 0, 0, 0, 0, 0, 0, 0, 0, 0, 0, 0, 0, 0, 0, 0, 0, 0, 0, 0, 0, 0, 0, 0, 0, 0, 0, 0, 0, 0, 0, 0, 0, 0, 0, 0, 0, 0, 0, 0, 0, 0, 0, 0, 0, 0, 0, 0, 0, 0, 0, 0, 0, 0, 0, 0, 0, 0, 0, 0, 0, 0, 0, 0, 0, 0, 0, 0, 0, 0, 0, 0, 0, 0, 0, 0, 0, 0, 0, 0, 0, 0, 0, 0, 0, 0, 0, 0, 0, 0, 0, 0, 0, 0, 0, 0, 0, 0, 0, 0, 0, 0, 0, 0, 0, 0, 0, 0, 0, 0, 0, 0, 0, 0, 0, 0, 0, 0, 0, 0, 0, 0, 0, 0, 0, 0, 0, 0, 0, 0, 0, 0, 0, 0, 0, 0, 0, 0, 0, 0, 0, 0, 0, 0, 0, 0, 0, 0, 0, 0, 0, 0, 0, 0, 0, 0, 0, 0, 0, 0, 0, 0, 0, 0, 0, 0, 0, 0, 0, 0, 0, 0, 0, 0, 0, 0, 0, 0, 0, 0, 0, 0, 0, 0, 0, 0, 0, 0, 0, 0, 0, 0, 0, 0, 0, 0, 0, 0, 0, 0, 0, 0, 0, 0, 0, 0, 0, 0, 0, 0, 0, 0, 0, 0, 0, 0, 0, 0, 0, 0, 0, 0, 0, 0, 0, 0, 0, 0, 0, 0, 0, 0, 0, 0, 0, 0, 0, 0, 0, 0, 0, 0, 0, 0, 0, 0, 0, 0, 0, 0, 0, 0, 0, 0, 0, 0, 0, 0, 0, 0, 0, 0, 0, 0, 0, 0, 0, 0, 0, 0, 0, 0, 0, 0, 0, 0, 0, 0, 0, 0, 0, 0, 0, 0, 0, 0, 0, 0, 0, 0, 0, 0, 0, 0, 0, 0, 0, 0, 0, 0, 0, 0, 0, 0, 0, 0, 0, 0, 0, 0, 0, 0, 0, 0, 0, 0, 0, 0, 0, 0, 0, 0, 0, 0, 0, 0, 0, 0, 0, 0, 0, 0, 0, 0, 0, 0, 0, 0, 0, 0, 0, 0, 0, 0, 0, 0, 0, 0, 0, 0, 0, 0, 0, 0, 0, 0, 0, 0, 0, 0, 0, 0, 0, 0, 0, 0, 0, 0, 0, 0, 0, 0, 0, 0, 0, 0, 0, 0, 0, 0, 0, 0, 0, 0, 0, 0, 0, 0, 0, 0, 0, 0, 0, 0, 0, 0, 0, 0, 0, 0, 0, 0, 0, 0, 0, 0, 0, 0, 0, 0, 0, 0, 0, 0, 0, 0, 0, 0, 0, 0, 0, 0, 0, 0, 0, 0, 0, 0, 0, 0, 0, 0, 0, 0, 0, 0, 0, 0, 0, 0, 0, 0, 0, 0, 0, 0, 0, 0, 0, 0, 0, 0, 0, 0, 0, 0, 0, 0, 0, 0, 0, 0, 0, 0, 0, 0, 0, 0, 0, 0, 0, 0, 0, 0, 0, 0, 0, 0, 0, 0, 0, 0, 0, 0, 0, 0, 0, 0, 0, 0, 0, 0, 0, 0, 0, 0, 0, 0, 0, 0, 0, 0, 0, 0, 0, 0, 0, 0, 0, 0, 0, 0, 0, 0, 0, 0, 0, 0, 0, 0, 0, 0, 0, 0, 0, 0, 0, 0, 0, 0, 0, 0, 0, 0, 0, 0, 0, 0, 0, 0, 0, 0, 0, 0, 0, 0, 0, 0, 0, 0, 0, 0, 0, 0, 0, 0, 0, 0, 0, 0, 0, 0, 0, 0, 0, 0, 0, 0, 0, 0, 0, 0, 0, 0, 0, 0, 0, 0, 0, 0, 0, 0, 0, 0, 0, 0, 0, 0, 0, 0, 0, 0, 0, 0, 0, 0, 0, 1, 0, 0, 0, 0, 0, 0, 0, 0, 0, 0, 0, 0, 0, 0, 0, 0, 0, 0, 0, 0, 0, 0, 0, 0, 0, 0, 0, 0, 0, 0, 0, 0, 0, 0, 0, 0, 0, 0, 0, 0, 0, 0, 0, 0, 0, 0, 0, 0, 0, 0, 0, 0, 0, 0, 0, 0, 0, 0, 0, 0, 0, 0, 0, 0, 0, 0, 0, 0, 0, 0, 0, 0, 0, 0, 0, 0, 0, 0, 0, 0, 0, 0, 0, 0, 0, 0, 0, 0, 0, 0, 0, 0, 0, 0, 0, 0, 0, 0, 0, 0, 0, 0, 0, 0, 0, 0, 0, 1, 0, 0, 0, 0, 0, 0, 0, 0, 0, 0, 0, 0, 0, 0, 0, 0, 0, 0, 0, 0, 0, 0, 0, 0, 0, 0, 0, 0, 0, 0, 0, 0, 0, 0, 0, 0, 0, 0, 0, 0, 0, 0, 0, 0, 0, 0, 0, 0, 0, 0, 0, 0, 0, 0, 0, 0, 0, 0, 0, 0, 0, 0, 0, 0, 0, 0, 0, 0, 0, 0, 0, 0, 0, 0, 0, 0, 0, 0, 0, 0, 0, 0, 0, 0, 0, 0, 0, 0, 0, 0, 0, 0, 0, 0, 0, 0, 0, 0, 0, 0, 0, 0, 0, 0, 0, 0, 0, 0, 0, 0, 0, 0, 0, 0, 0, 0, 0, 0, 0, 0, 0, 0, 0, 0, 0, 0, 0, 0, 0, 0, 0, 0, 0, 0, 0, 0, 0, 0, 0, 0, 0, 0, 0, 0, 0, 0, 0, 0, 0, 0, 0, 0, 0, 0, 0, 0, 0, 0, 0, 0, 0, 0, 0, 0, 0, 0, 0, 0, 0, 0, 0, 0, 0, 0, 0, 0, 0, 0, 0, 0, 0, 0, 0, 0, 0, 0, 0, 0, 0, 0, 0, 0, 0, 0, 0, 0, 0, 0, 0, 0, 0, 0, 0, 0, 0, 0, 0, 0, 0, 0, 0, 0, 0, 0, 0, 0, 0, 0, 0, 0, 0, 0, 0, 0, 0, 0, 0, 0, 0, 0, 0, 0, 0, 0, 0, 0, 0, 0, 0, 0, 0, 0, 0, 0, 0, 0, 0, 0, 0, 0, 0, 0, 0, 0, 0, 0, 0, 0, 0, 0, 0, 0, 0, 0, 0, 0, 0, 0, 0, 0, 0, 0, 0, 0, 0, 0, 0, 0, 0, 0, 0, 0, 0, 0, 0, 0, 0, 0, 0, 0, 0, 0, 0, 0, 0, 0, 0, 0, 0, 0, 0, 0, 0, 0, 0, 0, 0, 0, 0, 0, 0, 0, 0, 0, 0, 0, 0, 0, 0, 0, 0, 0, 0, 0, 0, 0, 0, 0, 0, 0, 0, 0, 0, 0, 0, 0, 0, 0, 0, 0, 0, 0, 0, 0, 0, 0, 0, 0, 0, 0, 0, 0, 0, 0, 0, 0, 0, 0, 0, 0, 0, 0, 0, 0, 0, 0, 0, 0, 0, 0, 0, 0, 0, 0, 0, 0, 0, 0, 0, 0, 0, 0, 0, 0, 0, 0, 0, 0, 0, 0, 0, 0, 0, 0, 0, 0, 0, 0, 0, 0, 0, 0, 0, 0, 0, 0, 0, 0, 0, 0, 0, 0, 0, 0, 0, 0, 0, 0, 0, 0, 0, 0, 0, 0, 0, 0, 0, 0, 0, 0, 0, 0, 0, 0, 0, 0, 0, 0, 0, 0, 0, 0, 0, 0, 0, 0, 0, 0, 0, 0, 0, 0, 0, 0, 0, 0, 0, 0, 0, 0, 0, 0, 0, 2, 0, 1, 0]\n"
     ]
    }
   ],
   "source": [
    "test_bow = bow_encoding(test_words, vocabulary)\n",
    "print(test_bow)"
   ]
  },
  {
   "cell_type": "code",
   "execution_count": 41,
   "metadata": {},
   "outputs": [
    {
     "data": {
      "text/plain": [
       "5000"
      ]
     },
     "execution_count": 41,
     "metadata": {},
     "output_type": "execute_result"
    }
   ],
   "source": [
    "len(test_bow)"
   ]
  },
  {
   "cell_type": "markdown",
   "metadata": {},
   "source": [
    "So now we know how to construct a bag of words encoding of a user provided review, how to we send it to our endpoint? First, we need to start the endpoint back up."
   ]
  },
  {
   "cell_type": "code",
   "execution_count": 42,
   "metadata": {},
   "outputs": [
    {
     "name": "stderr",
     "output_type": "stream",
     "text": [
      "Parameter image will be renamed to image_uri in SageMaker Python SDK v2.\n",
      "Using already existing model: xgboost-2022-09-01-13-19-35-806\n"
     ]
    },
    {
     "name": "stdout",
     "output_type": "stream",
     "text": [
      "--------!"
     ]
    }
   ],
   "source": [
    "xgb_predictor = xgb.deploy(initial_instance_count = 1, instance_type = 'ml.m4.xlarge')"
   ]
  },
  {
   "cell_type": "markdown",
   "metadata": {},
   "source": [
    "At this point we could just do the same thing that we did earlier when we tested our deployed model and send `test_bow` to our endpoint using the `xgb_predictor` object. However, when we eventually construct our Lambda function we won't have access to this object, so how do we call a SageMaker endpoint?\n",
    "\n",
    "It turns out that Python functions that are used in Lambda have access to another Amazon library called `boto3`. This library provides an API for working with Amazon services, including SageMaker. To start with, we need to get a handle to the SageMaker runtime."
   ]
  },
  {
   "cell_type": "code",
   "execution_count": 43,
   "metadata": {},
   "outputs": [],
   "source": [
    "import boto3\n",
    "\n",
    "runtime = boto3.Session().client('sagemaker-runtime')"
   ]
  },
  {
   "cell_type": "markdown",
   "metadata": {},
   "source": [
    "And now that we have access to the SageMaker runtime, we can ask it to make use of (invoke) an endpoint that has already been created. However, we need to provide SageMaker with the name of the deployed endpoint. To find this out we can print it out using the `xgb_predictor` object."
   ]
  },
  {
   "cell_type": "code",
   "execution_count": 44,
   "metadata": {},
   "outputs": [
    {
     "data": {
      "text/plain": [
       "'xgboost-2022-09-01-13-19-35-806'"
      ]
     },
     "execution_count": 44,
     "metadata": {},
     "output_type": "execute_result"
    }
   ],
   "source": [
    "xgb_predictor.endpoint"
   ]
  },
  {
   "cell_type": "markdown",
   "metadata": {},
   "source": [
    "Using the SageMaker runtime and the name of our endpoint, we can invoke the endpoint and send it the `test_bow` data."
   ]
  },
  {
   "cell_type": "code",
   "execution_count": 45,
   "metadata": {},
   "outputs": [
    {
     "ename": "ParamValidationError",
     "evalue": "Parameter validation failed:\nInvalid type for parameter Body, value: [0, 0, 0, 0, 0, 0, 0, 0, 0, 0, 0, 0, 0, 0, 0, 0, 0, 0, 0, 0, 0, 0, 0, 0, 0, 0, 0, 0, 0, 0, 0, 0, 0, 0, 0, 0, 0, 0, 0, 0, 0, 0, 0, 0, 0, 0, 0, 0, 0, 0, 0, 0, 0, 0, 0, 0, 0, 0, 0, 0, 0, 0, 0, 0, 0, 0, 0, 0, 0, 0, 0, 0, 0, 0, 0, 0, 0, 0, 0, 0, 0, 0, 0, 0, 0, 0, 0, 0, 0, 0, 0, 0, 0, 0, 0, 0, 0, 0, 0, 0, 0, 0, 0, 0, 0, 0, 0, 0, 0, 0, 0, 0, 0, 0, 0, 0, 0, 0, 0, 0, 0, 0, 0, 0, 0, 0, 0, 0, 0, 0, 0, 0, 0, 0, 0, 0, 0, 0, 0, 0, 0, 0, 0, 0, 0, 0, 0, 0, 0, 0, 0, 0, 0, 0, 0, 0, 0, 0, 0, 0, 0, 0, 0, 0, 0, 0, 0, 0, 0, 0, 0, 0, 0, 0, 0, 0, 0, 0, 0, 0, 0, 0, 0, 0, 0, 0, 0, 0, 0, 0, 0, 0, 0, 0, 0, 0, 0, 0, 0, 0, 0, 0, 0, 0, 0, 0, 0, 0, 0, 0, 0, 0, 0, 0, 0, 0, 0, 0, 0, 0, 0, 0, 0, 0, 0, 0, 1, 0, 0, 0, 0, 0, 0, 0, 0, 0, 0, 0, 0, 0, 0, 0, 0, 0, 0, 0, 0, 0, 0, 0, 0, 0, 0, 0, 0, 0, 1, 0, 0, 0, 0, 0, 0, 0, 0, 0, 0, 0, 0, 0, 0, 0, 0, 0, 0, 0, 0, 0, 0, 0, 0, 0, 0, 0, 0, 0, 0, 0, 0, 0, 0, 0, 0, 0, 0, 0, 0, 0, 0, 0, 0, 0, 0, 0, 0, 0, 0, 0, 0, 0, 0, 0, 0, 0, 0, 0, 0, 0, 0, 0, 0, 0, 0, 0, 0, 0, 0, 0, 0, 0, 0, 0, 0, 0, 0, 0, 0, 0, 0, 0, 0, 0, 0, 0, 0, 0, 0, 0, 0, 0, 0, 0, 0, 0, 0, 0, 0, 0, 0, 0, 0, 0, 0, 0, 0, 0, 0, 0, 0, 0, 0, 0, 0, 0, 0, 0, 0, 0, 0, 0, 0, 0, 0, 0, 0, 0, 0, 0, 0, 0, 0, 0, 0, 0, 0, 0, 0, 0, 0, 0, 0, 0, 0, 0, 0, 0, 0, 0, 0, 0, 0, 0, 0, 0, 0, 0, 0, 0, 0, 0, 0, 0, 0, 0, 0, 0, 0, 0, 0, 0, 0, 0, 0, 0, 0, 0, 0, 0, 0, 0, 0, 0, 0, 0, 0, 0, 0, 0, 0, 0, 0, 0, 0, 0, 0, 0, 0, 0, 0, 0, 0, 0, 0, 0, 0, 0, 0, 0, 0, 0, 0, 0, 0, 0, 0, 0, 0, 0, 0, 0, 0, 0, 0, 0, 0, 0, 0, 0, 0, 0, 0, 0, 0, 0, 0, 0, 0, 0, 0, 0, 0, 0, 0, 0, 0, 0, 0, 0, 0, 0, 0, 0, 0, 0, 0, 0, 0, 0, 0, 0, 0, 0, 0, 0, 0, 0, 0, 0, 0, 0, 0, 0, 0, 0, 0, 0, 0, 0, 0, 0, 0, 0, 0, 0, 0, 0, 0, 0, 0, 0, 0, 0, 0, 0, 0, 0, 0, 0, 0, 0, 0, 0, 0, 0, 0, 0, 0, 0, 0, 0, 0, 0, 0, 0, 0, 0, 0, 0, 0, 0, 0, 0, 0, 0, 0, 0, 0, 0, 0, 0, 0, 0, 0, 0, 0, 0, 0, 0, 0, 0, 0, 0, 0, 0, 0, 0, 0, 0, 0, 0, 0, 0, 0, 0, 0, 0, 0, 0, 0, 0, 0, 0, 0, 0, 0, 0, 0, 0, 0, 0, 0, 0, 0, 0, 0, 0, 1, 0, 0, 0, 0, 0, 0, 0, 0, 0, 0, 0, 0, 0, 0, 0, 0, 0, 0, 0, 0, 0, 0, 0, 0, 0, 0, 0, 0, 0, 0, 0, 0, 0, 0, 0, 0, 0, 0, 0, 0, 0, 0, 0, 0, 0, 0, 0, 0, 0, 0, 0, 0, 0, 0, 0, 0, 0, 0, 0, 0, 0, 0, 0, 0, 0, 0, 0, 0, 0, 0, 0, 0, 0, 0, 0, 0, 0, 0, 0, 0, 0, 0, 0, 0, 0, 0, 0, 0, 0, 0, 0, 0, 0, 0, 0, 0, 0, 0, 0, 0, 0, 0, 0, 0, 0, 0, 0, 0, 0, 0, 0, 0, 0, 0, 0, 0, 0, 0, 0, 0, 0, 0, 0, 0, 0, 0, 0, 0, 0, 0, 0, 0, 0, 0, 0, 0, 0, 0, 0, 0, 0, 0, 0, 0, 0, 0, 0, 0, 0, 0, 0, 0, 0, 0, 0, 0, 0, 0, 0, 0, 0, 0, 0, 0, 0, 0, 0, 0, 0, 0, 0, 0, 0, 0, 0, 0, 0, 0, 0, 0, 0, 0, 0, 0, 0, 0, 0, 0, 0, 0, 0, 0, 0, 0, 0, 0, 0, 0, 0, 0, 0, 0, 0, 0, 0, 0, 0, 0, 0, 0, 0, 0, 0, 0, 0, 0, 0, 0, 0, 0, 0, 0, 0, 0, 0, 0, 0, 0, 0, 0, 0, 0, 0, 0, 0, 0, 0, 0, 0, 0, 0, 0, 0, 0, 0, 0, 0, 0, 0, 0, 0, 0, 0, 1, 0, 0, 0, 0, 0, 0, 0, 0, 0, 0, 0, 0, 0, 0, 0, 0, 0, 0, 0, 0, 0, 0, 0, 0, 0, 0, 0, 0, 0, 0, 0, 0, 0, 0, 0, 0, 0, 0, 0, 0, 0, 0, 0, 0, 0, 0, 0, 0, 0, 0, 0, 0, 0, 0, 0, 0, 0, 0, 0, 0, 0, 0, 0, 0, 0, 0, 0, 0, 0, 0, 0, 0, 0, 0, 0, 0, 0, 0, 0, 0, 0, 0, 0, 0, 0, 0, 1, 0, 0, 0, 0, 0, 0, 0, 0, 0, 0, 0, 0, 0, 0, 0, 0, 0, 0, 0, 0, 0, 0, 0, 0, 0, 0, 0, 0, 0, 0, 0, 0, 0, 0, 0, 0, 0, 0, 0, 0, 0, 0, 0, 0, 0, 0, 0, 0, 0, 0, 0, 0, 0, 0, 0, 0, 0, 0, 0, 0, 0, 0, 0, 0, 0, 0, 0, 0, 0, 0, 0, 0, 0, 0, 0, 0, 0, 0, 0, 0, 0, 0, 0, 0, 0, 0, 0, 0, 0, 0, 0, 0, 0, 0, 0, 0, 0, 0, 0, 0, 0, 0, 0, 0, 0, 0, 0, 0, 0, 0, 0, 0, 0, 0, 0, 0, 0, 0, 0, 0, 0, 0, 0, 0, 0, 0, 0, 0, 0, 0, 0, 0, 0, 0, 0, 0, 0, 0, 0, 0, 0, 0, 0, 0, 0, 0, 0, 0, 0, 0, 0, 0, 0, 0, 0, 0, 0, 0, 0, 0, 0, 0, 0, 0, 0, 0, 0, 0, 0, 0, 0, 0, 0, 0, 0, 0, 0, 0, 0, 0, 0, 0, 0, 0, 0, 0, 0, 0, 0, 0, 0, 0, 0, 0, 0, 0, 0, 0, 0, 0, 0, 0, 0, 0, 0, 0, 0, 0, 0, 0, 0, 0, 0, 0, 0, 0, 0, 0, 0, 0, 0, 0, 0, 0, 0, 0, 0, 0, 0, 0, 0, 0, 0, 0, 0, 0, 0, 0, 0, 0, 0, 0, 0, 0, 0, 0, 0, 0, 0, 0, 0, 0, 1, 0, 0, 0, 0, 0, 0, 0, 0, 0, 0, 0, 0, 0, 0, 0, 0, 0, 0, 0, 0, 0, 0, 0, 0, 0, 0, 0, 0, 0, 0, 0, 0, 0, 0, 0, 0, 0, 0, 0, 0, 0, 0, 0, 0, 0, 0, 0, 0, 0, 0, 0, 0, 0, 0, 0, 1, 0, 0, 0, 0, 0, 0, 0, 0, 0, 0, 0, 0, 0, 0, 0, 0, 0, 0, 0, 0, 0, 0, 0, 0, 0, 0, 0, 0, 0, 0, 0, 0, 0, 0, 0, 0, 0, 0, 0, 0, 0, 0, 0, 0, 0, 0, 0, 0, 0, 0, 0, 0, 0, 0, 0, 0, 0, 0, 0, 0, 0, 0, 0, 0, 0, 0, 0, 0, 0, 0, 0, 0, 0, 0, 0, 0, 0, 0, 0, 0, 0, 0, 0, 0, 0, 0, 0, 0, 0, 0, 0, 0, 0, 0, 0, 0, 0, 0, 0, 0, 0, 0, 0, 0, 0, 0, 0, 0, 0, 0, 0, 0, 0, 0, 0, 0, 0, 0, 0, 0, 0, 0, 0, 0, 0, 0, 0, 0, 0, 0, 0, 0, 0, 0, 0, 0, 0, 0, 0, 0, 0, 0, 0, 0, 0, 0, 0, 0, 0, 0, 0, 0, 0, 0, 0, 0, 0, 0, 0, 0, 0, 0, 0, 0, 0, 0, 0, 0, 0, 0, 0, 0, 0, 0, 0, 0, 0, 0, 0, 0, 0, 0, 0, 0, 0, 0, 0, 0, 0, 0, 0, 0, 0, 0, 0, 0, 0, 0, 0, 0, 0, 0, 0, 0, 0, 0, 0, 0, 0, 0, 0, 0, 0, 0, 0, 0, 0, 0, 0, 0, 0, 0, 0, 0, 0, 0, 0, 0, 0, 0, 0, 0, 0, 0, 0, 0, 0, 0, 0, 0, 0, 0, 0, 0, 0, 0, 0, 0, 0, 0, 0, 0, 0, 0, 0, 0, 0, 0, 0, 0, 0, 0, 0, 0, 0, 0, 0, 0, 0, 0, 0, 0, 0, 0, 0, 0, 0, 0, 0, 0, 0, 0, 0, 0, 0, 0, 0, 0, 0, 0, 0, 0, 0, 0, 0, 0, 0, 0, 0, 0, 0, 0, 0, 0, 0, 0, 0, 0, 0, 0, 0, 0, 0, 0, 0, 0, 0, 0, 0, 0, 0, 0, 0, 0, 0, 0, 0, 0, 0, 0, 0, 0, 0, 0, 0, 0, 0, 0, 0, 0, 0, 0, 0, 0, 0, 0, 0, 0, 0, 0, 0, 0, 0, 0, 0, 0, 0, 0, 0, 0, 0, 0, 0, 0, 0, 0, 0, 0, 0, 0, 0, 0, 0, 0, 0, 0, 0, 0, 0, 0, 0, 0, 0, 0, 0, 0, 0, 0, 0, 0, 0, 0, 0, 0, 0, 0, 0, 0, 0, 0, 0, 0, 0, 0, 0, 0, 0, 0, 0, 0, 0, 0, 0, 0, 0, 0, 0, 0, 0, 0, 0, 0, 0, 0, 0, 0, 0, 0, 0, 0, 0, 0, 0, 0, 0, 0, 0, 0, 0, 0, 0, 0, 0, 0, 0, 0, 0, 0, 0, 0, 0, 0, 0, 0, 0, 0, 0, 0, 0, 0, 0, 0, 0, 0, 0, 0, 0, 0, 0, 0, 0, 0, 0, 0, 0, 0, 0, 0, 0, 0, 0, 0, 0, 0, 0, 0, 0, 0, 0, 0, 0, 0, 0, 0, 0, 0, 0, 0, 0, 0, 0, 0, 0, 0, 0, 0, 0, 0, 0, 0, 0, 0, 0, 0, 0, 0, 0, 0, 0, 0, 0, 0, 0, 0, 0, 0, 0, 0, 0, 0, 0, 0, 0, 0, 0, 0, 0, 0, 0, 0, 0, 0, 0, 0, 0, 0, 0, 0, 0, 0, 0, 0, 0, 0, 0, 0, 0, 0, 0, 0, 0, 0, 0, 0, 0, 0, 0, 0, 0, 0, 0, 0, 0, 0, 0, 0, 0, 0, 0, 0, 0, 0, 0, 0, 0, 0, 0, 0, 0, 0, 0, 0, 0, 0, 0, 0, 0, 0, 0, 0, 0, 0, 0, 0, 0, 0, 0, 0, 0, 0, 0, 0, 0, 0, 0, 0, 0, 0, 0, 0, 0, 0, 0, 0, 0, 0, 0, 0, 0, 0, 0, 0, 0, 0, 0, 0, 0, 0, 0, 0, 0, 0, 0, 0, 0, 0, 0, 0, 0, 0, 0, 0, 0, 0, 0, 0, 0, 0, 0, 0, 0, 0, 0, 0, 0, 0, 0, 0, 0, 0, 0, 0, 0, 0, 0, 0, 0, 0, 0, 0, 0, 1, 0, 0, 0, 0, 0, 0, 0, 0, 0, 0, 0, 0, 0, 0, 0, 0, 0, 0, 0, 0, 0, 0, 0, 0, 0, 0, 0, 0, 0, 0, 0, 0, 0, 0, 0, 0, 0, 0, 0, 0, 0, 0, 0, 0, 0, 0, 0, 0, 0, 0, 0, 0, 0, 0, 0, 0, 0, 0, 0, 0, 0, 0, 0, 0, 0, 0, 0, 0, 0, 0, 0, 0, 0, 0, 1, 0, 0, 0, 0, 0, 0, 0, 0, 0, 0, 0, 0, 0, 0, 0, 0, 0, 0, 0, 0, 1, 0, 0, 1, 0, 0, 0, 0, 0, 0, 0, 0, 0, 0, 0, 0, 0, 0, 0, 0, 0, 0, 0, 0, 0, 0, 0, 0, 0, 0, 0, 0, 0, 0, 0, 0, 0, 0, 0, 0, 0, 0, 0, 0, 0, 0, 0, 0, 0, 0, 0, 0, 0, 0, 0, 0, 0, 0, 0, 0, 0, 0, 0, 0, 0, 0, 0, 0, 0, 0, 0, 0, 0, 0, 0, 0, 0, 0, 0, 0, 0, 0, 0, 0, 0, 0, 0, 0, 0, 0, 0, 0, 0, 0, 0, 0, 0, 0, 0, 0, 0, 0, 0, 0, 0, 0, 0, 0, 0, 0, 0, 0, 0, 0, 0, 0, 0, 0, 0, 0, 0, 0, 0, 0, 0, 0, 0, 0, 0, 0, 0, 0, 0, 0, 0, 0, 0, 0, 0, 0, 0, 0, 0, 0, 0, 0, 0, 0, 0, 0, 0, 0, 0, 0, 0, 0, 0, 0, 0, 0, 0, 0, 0, 0, 0, 0, 0, 0, 0, 0, 0, 0, 0, 0, 0, 0, 0, 0, 0, 0, 0, 0, 0, 0, 0, 0, 0, 0, 0, 0, 0, 0, 0, 0, 0, 0, 0, 0, 0, 0, 0, 0, 0, 0, 0, 0, 0, 0, 0, 0, 0, 0, 0, 0, 0, 0, 0, 0, 0, 0, 0, 0, 0, 0, 0, 0, 0, 0, 0, 0, 0, 0, 0, 0, 0, 0, 0, 0, 0, 0, 0, 0, 0, 0, 0, 0, 0, 0, 0, 0, 0, 0, 0, 0, 0, 0, 0, 0, 0, 0, 0, 0, 0, 0, 0, 0, 0, 0, 0, 0, 0, 0, 0, 0, 0, 0, 0, 0, 0, 0, 0, 0, 0, 0, 0, 0, 0, 0, 0, 0, 0, 0, 0, 0, 0, 0, 0, 0, 0, 0, 0, 0, 0, 0, 0, 0, 0, 0, 0, 0, 0, 0, 0, 0, 0, 0, 0, 0, 0, 0, 0, 0, 0, 0, 0, 0, 0, 0, 0, 0, 0, 0, 0, 0, 0, 0, 0, 0, 0, 0, 0, 0, 0, 0, 0, 0, 0, 0, 0, 0, 0, 0, 0, 0, 0, 0, 0, 0, 0, 0, 0, 0, 0, 0, 0, 0, 0, 0, 0, 0, 0, 0, 0, 0, 0, 0, 0, 0, 0, 0, 0, 0, 0, 0, 0, 0, 0, 0, 0, 0, 0, 0, 0, 0, 0, 0, 0, 0, 0, 0, 0, 0, 0, 0, 0, 0, 0, 0, 0, 0, 0, 0, 0, 0, 0, 0, 0, 0, 0, 0, 0, 0, 0, 0, 0, 0, 0, 0, 0, 0, 0, 0, 0, 0, 0, 0, 0, 0, 0, 0, 0, 0, 0, 0, 0, 0, 0, 0, 0, 0, 0, 0, 0, 0, 0, 0, 0, 0, 0, 0, 0, 0, 0, 0, 0, 0, 0, 0, 0, 0, 1, 0, 0, 0, 0, 0, 0, 0, 0, 0, 0, 0, 0, 0, 0, 0, 0, 0, 0, 0, 0, 0, 0, 0, 0, 0, 0, 0, 0, 0, 0, 0, 0, 0, 0, 0, 0, 0, 0, 0, 0, 0, 0, 0, 0, 0, 0, 0, 0, 0, 0, 0, 0, 0, 0, 0, 0, 0, 0, 0, 0, 0, 0, 0, 0, 0, 0, 0, 0, 0, 0, 0, 0, 0, 0, 0, 0, 0, 0, 0, 0, 0, 0, 0, 0, 0, 0, 0, 0, 0, 0, 0, 0, 0, 0, 0, 0, 0, 0, 0, 0, 0, 0, 0, 0, 0, 0, 0, 0, 0, 0, 0, 0, 0, 0, 0, 0, 0, 0, 0, 0, 0, 0, 0, 0, 0, 0, 0, 0, 0, 0, 0, 0, 0, 0, 0, 0, 0, 0, 0, 0, 0, 0, 0, 0, 0, 0, 0, 0, 0, 0, 0, 0, 0, 0, 0, 0, 0, 0, 0, 0, 0, 0, 0, 0, 0, 0, 0, 0, 0, 0, 0, 0, 0, 0, 0, 0, 0, 0, 0, 0, 0, 0, 0, 0, 0, 0, 0, 0, 0, 0, 0, 0, 0, 0, 0, 0, 0, 0, 0, 0, 0, 0, 0, 0, 0, 0, 0, 0, 0, 0, 0, 0, 0, 0, 0, 0, 0, 0, 0, 0, 0, 0, 0, 0, 0, 0, 0, 0, 0, 0, 0, 0, 0, 0, 0, 0, 0, 0, 0, 0, 0, 0, 0, 0, 0, 0, 0, 0, 0, 0, 0, 0, 0, 0, 0, 0, 0, 0, 0, 0, 0, 0, 0, 0, 0, 0, 0, 0, 0, 0, 0, 0, 0, 0, 0, 0, 0, 0, 0, 0, 0, 0, 0, 0, 0, 0, 0, 0, 0, 0, 0, 0, 0, 0, 0, 0, 0, 0, 0, 0, 0, 0, 0, 0, 0, 0, 0, 0, 0, 0, 0, 0, 0, 0, 0, 0, 0, 0, 0, 0, 0, 0, 0, 0, 0, 0, 0, 0, 0, 0, 0, 0, 0, 0, 0, 0, 0, 0, 0, 0, 0, 0, 0, 0, 0, 0, 0, 0, 0, 0, 0, 0, 0, 0, 0, 0, 0, 0, 0, 0, 0, 0, 0, 0, 0, 0, 0, 0, 0, 0, 0, 0, 0, 0, 0, 0, 0, 0, 0, 0, 0, 0, 0, 0, 0, 0, 0, 0, 0, 0, 0, 0, 0, 0, 0, 0, 0, 0, 0, 0, 0, 0, 0, 0, 0, 0, 0, 0, 0, 0, 0, 0, 0, 0, 0, 0, 0, 0, 0, 0, 0, 0, 0, 0, 0, 0, 0, 0, 0, 0, 0, 0, 0, 0, 0, 0, 0, 0, 0, 0, 0, 0, 0, 0, 0, 0, 0, 0, 0, 0, 0, 0, 0, 0, 0, 0, 0, 0, 0, 0, 0, 0, 0, 0, 0, 0, 0, 0, 0, 0, 0, 0, 0, 0, 0, 0, 0, 0, 0, 0, 0, 0, 0, 0, 0, 0, 0, 0, 0, 0, 0, 0, 0, 0, 0, 0, 0, 0, 0, 0, 0, 0, 0, 0, 0, 0, 0, 0, 0, 0, 0, 0, 1, 0, 0, 0, 0, 0, 0, 0, 0, 0, 0, 0, 0, 0, 0, 0, 0, 0, 0, 0, 0, 0, 0, 0, 0, 0, 0, 0, 0, 0, 0, 0, 0, 0, 0, 0, 2, 0, 0, 0, 0, 0, 0, 0, 0, 0, 0, 0, 0, 0, 0, 0, 0, 0, 0, 0, 0, 0, 0, 0, 0, 0, 0, 0, 0, 0, 0, 0, 0, 0, 0, 0, 0, 0, 0, 0, 0, 1, 0, 0, 0, 0, 0, 0, 0, 0, 0, 0, 0, 0, 0, 0, 0, 0, 0, 0, 0, 0, 0, 0, 0, 0, 0, 0, 0, 0, 0, 0, 0, 0, 0, 0, 0, 0, 0, 0, 0, 0, 0, 0, 0, 0, 0, 0, 0, 0, 0, 0, 0, 0, 0, 0, 0, 0, 0, 0, 0, 0, 0, 0, 0, 0, 0, 0, 0, 0, 0, 0, 0, 0, 0, 0, 0, 0, 0, 0, 0, 0, 0, 0, 0, 0, 0, 0, 0, 0, 0, 0, 0, 0, 0, 0, 0, 0, 0, 0, 0, 0, 0, 0, 0, 0, 0, 0, 0, 0, 0, 0, 0, 0, 0, 0, 0, 0, 0, 0, 0, 0, 0, 0, 0, 0, 0, 0, 0, 0, 0, 0, 0, 0, 0, 0, 0, 0, 0, 0, 0, 0, 0, 0, 0, 0, 0, 0, 0, 0, 0, 0, 0, 0, 0, 0, 0, 0, 0, 0, 0, 0, 0, 0, 0, 0, 0, 0, 0, 0, 0, 0, 0, 0, 0, 0, 0, 0, 0, 0, 0, 0, 0, 0, 0, 0, 0, 0, 0, 0, 0, 0, 0, 0, 0, 0, 0, 0, 0, 0, 0, 0, 0, 0, 0, 0, 0, 0, 0, 0, 0, 0, 0, 0, 0, 0, 0, 0, 0, 0, 0, 0, 0, 0, 0, 0, 0, 0, 0, 0, 0, 0, 0, 0, 0, 0, 0, 0, 0, 0, 0, 0, 0, 0, 0, 0, 0, 0, 0, 0, 0, 0, 0, 0, 0, 0, 0, 0, 0, 0, 0, 0, 0, 0, 0, 0, 0, 0, 0, 0, 0, 0, 0, 0, 0, 0, 0, 0, 0, 0, 0, 0, 0, 0, 0, 0, 0, 0, 0, 0, 0, 0, 0, 0, 0, 0, 0, 0, 0, 0, 0, 0, 0, 0, 0, 0, 0, 0, 0, 0, 0, 0, 0, 0, 0, 0, 0, 0, 0, 0, 0, 0, 0, 0, 0, 0, 0, 0, 0, 0, 0, 0, 0, 0, 0, 0, 0, 0, 0, 0, 0, 0, 0, 0, 0, 0, 0, 0, 0, 0, 0, 0, 0, 0, 0, 0, 0, 0, 0, 0, 0, 0, 0, 0, 0, 0, 0, 0, 0, 0, 0, 0, 0, 0, 0, 0, 0, 0, 0, 0, 0, 0, 0, 0, 0, 0, 0, 0, 0, 0, 0, 0, 0, 0, 0, 0, 0, 0, 0, 0, 0, 0, 0, 0, 0, 0, 0, 0, 0, 0, 0, 0, 0, 0, 0, 0, 0, 0, 0, 0, 0, 0, 0, 0, 0, 0, 0, 0, 0, 0, 0, 0, 0, 0, 0, 0, 0, 0, 0, 0, 0, 0, 0, 0, 0, 0, 0, 0, 0, 0, 0, 0, 0, 0, 0, 0, 0, 0, 0, 0, 0, 0, 0, 0, 0, 0, 0, 0, 0, 0, 0, 0, 0, 0, 0, 0, 0, 0, 0, 0, 0, 0, 0, 0, 0, 0, 0, 0, 0, 0, 0, 0, 0, 0, 0, 0, 0, 0, 0, 1, 0, 0, 0, 0, 0, 0, 0, 0, 0, 0, 0, 0, 0, 0, 0, 0, 0, 0, 0, 0, 0, 0, 0, 0, 0, 0, 0, 0, 0, 0, 0, 0, 0, 0, 0, 0, 0, 0, 0, 0, 0, 0, 0, 0, 0, 0, 0, 0, 0, 0, 0, 0, 0, 0, 0, 0, 0, 0, 0, 0, 0, 0, 0, 0, 0, 0, 0, 0, 0, 0, 0, 0, 0, 0, 0, 0, 0, 0, 0, 0, 0, 0, 0, 0, 0, 0, 0, 0, 0, 0, 0, 0, 0, 0, 0, 0, 0, 0, 0, 0, 0, 0, 0, 0, 0, 0, 0, 0, 0, 0, 2, 0, 0, 0, 0, 0, 0, 0, 0, 0, 0, 0, 0, 0, 0, 0, 0, 0, 0, 0, 0, 0, 0, 0, 0, 0, 0, 0, 0, 0, 0, 0, 0, 0, 0, 0, 0, 0, 0, 0, 0, 0, 0, 0, 0, 0, 0, 0, 0, 0, 0, 0, 0, 0, 0, 0, 0, 0, 0, 0, 0, 0, 0, 0, 0, 0, 0, 0, 0, 0, 0, 0, 0, 0, 0, 0, 0, 0, 0, 0, 0, 0, 0, 0, 0, 0, 0, 0, 0, 0, 0, 0, 0, 0, 0, 0, 0, 0, 0, 0, 0, 0, 0, 0, 0, 0, 0, 0, 0, 0, 0, 0, 0, 0, 0, 0, 0, 0, 0, 0, 0, 0, 0, 0, 0, 0, 0, 0, 0, 0, 0, 0, 0, 0, 0, 0, 0, 0, 0, 0, 0, 0, 0, 0, 0, 0, 0, 0, 0, 0, 0, 0, 0, 0, 0, 0, 0, 0, 0, 0, 0, 0, 0, 0, 0, 0, 0, 0, 0, 0, 0, 0, 0, 0, 0, 0, 0, 0, 0, 0, 0, 0, 0, 0, 0, 0, 0, 0, 0, 0, 0, 0, 0, 0, 0, 0, 0, 0, 0, 0, 0, 0, 0, 0, 0, 0, 0, 0, 0, 0, 0, 0, 0, 0, 0, 0, 0, 0, 0, 0, 0, 0, 0, 0, 0, 0, 0, 0, 0, 0, 0, 0, 0, 0, 0, 0, 0, 0, 0, 0, 0, 0, 0, 0, 0, 0, 0, 0, 0, 0, 0, 0, 0, 0, 0, 0, 0, 0, 0, 0, 0, 0, 0, 0, 0, 0, 0, 0, 0, 0, 0, 0, 0, 0, 0, 0, 0, 0, 0, 0, 0, 0, 0, 0, 0, 0, 0, 0, 0, 0, 0, 0, 0, 0, 0, 0, 0, 0, 0, 0, 0, 0, 0, 0, 0, 0, 0, 0, 0, 0, 0, 0, 0, 0, 0, 0, 0, 0, 0, 0, 0, 0, 0, 0, 0, 0, 0, 0, 0, 0, 0, 0, 0, 0, 0, 0, 0, 0, 0, 0, 0, 0, 0, 0, 0, 0, 0, 0, 0, 0, 0, 0, 0, 0, 0, 0, 0, 0, 0, 0, 0, 0, 0, 0, 0, 0, 0, 0, 0, 0, 0, 0, 0, 0, 0, 0, 0, 0, 0, 0, 0, 0, 0, 0, 0, 0, 0, 0, 0, 0, 0, 0, 0, 0, 0, 0, 0, 0, 0, 0, 0, 0, 0, 0, 0, 0, 0, 0, 0, 0, 0, 0, 0, 0, 0, 0, 0, 0, 0, 0, 0, 0, 0, 0, 0, 0, 0, 0, 0, 0, 0, 0, 0, 0, 0, 0, 0, 0, 0, 0, 0, 0, 0, 0, 0, 0, 0, 0, 0, 0, 0, 0, 0, 0, 0, 0, 0, 0, 0, 0, 0, 0, 0, 0, 0, 0, 0, 0, 0, 0, 0, 0, 0, 0, 0, 0, 0, 0, 0, 0, 0, 0, 0, 0, 0, 0, 0, 0, 0, 0, 0, 0, 0, 0, 0, 0, 0, 0, 0, 0, 0, 0, 0, 0, 0, 0, 0, 0, 0, 0, 0, 0, 0, 0, 0, 0, 0, 0, 0, 0, 0, 0, 0, 0, 0, 0, 0, 0, 0, 0, 0, 0, 0, 0, 0, 0, 0, 0, 0, 0, 0, 0, 0, 0, 0, 0, 0, 0, 0, 0, 0, 0, 0, 0, 0, 0, 0, 0, 0, 0, 0, 0, 0, 0, 0, 0, 0, 0, 0, 0, 0, 0, 0, 0, 0, 0, 0, 0, 0, 0, 0, 0, 0, 0, 0, 0, 0, 0, 0, 0, 0, 0, 0, 0, 0, 0, 0, 0, 0, 0, 0, 0, 0, 0, 0, 0, 0, 0, 0, 0, 0, 0, 0, 0, 0, 0, 0, 0, 0, 0, 0, 0, 0, 0, 0, 0, 0, 0, 0, 0, 0, 0, 0, 0, 0, 0, 0, 0, 0, 0, 0, 0, 0, 0, 0, 0, 0, 0, 0, 0, 0, 0, 0, 0, 0, 0, 0, 0, 0, 0, 0, 0, 0, 0, 0, 0, 0, 0, 0, 0, 0, 0, 0, 0, 0, 0, 0, 0, 0, 0, 0, 0, 0, 0, 0, 0, 0, 0, 0, 0, 0, 1, 0, 0, 0, 0, 0, 0, 0, 0, 0, 0, 0, 0, 0, 0, 0, 0, 0, 0, 0, 0, 0, 0, 0, 0, 0, 0, 0, 0, 0, 0, 0, 0, 0, 0, 0, 0, 0, 0, 0, 0, 0, 0, 0, 0, 0, 0, 0, 0, 0, 0, 0, 0, 0, 0, 0, 0, 0, 0, 0, 0, 0, 0, 0, 0, 0, 0, 0, 0, 0, 0, 0, 0, 0, 0, 0, 0, 0, 0, 0, 0, 0, 0, 0, 0, 0, 0, 0, 0, 0, 0, 0, 0, 0, 0, 0, 0, 0, 0, 0, 0, 0, 0, 0, 0, 0, 0, 0, 1, 0, 0, 0, 0, 0, 0, 0, 0, 0, 0, 0, 0, 0, 0, 0, 0, 0, 0, 0, 0, 0, 0, 0, 0, 0, 0, 0, 0, 0, 0, 0, 0, 0, 0, 0, 0, 0, 0, 0, 0, 0, 0, 0, 0, 0, 0, 0, 0, 0, 0, 0, 0, 0, 0, 0, 0, 0, 0, 0, 0, 0, 0, 0, 0, 0, 0, 0, 0, 0, 0, 0, 0, 0, 0, 0, 0, 0, 0, 0, 0, 0, 0, 0, 0, 0, 0, 0, 0, 0, 0, 0, 0, 0, 0, 0, 0, 0, 0, 0, 0, 0, 0, 0, 0, 0, 0, 0, 0, 0, 0, 0, 0, 0, 0, 0, 0, 0, 0, 0, 0, 0, 0, 0, 0, 0, 0, 0, 0, 0, 0, 0, 0, 0, 0, 0, 0, 0, 0, 0, 0, 0, 0, 0, 0, 0, 0, 0, 0, 0, 0, 0, 0, 0, 0, 0, 0, 0, 0, 0, 0, 0, 0, 0, 0, 0, 0, 0, 0, 0, 0, 0, 0, 0, 0, 0, 0, 0, 0, 0, 0, 0, 0, 0, 0, 0, 0, 0, 0, 0, 0, 0, 0, 0, 0, 0, 0, 0, 0, 0, 0, 0, 0, 0, 0, 0, 0, 0, 0, 0, 0, 0, 0, 0, 0, 0, 0, 0, 0, 0, 0, 0, 0, 0, 0, 0, 0, 0, 0, 0, 0, 0, 0, 0, 0, 0, 0, 0, 0, 0, 0, 0, 0, 0, 0, 0, 0, 0, 0, 0, 0, 0, 0, 0, 0, 0, 0, 0, 0, 0, 0, 0, 0, 0, 0, 0, 0, 0, 0, 0, 0, 0, 0, 0, 0, 0, 0, 0, 0, 0, 0, 0, 0, 0, 0, 0, 0, 0, 0, 0, 0, 0, 0, 0, 0, 0, 0, 0, 0, 0, 0, 0, 0, 0, 0, 0, 0, 0, 0, 0, 0, 0, 0, 0, 0, 0, 0, 0, 0, 0, 0, 0, 0, 0, 0, 0, 0, 0, 0, 0, 0, 0, 0, 0, 0, 0, 0, 0, 0, 0, 0, 0, 0, 0, 0, 0, 0, 0, 0, 0, 0, 0, 0, 0, 0, 0, 0, 0, 0, 0, 0, 0, 0, 0, 0, 0, 0, 0, 0, 0, 0, 0, 0, 0, 0, 0, 0, 0, 0, 0, 0, 0, 0, 0, 0, 0, 0, 0, 0, 0, 0, 0, 0, 0, 0, 0, 0, 0, 0, 0, 0, 0, 0, 0, 0, 0, 0, 0, 0, 0, 0, 0, 0, 0, 0, 0, 0, 0, 0, 0, 0, 0, 0, 0, 0, 0, 0, 0, 0, 0, 0, 0, 0, 0, 0, 0, 0, 0, 0, 0, 0, 0, 0, 0, 0, 0, 0, 0, 0, 0, 0, 0, 0, 0, 0, 0, 0, 0, 0, 0, 0, 0, 0, 0, 2, 0, 1, 0], type: <class 'list'>, valid types: <class 'bytes'>, <class 'bytearray'>, file-like object",
     "output_type": "error",
     "traceback": [
      "\u001b[0;31m---------------------------------------------------------------------------\u001b[0m",
      "\u001b[0;31mParamValidationError\u001b[0m                      Traceback (most recent call last)",
      "\u001b[0;32m/tmp/ipykernel_8142/83922512.py\u001b[0m in \u001b[0;36m<cell line: 1>\u001b[0;34m()\u001b[0m\n\u001b[0;32m----> 1\u001b[0;31m response = runtime.invoke_endpoint(EndpointName = xgb_predictor.endpoint, # The name of the endpoint we created\n\u001b[0m\u001b[1;32m      2\u001b[0m                                        \u001b[0mContentType\u001b[0m \u001b[0;34m=\u001b[0m \u001b[0;34m'text/csv'\u001b[0m\u001b[0;34m,\u001b[0m                     \u001b[0;31m# The data format that is expected\u001b[0m\u001b[0;34m\u001b[0m\u001b[0;34m\u001b[0m\u001b[0m\n\u001b[1;32m      3\u001b[0m                                        Body = test_bow)\n",
      "\u001b[0;32m~/anaconda3/envs/pytorch_p38/lib/python3.8/site-packages/botocore/client.py\u001b[0m in \u001b[0;36m_api_call\u001b[0;34m(self, *args, **kwargs)\u001b[0m\n\u001b[1;32m    512\u001b[0m                 )\n\u001b[1;32m    513\u001b[0m             \u001b[0;31m# The \"self\" in this scope is referring to the BaseClient.\u001b[0m\u001b[0;34m\u001b[0m\u001b[0;34m\u001b[0m\u001b[0;34m\u001b[0m\u001b[0m\n\u001b[0;32m--> 514\u001b[0;31m             \u001b[0;32mreturn\u001b[0m \u001b[0mself\u001b[0m\u001b[0;34m.\u001b[0m\u001b[0m_make_api_call\u001b[0m\u001b[0;34m(\u001b[0m\u001b[0moperation_name\u001b[0m\u001b[0;34m,\u001b[0m \u001b[0mkwargs\u001b[0m\u001b[0;34m)\u001b[0m\u001b[0;34m\u001b[0m\u001b[0;34m\u001b[0m\u001b[0m\n\u001b[0m\u001b[1;32m    515\u001b[0m \u001b[0;34m\u001b[0m\u001b[0m\n\u001b[1;32m    516\u001b[0m         \u001b[0m_api_call\u001b[0m\u001b[0;34m.\u001b[0m\u001b[0m__name__\u001b[0m \u001b[0;34m=\u001b[0m \u001b[0mstr\u001b[0m\u001b[0;34m(\u001b[0m\u001b[0mpy_operation_name\u001b[0m\u001b[0;34m)\u001b[0m\u001b[0;34m\u001b[0m\u001b[0;34m\u001b[0m\u001b[0m\n",
      "\u001b[0;32m~/anaconda3/envs/pytorch_p38/lib/python3.8/site-packages/botocore/client.py\u001b[0m in \u001b[0;36m_make_api_call\u001b[0;34m(self, operation_name, api_params)\u001b[0m\n\u001b[1;32m    895\u001b[0m             \u001b[0;34m'auth_type'\u001b[0m\u001b[0;34m:\u001b[0m \u001b[0moperation_model\u001b[0m\u001b[0;34m.\u001b[0m\u001b[0mauth_type\u001b[0m\u001b[0;34m,\u001b[0m\u001b[0;34m\u001b[0m\u001b[0;34m\u001b[0m\u001b[0m\n\u001b[1;32m    896\u001b[0m         }\n\u001b[0;32m--> 897\u001b[0;31m         request_dict = self._convert_to_request_dict(\n\u001b[0m\u001b[1;32m    898\u001b[0m             \u001b[0mapi_params\u001b[0m\u001b[0;34m,\u001b[0m \u001b[0moperation_model\u001b[0m\u001b[0;34m,\u001b[0m \u001b[0mcontext\u001b[0m\u001b[0;34m=\u001b[0m\u001b[0mrequest_context\u001b[0m\u001b[0;34m\u001b[0m\u001b[0;34m\u001b[0m\u001b[0m\n\u001b[1;32m    899\u001b[0m         )\n",
      "\u001b[0;32m~/anaconda3/envs/pytorch_p38/lib/python3.8/site-packages/botocore/client.py\u001b[0m in \u001b[0;36m_convert_to_request_dict\u001b[0;34m(self, api_params, operation_model, context)\u001b[0m\n\u001b[1;32m    956\u001b[0m             \u001b[0mapi_params\u001b[0m\u001b[0;34m,\u001b[0m \u001b[0moperation_model\u001b[0m\u001b[0;34m,\u001b[0m \u001b[0mcontext\u001b[0m\u001b[0;34m\u001b[0m\u001b[0;34m\u001b[0m\u001b[0m\n\u001b[1;32m    957\u001b[0m         )\n\u001b[0;32m--> 958\u001b[0;31m         request_dict = self._serializer.serialize_to_request(\n\u001b[0m\u001b[1;32m    959\u001b[0m             \u001b[0mapi_params\u001b[0m\u001b[0;34m,\u001b[0m \u001b[0moperation_model\u001b[0m\u001b[0;34m\u001b[0m\u001b[0;34m\u001b[0m\u001b[0m\n\u001b[1;32m    960\u001b[0m         )\n",
      "\u001b[0;32m~/anaconda3/envs/pytorch_p38/lib/python3.8/site-packages/botocore/validate.py\u001b[0m in \u001b[0;36mserialize_to_request\u001b[0;34m(self, parameters, operation_model)\u001b[0m\n\u001b[1;32m    379\u001b[0m             )\n\u001b[1;32m    380\u001b[0m             \u001b[0;32mif\u001b[0m \u001b[0mreport\u001b[0m\u001b[0;34m.\u001b[0m\u001b[0mhas_errors\u001b[0m\u001b[0;34m(\u001b[0m\u001b[0;34m)\u001b[0m\u001b[0;34m:\u001b[0m\u001b[0;34m\u001b[0m\u001b[0;34m\u001b[0m\u001b[0m\n\u001b[0;32m--> 381\u001b[0;31m                 \u001b[0;32mraise\u001b[0m \u001b[0mParamValidationError\u001b[0m\u001b[0;34m(\u001b[0m\u001b[0mreport\u001b[0m\u001b[0;34m=\u001b[0m\u001b[0mreport\u001b[0m\u001b[0;34m.\u001b[0m\u001b[0mgenerate_report\u001b[0m\u001b[0;34m(\u001b[0m\u001b[0;34m)\u001b[0m\u001b[0;34m)\u001b[0m\u001b[0;34m\u001b[0m\u001b[0;34m\u001b[0m\u001b[0m\n\u001b[0m\u001b[1;32m    382\u001b[0m         return self._serializer.serialize_to_request(\n\u001b[1;32m    383\u001b[0m             \u001b[0mparameters\u001b[0m\u001b[0;34m,\u001b[0m \u001b[0moperation_model\u001b[0m\u001b[0;34m\u001b[0m\u001b[0;34m\u001b[0m\u001b[0m\n",
      "\u001b[0;31mParamValidationError\u001b[0m: Parameter validation failed:\nInvalid type for parameter Body, value: [0, 0, 0, 0, 0, 0, 0, 0, 0, 0, 0, 0, 0, 0, 0, 0, 0, 0, 0, 0, 0, 0, 0, 0, 0, 0, 0, 0, 0, 0, 0, 0, 0, 0, 0, 0, 0, 0, 0, 0, 0, 0, 0, 0, 0, 0, 0, 0, 0, 0, 0, 0, 0, 0, 0, 0, 0, 0, 0, 0, 0, 0, 0, 0, 0, 0, 0, 0, 0, 0, 0, 0, 0, 0, 0, 0, 0, 0, 0, 0, 0, 0, 0, 0, 0, 0, 0, 0, 0, 0, 0, 0, 0, 0, 0, 0, 0, 0, 0, 0, 0, 0, 0, 0, 0, 0, 0, 0, 0, 0, 0, 0, 0, 0, 0, 0, 0, 0, 0, 0, 0, 0, 0, 0, 0, 0, 0, 0, 0, 0, 0, 0, 0, 0, 0, 0, 0, 0, 0, 0, 0, 0, 0, 0, 0, 0, 0, 0, 0, 0, 0, 0, 0, 0, 0, 0, 0, 0, 0, 0, 0, 0, 0, 0, 0, 0, 0, 0, 0, 0, 0, 0, 0, 0, 0, 0, 0, 0, 0, 0, 0, 0, 0, 0, 0, 0, 0, 0, 0, 0, 0, 0, 0, 0, 0, 0, 0, 0, 0, 0, 0, 0, 0, 0, 0, 0, 0, 0, 0, 0, 0, 0, 0, 0, 0, 0, 0, 0, 0, 0, 0, 0, 0, 0, 0, 0, 1, 0, 0, 0, 0, 0, 0, 0, 0, 0, 0, 0, 0, 0, 0, 0, 0, 0, 0, 0, 0, 0, 0, 0, 0, 0, 0, 0, 0, 0, 1, 0, 0, 0, 0, 0, 0, 0, 0, 0, 0, 0, 0, 0, 0, 0, 0, 0, 0, 0, 0, 0, 0, 0, 0, 0, 0, 0, 0, 0, 0, 0, 0, 0, 0, 0, 0, 0, 0, 0, 0, 0, 0, 0, 0, 0, 0, 0, 0, 0, 0, 0, 0, 0, 0, 0, 0, 0, 0, 0, 0, 0, 0, 0, 0, 0, 0, 0, 0, 0, 0, 0, 0, 0, 0, 0, 0, 0, 0, 0, 0, 0, 0, 0, 0, 0, 0, 0, 0, 0, 0, 0, 0, 0, 0, 0, 0, 0, 0, 0, 0, 0, 0, 0, 0, 0, 0, 0, 0, 0, 0, 0, 0, 0, 0, 0, 0, 0, 0, 0, 0, 0, 0, 0, 0, 0, 0, 0, 0, 0, 0, 0, 0, 0, 0, 0, 0, 0, 0, 0, 0, 0, 0, 0, 0, 0, 0, 0, 0, 0, 0, 0, 0, 0, 0, 0, 0, 0, 0, 0, 0, 0, 0, 0, 0, 0, 0, 0, 0, 0, 0, 0, 0, 0, 0, 0, 0, 0, 0, 0, 0, 0, 0, 0, 0, 0, 0, 0, 0, 0, 0, 0, 0, 0, 0, 0, 0, 0, 0, 0, 0, 0, 0, 0, 0, 0, 0, 0, 0, 0, 0, 0, 0, 0, 0, 0, 0, 0, 0, 0, 0, 0, 0, 0, 0, 0, 0, 0, 0, 0, 0, 0, 0, 0, 0, 0, 0, 0, 0, 0, 0, 0, 0, 0, 0, 0, 0, 0, 0, 0, 0, 0, 0, 0, 0, 0, 0, 0, 0, 0, 0, 0, 0, 0, 0, 0, 0, 0, 0, 0, 0, 0, 0, 0, 0, 0, 0, 0, 0, 0, 0, 0, 0, 0, 0, 0, 0, 0, 0, 0, 0, 0, 0, 0, 0, 0, 0, 0, 0, 0, 0, 0, 0, 0, 0, 0, 0, 0, 0, 0, 0, 0, 0, 0, 0, 0, 0, 0, 0, 0, 0, 0, 0, 0, 0, 0, 0, 0, 0, 0, 0, 0, 0, 0, 0, 0, 0, 0, 0, 0, 0, 0, 0, 0, 0, 0, 0, 0, 0, 0, 0, 0, 0, 0, 0, 0, 0, 0, 0, 0, 0, 0, 0, 0, 0, 0, 0, 0, 0, 0, 0, 0, 0, 0, 0, 0, 0, 0, 0, 0, 1, 0, 0, 0, 0, 0, 0, 0, 0, 0, 0, 0, 0, 0, 0, 0, 0, 0, 0, 0, 0, 0, 0, 0, 0, 0, 0, 0, 0, 0, 0, 0, 0, 0, 0, 0, 0, 0, 0, 0, 0, 0, 0, 0, 0, 0, 0, 0, 0, 0, 0, 0, 0, 0, 0, 0, 0, 0, 0, 0, 0, 0, 0, 0, 0, 0, 0, 0, 0, 0, 0, 0, 0, 0, 0, 0, 0, 0, 0, 0, 0, 0, 0, 0, 0, 0, 0, 0, 0, 0, 0, 0, 0, 0, 0, 0, 0, 0, 0, 0, 0, 0, 0, 0, 0, 0, 0, 0, 0, 0, 0, 0, 0, 0, 0, 0, 0, 0, 0, 0, 0, 0, 0, 0, 0, 0, 0, 0, 0, 0, 0, 0, 0, 0, 0, 0, 0, 0, 0, 0, 0, 0, 0, 0, 0, 0, 0, 0, 0, 0, 0, 0, 0, 0, 0, 0, 0, 0, 0, 0, 0, 0, 0, 0, 0, 0, 0, 0, 0, 0, 0, 0, 0, 0, 0, 0, 0, 0, 0, 0, 0, 0, 0, 0, 0, 0, 0, 0, 0, 0, 0, 0, 0, 0, 0, 0, 0, 0, 0, 0, 0, 0, 0, 0, 0, 0, 0, 0, 0, 0, 0, 0, 0, 0, 0, 0, 0, 0, 0, 0, 0, 0, 0, 0, 0, 0, 0, 0, 0, 0, 0, 0, 0, 0, 0, 0, 0, 0, 0, 0, 0, 0, 0, 0, 0, 0, 0, 0, 0, 0, 0, 0, 0, 0, 1, 0, 0, 0, 0, 0, 0, 0, 0, 0, 0, 0, 0, 0, 0, 0, 0, 0, 0, 0, 0, 0, 0, 0, 0, 0, 0, 0, 0, 0, 0, 0, 0, 0, 0, 0, 0, 0, 0, 0, 0, 0, 0, 0, 0, 0, 0, 0, 0, 0, 0, 0, 0, 0, 0, 0, 0, 0, 0, 0, 0, 0, 0, 0, 0, 0, 0, 0, 0, 0, 0, 0, 0, 0, 0, 0, 0, 0, 0, 0, 0, 0, 0, 0, 0, 0, 0, 1, 0, 0, 0, 0, 0, 0, 0, 0, 0, 0, 0, 0, 0, 0, 0, 0, 0, 0, 0, 0, 0, 0, 0, 0, 0, 0, 0, 0, 0, 0, 0, 0, 0, 0, 0, 0, 0, 0, 0, 0, 0, 0, 0, 0, 0, 0, 0, 0, 0, 0, 0, 0, 0, 0, 0, 0, 0, 0, 0, 0, 0, 0, 0, 0, 0, 0, 0, 0, 0, 0, 0, 0, 0, 0, 0, 0, 0, 0, 0, 0, 0, 0, 0, 0, 0, 0, 0, 0, 0, 0, 0, 0, 0, 0, 0, 0, 0, 0, 0, 0, 0, 0, 0, 0, 0, 0, 0, 0, 0, 0, 0, 0, 0, 0, 0, 0, 0, 0, 0, 0, 0, 0, 0, 0, 0, 0, 0, 0, 0, 0, 0, 0, 0, 0, 0, 0, 0, 0, 0, 0, 0, 0, 0, 0, 0, 0, 0, 0, 0, 0, 0, 0, 0, 0, 0, 0, 0, 0, 0, 0, 0, 0, 0, 0, 0, 0, 0, 0, 0, 0, 0, 0, 0, 0, 0, 0, 0, 0, 0, 0, 0, 0, 0, 0, 0, 0, 0, 0, 0, 0, 0, 0, 0, 0, 0, 0, 0, 0, 0, 0, 0, 0, 0, 0, 0, 0, 0, 0, 0, 0, 0, 0, 0, 0, 0, 0, 0, 0, 0, 0, 0, 0, 0, 0, 0, 0, 0, 0, 0, 0, 0, 0, 0, 0, 0, 0, 0, 0, 0, 0, 0, 0, 0, 0, 0, 0, 0, 0, 0, 0, 0, 0, 1, 0, 0, 0, 0, 0, 0, 0, 0, 0, 0, 0, 0, 0, 0, 0, 0, 0, 0, 0, 0, 0, 0, 0, 0, 0, 0, 0, 0, 0, 0, 0, 0, 0, 0, 0, 0, 0, 0, 0, 0, 0, 0, 0, 0, 0, 0, 0, 0, 0, 0, 0, 0, 0, 0, 0, 1, 0, 0, 0, 0, 0, 0, 0, 0, 0, 0, 0, 0, 0, 0, 0, 0, 0, 0, 0, 0, 0, 0, 0, 0, 0, 0, 0, 0, 0, 0, 0, 0, 0, 0, 0, 0, 0, 0, 0, 0, 0, 0, 0, 0, 0, 0, 0, 0, 0, 0, 0, 0, 0, 0, 0, 0, 0, 0, 0, 0, 0, 0, 0, 0, 0, 0, 0, 0, 0, 0, 0, 0, 0, 0, 0, 0, 0, 0, 0, 0, 0, 0, 0, 0, 0, 0, 0, 0, 0, 0, 0, 0, 0, 0, 0, 0, 0, 0, 0, 0, 0, 0, 0, 0, 0, 0, 0, 0, 0, 0, 0, 0, 0, 0, 0, 0, 0, 0, 0, 0, 0, 0, 0, 0, 0, 0, 0, 0, 0, 0, 0, 0, 0, 0, 0, 0, 0, 0, 0, 0, 0, 0, 0, 0, 0, 0, 0, 0, 0, 0, 0, 0, 0, 0, 0, 0, 0, 0, 0, 0, 0, 0, 0, 0, 0, 0, 0, 0, 0, 0, 0, 0, 0, 0, 0, 0, 0, 0, 0, 0, 0, 0, 0, 0, 0, 0, 0, 0, 0, 0, 0, 0, 0, 0, 0, 0, 0, 0, 0, 0, 0, 0, 0, 0, 0, 0, 0, 0, 0, 0, 0, 0, 0, 0, 0, 0, 0, 0, 0, 0, 0, 0, 0, 0, 0, 0, 0, 0, 0, 0, 0, 0, 0, 0, 0, 0, 0, 0, 0, 0, 0, 0, 0, 0, 0, 0, 0, 0, 0, 0, 0, 0, 0, 0, 0, 0, 0, 0, 0, 0, 0, 0, 0, 0, 0, 0, 0, 0, 0, 0, 0, 0, 0, 0, 0, 0, 0, 0, 0, 0, 0, 0, 0, 0, 0, 0, 0, 0, 0, 0, 0, 0, 0, 0, 0, 0, 0, 0, 0, 0, 0, 0, 0, 0, 0, 0, 0, 0, 0, 0, 0, 0, 0, 0, 0, 0, 0, 0, 0, 0, 0, 0, 0, 0, 0, 0, 0, 0, 0, 0, 0, 0, 0, 0, 0, 0, 0, 0, 0, 0, 0, 0, 0, 0, 0, 0, 0, 0, 0, 0, 0, 0, 0, 0, 0, 0, 0, 0, 0, 0, 0, 0, 0, 0, 0, 0, 0, 0, 0, 0, 0, 0, 0, 0, 0, 0, 0, 0, 0, 0, 0, 0, 0, 0, 0, 0, 0, 0, 0, 0, 0, 0, 0, 0, 0, 0, 0, 0, 0, 0, 0, 0, 0, 0, 0, 0, 0, 0, 0, 0, 0, 0, 0, 0, 0, 0, 0, 0, 0, 0, 0, 0, 0, 0, 0, 0, 0, 0, 0, 0, 0, 0, 0, 0, 0, 0, 0, 0, 0, 0, 0, 0, 0, 0, 0, 0, 0, 0, 0, 0, 0, 0, 0, 0, 0, 0, 0, 0, 0, 0, 0, 0, 0, 0, 0, 0, 0, 0, 0, 0, 0, 0, 0, 0, 0, 0, 0, 0, 0, 0, 0, 0, 0, 0, 0, 0, 0, 0, 0, 0, 0, 0, 0, 0, 0, 0, 0, 0, 0, 0, 0, 0, 0, 0, 0, 0, 0, 0, 0, 0, 0, 0, 0, 0, 0, 0, 0, 0, 0, 0, 0, 0, 0, 0, 0, 0, 0, 0, 0, 0, 0, 0, 0, 0, 0, 0, 0, 0, 0, 0, 0, 0, 0, 0, 0, 0, 0, 0, 0, 0, 0, 0, 0, 0, 0, 0, 0, 0, 0, 0, 0, 0, 0, 0, 0, 0, 0, 0, 0, 0, 0, 0, 0, 0, 0, 0, 0, 0, 0, 0, 0, 0, 0, 0, 0, 0, 0, 0, 0, 0, 0, 0, 0, 0, 0, 0, 0, 0, 0, 0, 0, 0, 0, 0, 0, 0, 0, 0, 0, 0, 0, 0, 0, 0, 0, 0, 0, 0, 0, 0, 0, 0, 0, 0, 0, 0, 0, 0, 0, 0, 0, 0, 0, 0, 0, 0, 0, 0, 0, 0, 0, 0, 0, 0, 0, 0, 0, 0, 0, 0, 0, 0, 0, 0, 0, 0, 0, 0, 0, 0, 0, 0, 0, 0, 0, 0, 0, 0, 0, 0, 0, 0, 0, 0, 0, 0, 0, 0, 0, 0, 0, 1, 0, 0, 0, 0, 0, 0, 0, 0, 0, 0, 0, 0, 0, 0, 0, 0, 0, 0, 0, 0, 0, 0, 0, 0, 0, 0, 0, 0, 0, 0, 0, 0, 0, 0, 0, 0, 0, 0, 0, 0, 0, 0, 0, 0, 0, 0, 0, 0, 0, 0, 0, 0, 0, 0, 0, 0, 0, 0, 0, 0, 0, 0, 0, 0, 0, 0, 0, 0, 0, 0, 0, 0, 0, 0, 1, 0, 0, 0, 0, 0, 0, 0, 0, 0, 0, 0, 0, 0, 0, 0, 0, 0, 0, 0, 0, 1, 0, 0, 1, 0, 0, 0, 0, 0, 0, 0, 0, 0, 0, 0, 0, 0, 0, 0, 0, 0, 0, 0, 0, 0, 0, 0, 0, 0, 0, 0, 0, 0, 0, 0, 0, 0, 0, 0, 0, 0, 0, 0, 0, 0, 0, 0, 0, 0, 0, 0, 0, 0, 0, 0, 0, 0, 0, 0, 0, 0, 0, 0, 0, 0, 0, 0, 0, 0, 0, 0, 0, 0, 0, 0, 0, 0, 0, 0, 0, 0, 0, 0, 0, 0, 0, 0, 0, 0, 0, 0, 0, 0, 0, 0, 0, 0, 0, 0, 0, 0, 0, 0, 0, 0, 0, 0, 0, 0, 0, 0, 0, 0, 0, 0, 0, 0, 0, 0, 0, 0, 0, 0, 0, 0, 0, 0, 0, 0, 0, 0, 0, 0, 0, 0, 0, 0, 0, 0, 0, 0, 0, 0, 0, 0, 0, 0, 0, 0, 0, 0, 0, 0, 0, 0, 0, 0, 0, 0, 0, 0, 0, 0, 0, 0, 0, 0, 0, 0, 0, 0, 0, 0, 0, 0, 0, 0, 0, 0, 0, 0, 0, 0, 0, 0, 0, 0, 0, 0, 0, 0, 0, 0, 0, 0, 0, 0, 0, 0, 0, 0, 0, 0, 0, 0, 0, 0, 0, 0, 0, 0, 0, 0, 0, 0, 0, 0, 0, 0, 0, 0, 0, 0, 0, 0, 0, 0, 0, 0, 0, 0, 0, 0, 0, 0, 0, 0, 0, 0, 0, 0, 0, 0, 0, 0, 0, 0, 0, 0, 0, 0, 0, 0, 0, 0, 0, 0, 0, 0, 0, 0, 0, 0, 0, 0, 0, 0, 0, 0, 0, 0, 0, 0, 0, 0, 0, 0, 0, 0, 0, 0, 0, 0, 0, 0, 0, 0, 0, 0, 0, 0, 0, 0, 0, 0, 0, 0, 0, 0, 0, 0, 0, 0, 0, 0, 0, 0, 0, 0, 0, 0, 0, 0, 0, 0, 0, 0, 0, 0, 0, 0, 0, 0, 0, 0, 0, 0, 0, 0, 0, 0, 0, 0, 0, 0, 0, 0, 0, 0, 0, 0, 0, 0, 0, 0, 0, 0, 0, 0, 0, 0, 0, 0, 0, 0, 0, 0, 0, 0, 0, 0, 0, 0, 0, 0, 0, 0, 0, 0, 0, 0, 0, 0, 0, 0, 0, 0, 0, 0, 0, 0, 0, 0, 0, 0, 0, 0, 0, 0, 0, 0, 0, 0, 0, 0, 0, 0, 0, 0, 0, 0, 0, 0, 0, 0, 0, 0, 0, 0, 0, 0, 0, 0, 0, 0, 0, 0, 0, 0, 0, 0, 0, 0, 0, 0, 0, 0, 0, 0, 0, 0, 0, 0, 0, 0, 0, 0, 0, 0, 0, 0, 0, 0, 0, 0, 0, 0, 0, 0, 0, 0, 0, 0, 0, 0, 0, 0, 0, 0, 0, 0, 0, 0, 0, 0, 0, 0, 0, 0, 0, 1, 0, 0, 0, 0, 0, 0, 0, 0, 0, 0, 0, 0, 0, 0, 0, 0, 0, 0, 0, 0, 0, 0, 0, 0, 0, 0, 0, 0, 0, 0, 0, 0, 0, 0, 0, 0, 0, 0, 0, 0, 0, 0, 0, 0, 0, 0, 0, 0, 0, 0, 0, 0, 0, 0, 0, 0, 0, 0, 0, 0, 0, 0, 0, 0, 0, 0, 0, 0, 0, 0, 0, 0, 0, 0, 0, 0, 0, 0, 0, 0, 0, 0, 0, 0, 0, 0, 0, 0, 0, 0, 0, 0, 0, 0, 0, 0, 0, 0, 0, 0, 0, 0, 0, 0, 0, 0, 0, 0, 0, 0, 0, 0, 0, 0, 0, 0, 0, 0, 0, 0, 0, 0, 0, 0, 0, 0, 0, 0, 0, 0, 0, 0, 0, 0, 0, 0, 0, 0, 0, 0, 0, 0, 0, 0, 0, 0, 0, 0, 0, 0, 0, 0, 0, 0, 0, 0, 0, 0, 0, 0, 0, 0, 0, 0, 0, 0, 0, 0, 0, 0, 0, 0, 0, 0, 0, 0, 0, 0, 0, 0, 0, 0, 0, 0, 0, 0, 0, 0, 0, 0, 0, 0, 0, 0, 0, 0, 0, 0, 0, 0, 0, 0, 0, 0, 0, 0, 0, 0, 0, 0, 0, 0, 0, 0, 0, 0, 0, 0, 0, 0, 0, 0, 0, 0, 0, 0, 0, 0, 0, 0, 0, 0, 0, 0, 0, 0, 0, 0, 0, 0, 0, 0, 0, 0, 0, 0, 0, 0, 0, 0, 0, 0, 0, 0, 0, 0, 0, 0, 0, 0, 0, 0, 0, 0, 0, 0, 0, 0, 0, 0, 0, 0, 0, 0, 0, 0, 0, 0, 0, 0, 0, 0, 0, 0, 0, 0, 0, 0, 0, 0, 0, 0, 0, 0, 0, 0, 0, 0, 0, 0, 0, 0, 0, 0, 0, 0, 0, 0, 0, 0, 0, 0, 0, 0, 0, 0, 0, 0, 0, 0, 0, 0, 0, 0, 0, 0, 0, 0, 0, 0, 0, 0, 0, 0, 0, 0, 0, 0, 0, 0, 0, 0, 0, 0, 0, 0, 0, 0, 0, 0, 0, 0, 0, 0, 0, 0, 0, 0, 0, 0, 0, 0, 0, 0, 0, 0, 0, 0, 0, 0, 0, 0, 0, 0, 0, 0, 0, 0, 0, 0, 0, 0, 0, 0, 0, 0, 0, 0, 0, 0, 0, 0, 0, 0, 0, 0, 0, 0, 0, 0, 0, 0, 0, 0, 0, 0, 0, 0, 0, 0, 0, 0, 0, 0, 0, 0, 0, 0, 0, 0, 0, 0, 0, 0, 0, 0, 0, 0, 0, 0, 0, 0, 0, 0, 0, 0, 0, 0, 0, 0, 0, 0, 0, 0, 0, 0, 0, 0, 0, 0, 0, 0, 0, 0, 0, 0, 0, 0, 0, 0, 0, 0, 0, 0, 0, 0, 0, 0, 0, 0, 0, 0, 0, 0, 0, 0, 0, 0, 0, 0, 0, 0, 0, 0, 0, 0, 0, 0, 0, 0, 0, 0, 0, 0, 0, 0, 0, 0, 0, 0, 0, 0, 0, 0, 0, 0, 0, 0, 0, 0, 0, 0, 1, 0, 0, 0, 0, 0, 0, 0, 0, 0, 0, 0, 0, 0, 0, 0, 0, 0, 0, 0, 0, 0, 0, 0, 0, 0, 0, 0, 0, 0, 0, 0, 0, 0, 0, 0, 2, 0, 0, 0, 0, 0, 0, 0, 0, 0, 0, 0, 0, 0, 0, 0, 0, 0, 0, 0, 0, 0, 0, 0, 0, 0, 0, 0, 0, 0, 0, 0, 0, 0, 0, 0, 0, 0, 0, 0, 0, 1, 0, 0, 0, 0, 0, 0, 0, 0, 0, 0, 0, 0, 0, 0, 0, 0, 0, 0, 0, 0, 0, 0, 0, 0, 0, 0, 0, 0, 0, 0, 0, 0, 0, 0, 0, 0, 0, 0, 0, 0, 0, 0, 0, 0, 0, 0, 0, 0, 0, 0, 0, 0, 0, 0, 0, 0, 0, 0, 0, 0, 0, 0, 0, 0, 0, 0, 0, 0, 0, 0, 0, 0, 0, 0, 0, 0, 0, 0, 0, 0, 0, 0, 0, 0, 0, 0, 0, 0, 0, 0, 0, 0, 0, 0, 0, 0, 0, 0, 0, 0, 0, 0, 0, 0, 0, 0, 0, 0, 0, 0, 0, 0, 0, 0, 0, 0, 0, 0, 0, 0, 0, 0, 0, 0, 0, 0, 0, 0, 0, 0, 0, 0, 0, 0, 0, 0, 0, 0, 0, 0, 0, 0, 0, 0, 0, 0, 0, 0, 0, 0, 0, 0, 0, 0, 0, 0, 0, 0, 0, 0, 0, 0, 0, 0, 0, 0, 0, 0, 0, 0, 0, 0, 0, 0, 0, 0, 0, 0, 0, 0, 0, 0, 0, 0, 0, 0, 0, 0, 0, 0, 0, 0, 0, 0, 0, 0, 0, 0, 0, 0, 0, 0, 0, 0, 0, 0, 0, 0, 0, 0, 0, 0, 0, 0, 0, 0, 0, 0, 0, 0, 0, 0, 0, 0, 0, 0, 0, 0, 0, 0, 0, 0, 0, 0, 0, 0, 0, 0, 0, 0, 0, 0, 0, 0, 0, 0, 0, 0, 0, 0, 0, 0, 0, 0, 0, 0, 0, 0, 0, 0, 0, 0, 0, 0, 0, 0, 0, 0, 0, 0, 0, 0, 0, 0, 0, 0, 0, 0, 0, 0, 0, 0, 0, 0, 0, 0, 0, 0, 0, 0, 0, 0, 0, 0, 0, 0, 0, 0, 0, 0, 0, 0, 0, 0, 0, 0, 0, 0, 0, 0, 0, 0, 0, 0, 0, 0, 0, 0, 0, 0, 0, 0, 0, 0, 0, 0, 0, 0, 0, 0, 0, 0, 0, 0, 0, 0, 0, 0, 0, 0, 0, 0, 0, 0, 0, 0, 0, 0, 0, 0, 0, 0, 0, 0, 0, 0, 0, 0, 0, 0, 0, 0, 0, 0, 0, 0, 0, 0, 0, 0, 0, 0, 0, 0, 0, 0, 0, 0, 0, 0, 0, 0, 0, 0, 0, 0, 0, 0, 0, 0, 0, 0, 0, 0, 0, 0, 0, 0, 0, 0, 0, 0, 0, 0, 0, 0, 0, 0, 0, 0, 0, 0, 0, 0, 0, 0, 0, 0, 0, 0, 0, 0, 0, 0, 0, 0, 0, 0, 0, 0, 0, 0, 0, 0, 0, 0, 0, 0, 0, 0, 0, 0, 0, 0, 0, 0, 0, 0, 0, 0, 0, 0, 0, 0, 0, 0, 0, 0, 0, 0, 0, 0, 0, 0, 0, 0, 0, 0, 0, 0, 0, 0, 0, 0, 0, 0, 0, 0, 0, 0, 0, 0, 0, 0, 0, 0, 0, 0, 0, 0, 0, 0, 0, 0, 0, 0, 0, 1, 0, 0, 0, 0, 0, 0, 0, 0, 0, 0, 0, 0, 0, 0, 0, 0, 0, 0, 0, 0, 0, 0, 0, 0, 0, 0, 0, 0, 0, 0, 0, 0, 0, 0, 0, 0, 0, 0, 0, 0, 0, 0, 0, 0, 0, 0, 0, 0, 0, 0, 0, 0, 0, 0, 0, 0, 0, 0, 0, 0, 0, 0, 0, 0, 0, 0, 0, 0, 0, 0, 0, 0, 0, 0, 0, 0, 0, 0, 0, 0, 0, 0, 0, 0, 0, 0, 0, 0, 0, 0, 0, 0, 0, 0, 0, 0, 0, 0, 0, 0, 0, 0, 0, 0, 0, 0, 0, 0, 0, 0, 2, 0, 0, 0, 0, 0, 0, 0, 0, 0, 0, 0, 0, 0, 0, 0, 0, 0, 0, 0, 0, 0, 0, 0, 0, 0, 0, 0, 0, 0, 0, 0, 0, 0, 0, 0, 0, 0, 0, 0, 0, 0, 0, 0, 0, 0, 0, 0, 0, 0, 0, 0, 0, 0, 0, 0, 0, 0, 0, 0, 0, 0, 0, 0, 0, 0, 0, 0, 0, 0, 0, 0, 0, 0, 0, 0, 0, 0, 0, 0, 0, 0, 0, 0, 0, 0, 0, 0, 0, 0, 0, 0, 0, 0, 0, 0, 0, 0, 0, 0, 0, 0, 0, 0, 0, 0, 0, 0, 0, 0, 0, 0, 0, 0, 0, 0, 0, 0, 0, 0, 0, 0, 0, 0, 0, 0, 0, 0, 0, 0, 0, 0, 0, 0, 0, 0, 0, 0, 0, 0, 0, 0, 0, 0, 0, 0, 0, 0, 0, 0, 0, 0, 0, 0, 0, 0, 0, 0, 0, 0, 0, 0, 0, 0, 0, 0, 0, 0, 0, 0, 0, 0, 0, 0, 0, 0, 0, 0, 0, 0, 0, 0, 0, 0, 0, 0, 0, 0, 0, 0, 0, 0, 0, 0, 0, 0, 0, 0, 0, 0, 0, 0, 0, 0, 0, 0, 0, 0, 0, 0, 0, 0, 0, 0, 0, 0, 0, 0, 0, 0, 0, 0, 0, 0, 0, 0, 0, 0, 0, 0, 0, 0, 0, 0, 0, 0, 0, 0, 0, 0, 0, 0, 0, 0, 0, 0, 0, 0, 0, 0, 0, 0, 0, 0, 0, 0, 0, 0, 0, 0, 0, 0, 0, 0, 0, 0, 0, 0, 0, 0, 0, 0, 0, 0, 0, 0, 0, 0, 0, 0, 0, 0, 0, 0, 0, 0, 0, 0, 0, 0, 0, 0, 0, 0, 0, 0, 0, 0, 0, 0, 0, 0, 0, 0, 0, 0, 0, 0, 0, 0, 0, 0, 0, 0, 0, 0, 0, 0, 0, 0, 0, 0, 0, 0, 0, 0, 0, 0, 0, 0, 0, 0, 0, 0, 0, 0, 0, 0, 0, 0, 0, 0, 0, 0, 0, 0, 0, 0, 0, 0, 0, 0, 0, 0, 0, 0, 0, 0, 0, 0, 0, 0, 0, 0, 0, 0, 0, 0, 0, 0, 0, 0, 0, 0, 0, 0, 0, 0, 0, 0, 0, 0, 0, 0, 0, 0, 0, 0, 0, 0, 0, 0, 0, 0, 0, 0, 0, 0, 0, 0, 0, 0, 0, 0, 0, 0, 0, 0, 0, 0, 0, 0, 0, 0, 0, 0, 0, 0, 0, 0, 0, 0, 0, 0, 0, 0, 0, 0, 0, 0, 0, 0, 0, 0, 0, 0, 0, 0, 0, 0, 0, 0, 0, 0, 0, 0, 0, 0, 0, 0, 0, 0, 0, 0, 0, 0, 0, 0, 0, 0, 0, 0, 0, 0, 0, 0, 0, 0, 0, 0, 0, 0, 0, 0, 0, 0, 0, 0, 0, 0, 0, 0, 0, 0, 0, 0, 0, 0, 0, 0, 0, 0, 0, 0, 0, 0, 0, 0, 0, 0, 0, 0, 0, 0, 0, 0, 0, 0, 0, 0, 0, 0, 0, 0, 0, 0, 0, 0, 0, 0, 0, 0, 0, 0, 0, 0, 0, 0, 0, 0, 0, 0, 0, 0, 0, 0, 0, 0, 0, 0, 0, 0, 0, 0, 0, 0, 0, 0, 0, 0, 0, 0, 0, 0, 0, 0, 0, 0, 0, 0, 0, 0, 0, 0, 0, 0, 0, 0, 0, 0, 0, 0, 0, 0, 0, 0, 0, 0, 0, 0, 0, 0, 0, 0, 0, 0, 0, 0, 0, 0, 0, 0, 0, 0, 0, 0, 0, 0, 0, 0, 0, 0, 0, 0, 0, 0, 0, 0, 0, 0, 0, 0, 0, 0, 0, 0, 0, 0, 0, 0, 0, 0, 0, 0, 0, 0, 0, 0, 0, 0, 0, 0, 0, 0, 0, 0, 0, 0, 0, 0, 0, 0, 0, 0, 0, 0, 0, 0, 0, 0, 0, 0, 0, 0, 0, 0, 0, 0, 0, 0, 0, 0, 0, 0, 0, 0, 0, 0, 0, 0, 0, 0, 0, 0, 0, 0, 0, 0, 0, 0, 0, 0, 0, 0, 0, 0, 0, 0, 0, 0, 0, 1, 0, 0, 0, 0, 0, 0, 0, 0, 0, 0, 0, 0, 0, 0, 0, 0, 0, 0, 0, 0, 0, 0, 0, 0, 0, 0, 0, 0, 0, 0, 0, 0, 0, 0, 0, 0, 0, 0, 0, 0, 0, 0, 0, 0, 0, 0, 0, 0, 0, 0, 0, 0, 0, 0, 0, 0, 0, 0, 0, 0, 0, 0, 0, 0, 0, 0, 0, 0, 0, 0, 0, 0, 0, 0, 0, 0, 0, 0, 0, 0, 0, 0, 0, 0, 0, 0, 0, 0, 0, 0, 0, 0, 0, 0, 0, 0, 0, 0, 0, 0, 0, 0, 0, 0, 0, 0, 0, 1, 0, 0, 0, 0, 0, 0, 0, 0, 0, 0, 0, 0, 0, 0, 0, 0, 0, 0, 0, 0, 0, 0, 0, 0, 0, 0, 0, 0, 0, 0, 0, 0, 0, 0, 0, 0, 0, 0, 0, 0, 0, 0, 0, 0, 0, 0, 0, 0, 0, 0, 0, 0, 0, 0, 0, 0, 0, 0, 0, 0, 0, 0, 0, 0, 0, 0, 0, 0, 0, 0, 0, 0, 0, 0, 0, 0, 0, 0, 0, 0, 0, 0, 0, 0, 0, 0, 0, 0, 0, 0, 0, 0, 0, 0, 0, 0, 0, 0, 0, 0, 0, 0, 0, 0, 0, 0, 0, 0, 0, 0, 0, 0, 0, 0, 0, 0, 0, 0, 0, 0, 0, 0, 0, 0, 0, 0, 0, 0, 0, 0, 0, 0, 0, 0, 0, 0, 0, 0, 0, 0, 0, 0, 0, 0, 0, 0, 0, 0, 0, 0, 0, 0, 0, 0, 0, 0, 0, 0, 0, 0, 0, 0, 0, 0, 0, 0, 0, 0, 0, 0, 0, 0, 0, 0, 0, 0, 0, 0, 0, 0, 0, 0, 0, 0, 0, 0, 0, 0, 0, 0, 0, 0, 0, 0, 0, 0, 0, 0, 0, 0, 0, 0, 0, 0, 0, 0, 0, 0, 0, 0, 0, 0, 0, 0, 0, 0, 0, 0, 0, 0, 0, 0, 0, 0, 0, 0, 0, 0, 0, 0, 0, 0, 0, 0, 0, 0, 0, 0, 0, 0, 0, 0, 0, 0, 0, 0, 0, 0, 0, 0, 0, 0, 0, 0, 0, 0, 0, 0, 0, 0, 0, 0, 0, 0, 0, 0, 0, 0, 0, 0, 0, 0, 0, 0, 0, 0, 0, 0, 0, 0, 0, 0, 0, 0, 0, 0, 0, 0, 0, 0, 0, 0, 0, 0, 0, 0, 0, 0, 0, 0, 0, 0, 0, 0, 0, 0, 0, 0, 0, 0, 0, 0, 0, 0, 0, 0, 0, 0, 0, 0, 0, 0, 0, 0, 0, 0, 0, 0, 0, 0, 0, 0, 0, 0, 0, 0, 0, 0, 0, 0, 0, 0, 0, 0, 0, 0, 0, 0, 0, 0, 0, 0, 0, 0, 0, 0, 0, 0, 0, 0, 0, 0, 0, 0, 0, 0, 0, 0, 0, 0, 0, 0, 0, 0, 0, 0, 0, 0, 0, 0, 0, 0, 0, 0, 0, 0, 0, 0, 0, 0, 0, 0, 0, 0, 0, 0, 0, 0, 0, 0, 0, 0, 0, 0, 0, 0, 0, 0, 0, 0, 0, 0, 0, 0, 0, 0, 0, 0, 0, 0, 0, 0, 0, 0, 0, 0, 0, 0, 0, 0, 0, 0, 0, 0, 0, 0, 0, 0, 0, 0, 0, 0, 0, 0, 0, 0, 0, 0, 0, 0, 0, 0, 0, 0, 0, 0, 0, 0, 0, 0, 0, 0, 0, 2, 0, 1, 0], type: <class 'list'>, valid types: <class 'bytes'>, <class 'bytearray'>, file-like object"
     ]
    }
   ],
   "source": [
    "response = runtime.invoke_endpoint(EndpointName = xgb_predictor.endpoint, # The name of the endpoint we created\n",
    "                                       ContentType = 'text/csv',                     # The data format that is expected\n",
    "                                       Body = test_bow)"
   ]
  },
  {
   "cell_type": "markdown",
   "metadata": {},
   "source": [
    "So why did we get an error?\n",
    "\n",
    "Because we tried to send the endpoint a list of integers but it expected us to send data of type `text/csv`. So, we need to convert it."
   ]
  },
  {
   "cell_type": "code",
   "execution_count": 46,
   "metadata": {},
   "outputs": [],
   "source": [
    "response = runtime.invoke_endpoint(EndpointName = xgb_predictor.endpoint, # The name of the endpoint we created\n",
    "                                       ContentType = 'text/csv',                     # The data format that is expected\n",
    "                                       Body = ','.join([str(val) for val in test_bow]).encode('utf-8'))"
   ]
  },
  {
   "cell_type": "code",
   "execution_count": 47,
   "metadata": {},
   "outputs": [
    {
     "name": "stdout",
     "output_type": "stream",
     "text": [
      "{'ResponseMetadata': {'RequestId': '3d0f3660-dc86-42f9-a5cc-b2227b197332', 'HTTPStatusCode': 200, 'HTTPHeaders': {'x-amzn-requestid': '3d0f3660-dc86-42f9-a5cc-b2227b197332', 'x-amzn-invoked-production-variant': 'AllTraffic', 'date': 'Thu, 01 Sep 2022 13:50:01 GMT', 'content-type': 'text/csv; charset=utf-8', 'content-length': '18'}, 'RetryAttempts': 0}, 'ContentType': 'text/csv; charset=utf-8', 'InvokedProductionVariant': 'AllTraffic', 'Body': <botocore.response.StreamingBody object at 0x7f0e5624ac40>}\n"
     ]
    }
   ],
   "source": [
    "print(response)"
   ]
  },
  {
   "cell_type": "markdown",
   "metadata": {},
   "source": [
    "As we can see, the response from our model is a somewhat complicated looking dict that contains a bunch of information. The bit that we are most interested in is `'Body'` object which is a streaming object that we need to `read` in order to make use of."
   ]
  },
  {
   "cell_type": "code",
   "execution_count": 48,
   "metadata": {},
   "outputs": [
    {
     "name": "stdout",
     "output_type": "stream",
     "text": [
      "0.3480285108089447\n"
     ]
    }
   ],
   "source": [
    "response = response['Body'].read().decode('utf-8')\n",
    "print(response)"
   ]
  },
  {
   "cell_type": "markdown",
   "metadata": {},
   "source": [
    "Now that we know how to process the incoming user data we can start setting up the infrastructure to make our simple web app work. To do this we will make use of two different services. Amazon's Lambda and API Gateway services.\n",
    "\n",
    "Lambda is a service which allows someone to write some relatively simple code and have it executed whenever a chosen trigger occurs. For example, you may want to update a database whenever new data is uploaded to a folder stored on S3.\n",
    "\n",
    "API Gateway is a service that allows you to create HTTP endpoints (url addresses) which are connected to other AWS services. One of the benefits to this is that you get to decide what credentials, if any, are required to access these endpoints.\n",
    "\n",
    "In our case we are going to set up an HTTP endpoint through API Gateway which is open to the public. Then, whenever anyone sends data to our public endpoint we will trigger a Lambda function which will send the input (in our case a review) to our model's endpoint and then return the result."
   ]
  },
  {
   "cell_type": "markdown",
   "metadata": {},
   "source": [
    "### Setting up a Lambda function\n",
    "\n",
    "The first thing we are going to do is set up a Lambda function. This Lambda function will be executed whenever our public API has data sent to it. When it is executed it will receive the data, perform any sort of processing that is required, send the data (the review) to the SageMaker endpoint we've created and then return the result.\n",
    "\n",
    "#### Part A: Create an IAM Role for the Lambda function\n",
    "\n",
    "Since we want the Lambda function to call a SageMaker endpoint, we need to make sure that it has permission to do so. To do this, we will construct a role that we can later give the Lambda function.\n",
    "\n",
    "Using the AWS Console, navigate to the **IAM** page and click on **Roles**. Then, click on **Create role**. Make sure that the **AWS service** is the type of trusted entity selected and choose **Lambda** as the service that will use this role, then click **Next: Permissions**.\n",
    "\n",
    "In the search box type `sagemaker` and select the check box next to the **AmazonSageMakerFullAccess** policy. Then, click on **Next: Review**.\n",
    "\n",
    "Lastly, give this role a name. Make sure you use a name that you will remember later on, for example `LambdaSageMakerRole`. Then, click on **Create role**."
   ]
  },
  {
   "cell_type": "markdown",
   "metadata": {},
   "source": [
    "#### Part B: Create a Lambda function\n",
    "\n",
    "Now it is time to actually create the Lambda function. Remember from earlier that in order to process the user provided input and send it to our endpoint we need to gather two pieces of information:\n",
    "\n",
    " - The name of the endpoint, and\n",
    " - the vocabulary object.\n",
    "\n",
    "We will copy these pieces of information to our Lambda function after we create it.\n",
    "\n",
    "To start, using the AWS Console, navigate to the AWS Lambda page and click on **Create a function**. When you get to the next page, make sure that **Author from scratch** is selected. Now, name your Lambda function, using a name that you will remember later on, for example `sentiment_analysis_xgboost_func`. Make sure that the **Python 3.6** runtime is selected and then choose the role that you created in the previous part. Then, click on **Create Function**.\n",
    "\n",
    "On the next page you will see some information about the Lambda function you've just created. If you scroll down you should see an editor in which you can write the code that will be executed when your Lambda function is triggered. Collecting the code we wrote above to process a single review and adding it to the provided example `lambda_handler` we arrive at the following.\n",
    "\n",
    "```python\n",
    "# We need to use the low-level library to interact with SageMaker since the SageMaker API\n",
    "# is not available natively through Lambda.\n",
    "import boto3\n",
    "\n",
    "# And we need the regular expression library to do some of the data processing\n",
    "import re\n",
    "\n",
    "REPLACE_NO_SPACE = re.compile(\"(\\.)|(\\;)|(\\:)|(\\!)|(\\')|(\\?)|(\\,)|(\\\")|(\\()|(\\))|(\\[)|(\\])\")\n",
    "REPLACE_WITH_SPACE = re.compile(\"(<br\\s*/><br\\s*/>)|(\\-)|(\\/)\")\n",
    "\n",
    "def review_to_words(review):\n",
    "    words = REPLACE_NO_SPACE.sub(\"\", review.lower())\n",
    "    words = REPLACE_WITH_SPACE.sub(\" \", words)\n",
    "    return words\n",
    "    \n",
    "def bow_encoding(words, vocabulary):\n",
    "    bow = [0] * len(vocabulary) # Start by setting the count for each word in the vocabulary to zero.\n",
    "    for word in words.split():  # For each word in the string\n",
    "        if word in vocabulary:  # If the word is one that occurs in the vocabulary, increase its count.\n",
    "            bow[vocabulary[word]] += 1\n",
    "    return bow\n",
    "\n",
    "\n",
    "def lambda_handler(event, context):\n",
    "    \n",
    "    vocab = \"*** ACTUAL VOCABULARY GOES HERE ***\"\n",
    "    \n",
    "    words = review_to_words(event['body'])\n",
    "    bow = bow_encoding(words, vocab)\n",
    "\n",
    "    # The SageMaker runtime is what allows us to invoke the endpoint that we've created.\n",
    "    runtime = boto3.Session().client('sagemaker-runtime')\n",
    "\n",
    "    # Now we use the SageMaker runtime to invoke our endpoint, sending the review we were given\n",
    "    response = runtime.invoke_endpoint(EndpointName = '***ENDPOINT NAME HERE***',# The name of the endpoint we created\n",
    "                                       ContentType = 'text/csv',                 # The data format that is expected\n",
    "                                       Body = ','.join([str(val) for val in bow]).encode('utf-8')) # The actual review\n",
    "\n",
    "    # The response is an HTTP response whose body contains the result of our inference\n",
    "    result = response['Body'].read().decode('utf-8')\n",
    "    \n",
    "    # Round the result so that our web app only gets '1' or '0' as a response.\n",
    "    result = round(float(result))\n",
    "\n",
    "    return {\n",
    "        'statusCode' : 200,\n",
    "        'headers' : { 'Content-Type' : 'text/plain', 'Access-Control-Allow-Origin' : '*' },\n",
    "        'body' : str(result)\n",
    "    }\n",
    "```"
   ]
  },
  {
   "cell_type": "markdown",
   "metadata": {},
   "source": [
    "Once you have copy and pasted the code above into the Lambda code editor, replace the `**ENDPOINT NAME HERE**` portion with the name of the endpoint that we deployed earlier. You can determine the name of the endpoint using the code cell below."
   ]
  },
  {
   "cell_type": "code",
   "execution_count": 49,
   "metadata": {},
   "outputs": [
    {
     "data": {
      "text/plain": [
       "'xgboost-2022-09-01-13-19-35-806'"
      ]
     },
     "execution_count": 49,
     "metadata": {},
     "output_type": "execute_result"
    }
   ],
   "source": [
    "xgb_predictor.endpoint"
   ]
  },
  {
   "cell_type": "markdown",
   "metadata": {},
   "source": [
    "In addition, you will need to copy the vocabulary dict to the appropriate place in the code at the beginning of the `lambda_handler` method. The cell below prints out the vocabulary dict in a way that is easy to copy and paste."
   ]
  },
  {
   "cell_type": "code",
   "execution_count": 50,
   "metadata": {},
   "outputs": [
    {
     "name": "stdout",
     "output_type": "stream",
     "text": [
      "{'ive': 2372, 'spent': 4108, 'years': 4979, 'looking': 2648, 'for': 1784, 'copy': 994, 'of': 3083, 'this': 4457, 'so': 4046, 'could': 1007, 'show': 3953, 'it': 2366, 'to': 4507, 'my': 2951, 'kids': 2467, 'the': 4426, 'movie': 2926, 'is': 2360, 'funny': 1852, 'and': 226, 'spike': 4111, 'members': 2801, 'his': 2118, 'band': 391, 'why': 4878, 'they': 4442, 'were': 4848, 'best': 469, 'in': 2257, 'business': 633, 'had': 2003, 'be': 418, 'that': 4424, 'good': 1937, 'play': 3296, 'demented': 1176, 'like': 2599, 'recommend': 3571, 'lovers': 2673, 'all': 187, 'ages': 152, 'about': 67, 'turn': 4605, 'century': 736, 'with': 4911, 'crew': 1053, 'are': 285, 'department': 1182, 'when': 4862, 'not': 3040, 'fighting': 1709, 'theres': 4440, 'usual': 4699, 'running': 3756, 'gags': 1862, 'plus': 3311, 'jones': 2418, 'also': 199, 'comedy': 890, 'relief': 3605, 'provided': 3449, 'by': 642, 'comedian': 887, 'buddy': 609, 'straight': 4210, 'man': 2721, 'hugh': 2186, 'seems': 3864, 'me': 2778, 'as': 311, 'recent': 3566, 'film': 1716, 'school': 3813, 'these': 4441, 'times': 4497, 'new': 3003, 'reaching': 3539, 'heights': 2073, 'general': 1880, 'public': 3460, 'think': 4452, 'every': 1539, 'made': 2697, 'great': 1964, 'wedding': 4836, 'proves': 3447, 'dead': 1132, 'wrong': 4973, 'its': 2370, 'completely': 922, 'overrated': 3156, 'far': 1653, 'from': 1840, 'hilarious': 2106, 'other': 3135, 'imdb': 2240, 'have': 2052, 'commented': 900, 'only': 3110, 'really': 3556, 'thing': 4450, 'found': 1811, 'was': 4805, 'derek': 1192, 'wannabe': 4787, 'black': 493, 'guy': 2000, 'but': 636, 'than': 4420, 'jokes': 2415, 'crap': 1031, 'wed': 4835, 'heard': 2062, 'before': 440, 'being': 448, 'half': 2007, 'decent': 1147, 'wanted': 4789, 'see': 3855, 'how': 2181, 'going': 1931, 'deal': 1135, 'complete': 921, 'balls': 390, 'up': 4683, 'know': 2489, 'supposed': 4306, 'didnt': 1242, 'feel': 1684, 'characters': 760, 'anything': 260, 'say': 3799, 'identity': 2217, 'even': 1533, 'if': 2222, 'tongue': 4518, 'cheek': 779, 'manner': 2729, 'most': 2909, 'disappointed': 1273, 'ending': 1471, 'resolution': 3649, 'relationships': 3598, 'player': 3298, 'who': 4871, 'messed': 2821, 'around': 297, 'white': 4870, 'women': 4923, 'comes': 891, 'slightly': 4029, 'ways': 4822, 'town': 4541, 'has': 2043, 'an': 223, 'maybe': 2776, 'he': 2056, 'should': 3951, 'start': 4156, 'relationship': 3597, 'then': 4436, 'at': 331, 'very': 4723, 'last': 2521, 'minute': 2858, 'position': 3345, 'understand': 4643, 'did': 1241, 'disappointing': 1274, 'whole': 4873, 'family': 1645, 'went': 4847, 'expecting': 1578, 'laugh': 2529, 'ended': 1470, 'bitter': 491, 'paying': 3217, 'cinema': 816, 'lame': 2510, 'acting': 99, 'particularly': 3195, 'girlfriend': 1910, 'appalling': 268, 'honestly': 2147, 'wouldve': 4959, 'been': 438, 'happy': 2032, 'got': 1944, 'hands': 2020, 'on': 3105, 'one': 3107, 'those': 4460, 'copies': 992, 'save': 3794, 'myself': 2953, '15': 7, 'ticket': 4487, 'price': 3389, 'come': 886, 'second': 3846, 'step': 4175, 'behind': 447, 'no': 3020, 'course': 1019, 'superior': 4300, 'birth': 486, 'hope': 2155, 'filmmakers': 1720, 'future': 1856, 'can': 665, 'learn': 2550, 'reflect': 3584, 'something': 4066, 'more': 2904, 'meaningful': 2781, 'done': 1322, 'comedic': 888, 'fashion': 1659, 'first': 1736, 'mystery': 2956, 'guess': 1989, 'what': 4858, 'welles': 4844, 'original': 3129, 'makes': 2716, 'real': 3547, 'adventure': 130, 'using': 4698, 'cinematic': 818, 'imagine': 2238, 'beautiful': 428, 'woman': 4921, 'once': 3106, 'you': 4986, 'do': 1302, 'will': 4886, 'both': 547, 'experience': 1580, 'perhaps': 3235, 'mysteries': 2954, 'ever': 1538, 'go': 1924, 'narrative': 2966, 'rather': 3528, 'ordinary': 3128, 'simple': 3983, 'jealous': 2388, 'husband': 2204, 'red': 3576, 'whats': 4860, 'story': 4207, 'artificial': 306, 'eye': 1611, 'seeing': 3857, 'dark': 1115, 'world': 4946, 'noir': 3023, 'darker': 1116, 'obviously': 3072, 'twisted': 4618, 'unless': 4669, 'camera': 659, 'we': 4823, 'someone': 4064, 'creating': 1039, 'would': 4957, 'later': 2525, 'become': 433, 'common': 906, 'kane': 2442, 'success': 4265, 'because': 432, 'drama': 1346, 'cameras': 660, 'shocking': 3940, 'there': 4438, 'explore': 1594, 'self': 3869, 'reference': 3582, 'shakespeare': 3915, 'period': 3236, 'consider': 949, 'them': 4432, 'part': 3193, 'single': 3996, 'vision': 4754, 'here': 2086, 'notion': 3050, 'people': 3221, 'charge': 761, 'their': 4431, 'lives': 2628, 'little': 2624, 'random': 3514, 'environment': 1505, 'telling': 4396, 'make': 2713, 'into': 2332, 'character': 758, 'several': 3905, 'suspects': 4328, 'thus': 4486, 'famous': 1647, 'lighting': 2596, 'angles': 237, 'since': 3990, 'seen': 3865, 'countless': 1012, 'deliberately': 1166, 'closed': 854, 'sets': 3899, 'park': 3190, 'area': 286, 'chinese': 796, 'theater': 4427, 'am': 204, 'certain': 737, 'cut': 1089, 'lots': 2662, 'dealing': 1136, 'strange': 4211, 'own': 3158, 'solution': 4059, 'among': 217, 'introduced': 2337, 'words': 4938, 'irish': 2353, 'notes': 3046, 'scene': 3809, 'union': 4661, 'hall': 2009, 'neither': 2996, 'force': 1786, 'human': 2188, 'conspiracy': 956, 'or': 3124, 'version': 4720, 'nor': 3032, 'nature': 2975, 'instead': 2307, 'matter': 2769, 'gods': 1928, 'doing': 1312, 'putting': 3482, 'including': 2264, 'himself': 2111, 'through': 4477, 'hell': 2077, 'our': 3139, 'opera': 3116, 'set': 3898, 'leading': 2547, 'where': 4864, 'directly': 1263, 'surely': 4309, 'comment': 898, 'soon': 4074, 'believe': 454, 'strong': 4229, 'which': 4867, 'worked': 4941, 'studio': 4240, 'much': 2934, 'same': 3778, 'way': 4820, 'took': 4523, 'form': 1798, 'murder': 2939, 'leaving': 2557, 'corpse': 999, 'mentioned': 2811, 'beginning': 443, 'poor': 3328, 'china': 795, 'ties': 4490, 'expected': 1577, 'rape': 3521, 'above': 68, 'loss': 2659, 'beyond': 476, 'standard': 4144, 'paint': 3173, 'numbers': 3061, 'monster': 2892, 'fare': 1655, 'filled': 1715, 'bunch': 623, 'routine': 3743, 'plot': 3309, 'big': 478, 'creature': 1045, 'movies': 2927, 'somebody': 4062, 'cards': 683, 'ideas': 2215, 'written': 4972, 'dealt': 1138, 'whatever': 4859, 'lines': 2612, 'came': 656, 'script': 3834, 'cliché': 844, 'ridden': 3691, 'game': 1864, 'ends': 1474, 'after': 143, 'less': 2575, 'ten': 4399, 'minutes': 2859, 'probably': 3407, 'get': 1899, 'right': 3696, 'order': 3126, 'many': 2732, 'obnoxious': 3067, 'root': 3737, 'shut': 3961, 'some': 4061, 'main': 2707, 'include': 2261, 'billy': 482, 'does': 1308, 'sleazy': 4023, 'dances': 1106, 'bar': 396, 'oh': 3096, 'beast': 422, 'need': 2987, 'anger': 235, 'along': 195, 'argue': 290, 'lot': 2661, 'pretty': 3384, 'girls': 1911, 'run': 3755, 'wet': 4855, 'couples': 1017, 'out': 3141, 'exotic': 1574, 'explosions': 1597, 'occur': 3076, 'ruins': 3752, 'appear': 273, 'faced': 1617, 'drop': 1369, 'amusing': 221, 'bothered': 549, 'killed': 2469, 'violent': 4748, 'almost': 193, 'hear': 2061, 'shots': 3950, 'overall': 3150, 'ok': 3098, '90': 60, 'waste': 4808, 'want': 4788, 'bad': 382, 'otherwise': 3137, 'may': 2775, 'skip': 4016, 'saw': 3798, 'few': 1700, 'days': 1130, 'ago': 154, 'jumped': 2430, 'during': 1387, 'scary': 3807, 'parts': 3199, 'must': 2950, 'admit': 122, 'started': 4157, 'saying': 3800, 'logical': 2639, 'problems': 3409, 'her': 2085, 'boyfriend': 558, 'fit': 1740, 'dude': 1381, 'sound': 4081, 'while': 4868, 'dont': 1324, 'might': 2835, 'least': 2554, 'tried': 4584, 'take': 4349, 'killer': 2470, 'teacher': 4375, 'love': 2669, 'lisa': 2616, 'screen': 3829, 'your': 4991, 'friends': 1837, 'comments': 901, 'heart': 2064, 'asks': 319, 'uncle': 4636, 'house': 2178, 'catches': 715, 'danger': 1109, 'ahead': 159, 'wouldnt': 4958, 'smart': 4035, 'donna': 1323, 'aunt': 355, 'car': 680, 'drive': 1363, 'away': 369, 'police': 3322, 'basically': 407, 'werent': 4849, 'enough': 1491, 'actually': 109, 'any': 256, 'empathy': 1462, 'too': 4522, 'errors': 1516, 'however': 2183, 'teenagers': 4391, 'young': 4989, 'just': 2437, 'fun': 1848, 'night': 3013, 'mediocre': 2791, 'scientist': 3818, 'local': 2634, 'college': 875, 'brought': 600, 'under': 4639, 'investigation': 2343, 'financial': 1725, 'forces': 1788, 'him': 2110, 'typical': 4623, 'hollywood': 2137, 'melodramatic': 2798, 'thought': 4462, 'conclusion': 936, 'early': 1400, 'mid': 2832, 'eighties': 1437, 'realized': 3553, '1990': 24, 'down': 1335, 'decided': 1149, 'keep': 2449, 'seem': 3861, 'desperately': 1209, 'trying': 4601, 'stellar': 4174, 'mostly': 2910, 'competent': 917, 'occasional': 3074, 'quality': 3484, 'pacing': 3163, 'large': 2517, 'problem': 3408, 'thinking': 4453, 'watching': 4815, 'id': 2212, 'hour': 2176, 'special': 4097, 'effects': 1431, 'arent': 288, 'director': 1264, 'work': 4940, 'lead': 2545, 'mildly': 2840, 'charismatic': 763, 'male': 2719, 'attempting': 342, 'tom': 4514, 'cruise': 1071, 'christopher': 811, 'reminded': 3619, 'matt': 2768, 'wild': 4885, 'things': 4451, 'female': 1693, 'heroine': 2091, 'job': 2405, 'herself': 2092, 'anyway': 261, 'girl': 1909, 'role': 3726, 'actress': 105, 'she': 3923, 'doesnt': 1309, 'child': 789, 'actor': 103, 'cant': 671, 'decide': 1148, 'hes': 2093, 'weird': 4841, 'said': 3774, 'worst': 4952, 'until': 4680, 'final': 1722, 'battle': 414, 'power': 3359, 'bizarre': 492, 'dramatic': 1348, 'simply': 3986, 'trick': 4582, 'overacting': 3149, 'thirty': 4456, 'seconds': 3848, 'time': 4495, 'watch': 4811, 'mill': 2845, '50': 51, 'chilling': 794, 'pack': 3165, 'nothing': 3047, 'bring': 585, 'back': 378, 'buy': 640, 'tale': 4353, 'taken': 4350, 'place': 3282, 'anywhere': 263, 'given': 1913, 'circumstances': 822, 'street': 4216, 'catching': 716, 'attention': 345, 'star': 4150, 'friendship': 1838, 'aging': 153, 'finds': 1728, 'pass': 3201, 'art': 304, 'follow': 1772, 'challenging': 744, 'free': 1827, 'life': 2592, 'river': 3707, 'traveling': 4568, 'performs': 3234, 'degree': 1164, 'despite': 1211, 'kind': 2476, 'performances': 3229, 'rate': 3526, 'especially': 1520, 'portrays': 3344, 'performer': 3231, 'downright': 1337, 'well': 4843, 'two': 4620, 'protagonists': 3442, 'supporting': 4304, 'help': 2079, 'singer': 3993, 'master': 2757, 'interesting': 2325, 'sadness': 3770, 'films': 1721, 'remote': 3622, 'similarities': 3979, 'yet': 4984, 'stand': 4143, 'easily': 1406, 'resemblance': 3645, 'king': 2479, 'weak': 4824, 'cliche': 843, 'subtle': 4260, 'audience': 352, 'already': 197, 'wrapped': 4964, 'needless': 2989, 'shame': 3918, 'fine': 1729, 'motion': 2913, 'picture': 3269, 'emotional': 1459, 'corny': 997, 'frankly': 1823, 'classic': 835, 'aside': 315, 'still': 4188, 'worth': 4953, 'brothers': 599, 'producing': 3417, 'highly': 2105, 'recommended': 3572, 'horribly': 2164, 'acted': 98, 'directed': 1259, 'produced': 3414, 'campy': 664, 'semi': 3874, 'watchable': 4812, 'thats': 4425, 'storyline': 4208, 'virtually': 4751, 'sense': 3877, 'whatsoever': 4861, 'comic': 893, 'gets': 1900, 'tired': 4501, '30': 42, 'canadian': 667, 'cast': 710, 'tv': 4610, 'commercials': 903, 'none': 3028, 'else': 1448, 'im': 2232, 'aware': 368, 'talented': 4355, 'brother': 598, 'filmed': 1717, 'entirely': 1503, 'village': 4743, '20': 29, 'miles': 2843, 'recognized': 3570, 'buildings': 616, 'now': 3054, 'torn': 4528, 'look': 2646, 'longer': 2645, 'wasnt': 4807, 'end': 1468, 'interested': 2324, 'till': 4493, 'bore': 540, 'death': 1141, 'english': 1483, 'patient': 3211, 'crash': 1033, 'kept': 2456, 'absolutely': 72, 'flash': 1745, 'technique': 4383, 'bit': 488, 'citizen': 824, 'thrown': 4481, 'hoffman': 2128, 'apartment': 265, 'leaves': 2556, 'forgive': 1795, 'cause': 723, 'homage': 2141, 'rip': 3700, 'off': 3084, 'orson': 3132, 'war': 4792, 'documentaries': 1306, '24': 39, 'episodes': 1508, 'cover': 1022, 'countries': 1013, 'involved': 2346, 'episode': 1507, 'tells': 4397, 'us': 4690, 'hitler': 2124, 'able': 66, 'build': 614, 'military': 2844, 'actions': 101, 'perfection': 3225, '10': 0, 'kevin': 2457, 'ryan': 3765, 'class': 833, 'actors': 104, 'always': 203, 'reviews': 3679, 'ms': 2931, 'charming': 768, 'nearly': 2981, 'roles': 3727, 'plays': 3301, 'begins': 444, 'shortly': 3947, 'opening': 3114, 'credits': 1050, 'give': 1912, 'annoying': 249, 'normally': 3034, 'title': 4504, 'write': 4967, 'ludicrous': 2685, 'below': 462, 'ill': 2228, 'elaborate': 1439, 'tell': 4395, 'humble': 2191, 'opinion': 3118, 'danes': 1108, 'jobs': 2406, 'quite': 3495, 'rest': 3657, 'though': 4461, 'mind': 2849, 'fault': 1668, 'ones': 3108, 'slightest': 4028, 'room': 3735, 'depth': 1190, 'either': 1438, 'create': 1036, 'such': 4268, 'hard': 2033, 'try': 4600, 'complex': 923, 'merely': 2815, 'direction': 1261, 'shallow': 3917, 'except': 1556, 'villains': 4745, 'clichés': 846, 'totally': 4532, 'unbelievable': 4634, 'besides': 468, 'writers': 4969, 'views': 4742, 'hundred': 2195, 'criminals': 1058, 'regardless': 3590, 'fact': 1621, 'paid': 3169, 'society': 4050, 'says': 3801, 'albeit': 173, 'between': 475, 'sexual': 3908, 'without': 4913, 'trial': 4580, 'judge': 2424, 'according': 88, 'everything': 1544, 'sex': 3907, 'married': 2744, 'couple': 1016, 'youre': 4992, 'example': 1553, 'writing': 4971, 'scripts': 3836, 'yourself': 4993, 'ego': 1435, 'everyone': 1542, 'another': 250, 'over': 3148, 'obvious': 3071, 'flaws': 1752, 'shall': 3916, 'positive': 3346, 'aspects': 322, 'celluloid': 731, 'peter': 3247, 'managed': 2723, 'alone': 194, 'places': 3284, 'high': 2100, 'top': 4525, 'shown': 3959, 'amazingly': 210, 'generous': 1886, 'lucky': 2683, 'fabulous': 1615, 'body': 527, 'breasts': 572, 'highlights': 2104, 'del': 1165, 'barely': 399, 'stereotypical': 4180, 'country': 1014, 'music': 2946, 'background': 380, 'point': 3316, 'americas': 215, 'deep': 1154, 'south': 4087, 'advantage': 129, 'ask': 316, 'finally': 1724, 'ear': 1397, 'pure': 3471, 'joy': 2422, 'gives': 1914, 'day': 1129, 'younger': 4990, 'realize': 3552, 'isnt': 2362, 'technically': 4382, 'win': 4892, 'miss': 2866, 'chicago': 785, 'beauty': 430, 'money': 2888, 'having': 2054, 'won': 4925, 'huh': 2187, 'check': 777, 'laughs': 2534, 'shot': 3949, 'sight': 3969, 'face': 1616, 'natural': 2973, 'non': 3027, 'glory': 1922, 'released': 3603, 'cameo': 657, 'beach': 419, 'club': 863, 'year': 4978, '60s': 54, 'hit': 2122, 'home': 2142, 'generation': 1883, 'revolution': 3680, 'quest': 3486, 'conflict': 939, 'following': 1774, 'seeking': 3859, 'fast': 1661, 'paced': 3162, 'enjoyable': 1485, 'vegas': 4717, 'sin': 3988, 'city': 825, 'cameos': 658, 'romance': 3732, 'poster': 3353, 'bedroom': 437, 'wall': 4781, 'youth': 4994, 'dad': 1095, 'favourite': 1673, 'psychological': 3458, 'thrillers': 4473, 'stylish': 4251, 'surface': 4310, 'disturbing': 1300, 'honest': 2146, 'violence': 4747, 'upon': 4684, 'others': 3136, 'brad': 560, 'pitt': 3280, 'trailer': 4554, 'trash': 4565, 'psycho': 3457, 'named': 2961, 'frightening': 1839, 'lewis': 2586, 'equally': 1510, 'playing': 3300, 'naive': 2958, 'innocence': 2293, 'breaking': 570, 'goes': 1930, 'slowly': 4032, 'forward': 1808, 'suddenly': 4273, 'psychotic': 3459, 'personality': 3242, 'scenes': 3811, 'climax': 849, 'watched': 4813, 'intense': 2316, 'gore': 1941, 'seemed': 3862, 'annoyed': 248, 'became': 431, 'sitting': 4007, 'total': 4531, 'nonsense': 3030, 'earth': 1403, 'indeed': 2271, 'receive': 3563, 'rubbish': 3748, 'fooled': 1780, 'relatively': 3600, 'ratings': 3530, 'fool': 1779, 'players': 3299, 'obsession': 3070, 'guns': 1998, 'difficult': 1249, 'ultimately': 4628, 'america': 212, 'never': 3001, 'usa': 4691, 'fatal': 1664, 'gun': 1996, 'culture': 1079, 'loser': 2655, 'escapes': 1519, 'fantasy': 1652, 'cowboy': 1025, 'urban': 4688, 'across': 96, 'spoiled': 4122, 'children': 792, 'teenage': 4389, 'boy': 557, 'care': 684, 'parent': 3187, 'father': 1666, 'vice': 4727, 'seemingly': 3863, 'spends': 4107, 'state': 4160, 'living': 2629, 'lazy': 2543, 'wants': 4791, 'sad': 3767, 'failed': 1626, 'holding': 2130, 'wish': 4904, 'view': 4736, 'effect': 1428, 'better': 472, 'pointless': 3318, 'drivel': 1364, 'saves': 3796, 'itself': 2371, 'getting': 1901, 'lowest': 2678, 'mark': 2739, 'possible': 3350, 'listen': 2619, 'terrible': 4407, 'mean': 2779, 'ridiculously': 3694, 'stupid': 4247, 'add': 115, 'series': 3890, 'james': 2378, 'bond': 532, 'exactly': 1551, 'cross': 1066, 'genres': 1889, 'horror': 2168, 'goodness': 1938, 'old': 3100, 'scared': 3805, 'ridiculous': 3693, 'attempt': 340, 'called': 652, 'please': 3304, 'respect': 3652, 'lord': 2652, 'rings': 3699, 'normal': 3033, 'splatter': 4118, 'worse': 4951, 'cinematography': 820, 'different': 1248, 'karen': 2444, 'adams': 112, 'performed': 3230, 'builds': 617, 'keeps': 2451, 'fan': 1648, 'brief': 579, 'nudity': 3059, 'left': 2561, 'disappoint': 1272, 'thinks': 4454, 'stuff': 4243, 'nuts': 3064, 'kills': 2474, 'cat': 713, 'creepy': 1052, 'superbly': 4297, 'unpredictable': 4675, 'fans': 1650, '1930s': 11, 'documentary': 1307, 'emphasis': 1463, 'animals': 240, 'unusual': 4681, 'distant': 1295, 'dangerous': 1110, 'bringing': 586, 'em': 1452, 'alive': 186, 'footage': 1782, 'often': 3095, 'conventional': 979, 'features': 1680, 'expensive': 1579, 'costumes': 1006, 'stars': 4155, 'successful': 4266, 'makers': 2715, 'team': 4378, 'martin': 2748, 'johnson': 2411, 'wife': 4884, 'sometimes': 4067, 'staged': 4140, 'events': 1536, 'africa': 141, 'extremely': 1610, 'popular': 3333, 'inspiring': 2302, 'notably': 3042, 'sexy': 3911, 'mrs': 2930, 'although': 201, 'genre': 1888, 'heavily': 2069, 'humour': 2194, 'viewed': 4737, 'serious': 3891, 'flaw': 1749, 'brown': 601, 'yellow': 4981, 'idiots': 2220, 'clever': 841, 'definite': 1161, 'presence': 3373, 'manages': 2725, 'daughter': 1121, 'certainly': 738, 'attractive': 351, 'blond': 510, 'gave': 1875, 'front': 1841, 'co': 867, 'historical': 2119, 'value': 4709, 'evidence': 1546, 'looked': 2647, 'suffer': 4275, 'stage': 4139, 'alien': 183, 'funniest': 1851, 'sequence': 3887, 'attempts': 343, 'teach': 4374, 'jazz': 2387, 'dance': 1103, 'bottom': 551, 'bob': 524, 'taught': 4370, 'twins': 4616, 'wearing': 4831, 'riding': 3695, 'starts': 4159, 'singing': 3995, 'steps': 4177, 'african': 142, 'meanwhile': 2785, 'staring': 4152, 'apparently': 270, 'wondering': 4930, 'crazy': 1035, 'unpleasant': 4674, 'americans': 214, 'perform': 3227, 'blood': 512, 'points': 3319, 'american': 213, 'cultural': 1078, 'decade': 1144, 'read': 3543, 'books': 536, 'forget': 1793, 'built': 618, 'head': 2057, 'etc': 1527, 'disney': 1289, 'treatment': 4574, 'excellent': 1555, 'imagined': 2239, 'live': 2625, 'animation': 242, 'produce': 3413, 'amazing': 209, 'bakshi': 386, 'epic': 1506, 'video': 4733, '2001': 31, 'hong': 2149, 'asian': 314, 'cinemas': 817, 'secret': 3849, 'similar': 3978, 'style': 4249, 'covers': 1024, 'ground': 1979, 'enjoy': 1484, 'fits': 1741, 'moves': 2925, 'somehow': 4063, 'slow': 4031, 'reason': 3557, 'enjoyed': 1486, 'subjects': 4254, 'felt': 1692, 'open': 3112, 'moving': 2928, 'believing': 457, 'influenced': 2287, 'lost': 2660, 'translation': 4562, 'wandering': 4785, 'hotel': 2175, 'punk': 3468, 'familiar': 1643, 'yes': 4982, 'liked': 2600, 'language': 2516, 'renting': 3629, 'buying': 641, 'superhero': 4299, 'suck': 4269, 'exception': 1557, 'redeeming': 3577, 'put': 3480, 'batman': 413, 'robin': 3715, 'steel': 4173, 'entertaining': 1499, 'leonard': 2572, 'delightful': 1168, 'superb': 4296, 'confused': 941, 'delivery': 1173, 'line': 2610, 'regarding': 3589, 'heavy': 2070, 'carried': 698, 'three': 4469, 'dull': 1384, 'wooden': 4934, 'dated': 1119, 'describe': 1194, 'thief': 4448, 'becomes': 434, 'chief': 788, 'hardly': 2036, 'resist': 3648, 'hollow': 2135, 'marie': 2737, 'forever': 1792, 'screams': 3828, 'remake': 3612, 'defense': 1159, 'tries': 4585, 'douglas': 1334, 'efforts': 1433, 'lacking': 2504, 'touches': 4535, 'feet': 1688, 'number': 3060, 'next': 3007, 'struck': 4232, 'gold': 1932, 'magnificent': 2705, 'heaven': 2068, 'allows': 192, 'wind': 4893, 'imitation': 2241, 'paris': 3189, 'low': 2676, 'budget': 610, 'affair': 135, 'cheesy': 781, 'wonderful': 4928, 'lousy': 2667, 'victims': 4730, 'settings': 3901, 'dennis': 1179, 'poorly': 3329, 'kid': 2464, 'core': 995, 'anna': 245, 'displays': 1293, 'genuine': 1891, 'truth': 4599, 'age': 148, 'believes': 456, 'safety': 3772, 'refuses': 3587, 'arrogant': 303, 'afraid': 140, 'let': 2579, 'moments': 2887, 'notice': 3048, 'personalities': 3241, 'ideal': 2214, 'idea': 2213, 'viewing': 4740, 'sally': 3776, 'ability': 65, 'month': 2896, 'remain': 3609, 'message': 2819, 'hidden': 2096, 'within': 4912, 'politically': 3325, 'use': 4692, 'allow': 189, 'surrounding': 4319, 'walk': 4775, 'remember': 3616, 'sit': 4003, 'act': 97, 'production': 3419, 'existent': 1572, 'pre': 3365, 'definition': 1163, 'actresses': 106, 'lifestyle': 2593, 'randomly': 3515, 'encounters': 1467, 'friend': 1835, 'long': 2644, 'distance': 1294, 'break': 569, 'walls': 4783, 'emotionally': 1460, 'boring': 543, 'again': 146, 'meet': 2793, 'daniel': 1111, 'played': 3297, 'robert': 3713, 'fields': 1705, 'brings': 587, 'table': 4346, 'terms': 4406, 'onto': 3111, 'hours': 2177, 'acts': 107, 'together': 4511, 'held': 2074, 'loose': 2650, 'continue': 969, 'fantastic': 1651, 'presented': 3376, 'equal': 1509, 'forced': 1787, 'speak': 4094, 'inspiration': 2300, 'monsters': 2893, 'ball': 388, 'discover': 1279, 'letting': 2583, 'themselves': 4435, 'oscar': 3133, 'shine': 3931, 'throughout': 4478, 'portrayal': 3341, 'lack': 2502, 'excitement': 1562, 'generally': 1881, 'spirited': 4114, 'sympathy': 4343, 'near': 2979, 'upset': 4687, 'sure': 4308, 'appeal': 271, 'creates': 1038, 'childish': 791, 'mature': 2773, 'improved': 2255, 'impossible': 2249, 'favorite': 1671, 'older': 3101, 'included': 2262, 'absurd': 73, 'burns': 628, 'building': 615, 'dream': 1354, 'anyone': 259, 'enter': 1494, 'oscars': 3134, '80s': 59, 'outrageous': 3145, 'happened': 2027, 'scope': 3821, 'piece': 3272, 'opportunity': 3121, 'cannot': 670, 'impressed': 2251, 'fails': 1628, 'realizes': 3554, 'support': 4303, 'full': 1846, 'innovative': 2295, 'audiences': 353, 'tear': 4379, 'sunday': 4293, 'afternoon': 144, 'created': 1037, 'overdone': 3152, 'sides': 3967, 'missed': 2867, 'case': 707, 'orders': 3127, 'dog': 1310, 'entire': 1502, 'couldnt': 1008, 'suggest': 4280, 'grade': 1951, 'christmas': 810, 'reminds': 3620, 'arthur': 305, 'dumb': 1385, 'smile': 4036, 'mixture': 2878, 'wit': 4908, 'charm': 767, 'causes': 725, 'moore': 2901, 'hated': 2047, 'rich': 3685, 'drunk': 1375, 'feels': 1687, 'sorry': 4076, 'turns': 4609, 'linda': 2609, 'waitress': 4773, 'pull': 3461, 'tough': 4537, 'soft': 4051, 'inside': 2297, 'lady': 2507, 'john': 2409, 'lovely': 2671, 'super': 4295, 'dvd': 1391, 'channel': 753, 'system': 4345, 'puts': 3481, 'race': 3499, 'various': 4715, 'tracks': 4545, 'speed': 4103, 'reminiscent': 3621, 'driving': 1368, 'sequences': 3888, 'grand': 1953, 'soundtrack': 4085, 'requires': 3642, 'disbelief': 1277, 'wont': 4932, 'jean': 2389, 'van': 4713, 'rescue': 3643, 'career': 686, 'making': 2718, 'sequel': 3885, 'universal': 4665, 'soldier': 4053, 'saved': 3795, 'dies': 1245, 'details': 1219, 'escape': 1517, 'men': 2805, 'soldiers': 4054, 'brain': 562, 'fights': 1710, 'goldberg': 1933, 'mission': 2870, 'test': 4416, 'works': 4945, 'government': 1948, 'project': 3427, 'ah': 158, 'forgot': 1796, 'important': 2247, 'computer': 927, 'conversation': 980, 'cube': 1076, 'angry': 238, 'kill': 2468, 'sends': 3876, 'hunting': 2201, 'hunters': 2200, 'silly': 3976, 'sentence': 3881, 'reporter': 3636, 'youll': 4988, 'games': 1865, 'offers': 3090, 'caught': 722, 'happens': 2029, 'urge': 4689, 'edge': 1418, 'chair': 742, 'lacks': 2505, 'largely': 2518, 'development': 1225, 'definitely': 1162, 'thoroughly': 4459, 'uninteresting': 4660, 'essentially': 1523, 'chris': 806, 'maintain': 2710, 'eventually': 1537, 'uninspired': 4657, 'fred': 1825, 'fair': 1630, 'plan': 3287, 'jake': 2377, 'eva': 1531, 'unfortunately': 4654, 'satisfy': 3790, 'sexually': 3910, 'frustrated': 1842, 'plans': 3292, 'divorce': 1301, 'shes': 3930, 'lake': 2509, 'middle': 2833, 'woods': 4935, 'horse': 2170, 'runs': 3757, 'meets': 2795, 'handsome': 2021, 'adam': 111, 'spoiler': 4123, 'naturally': 2974, '1933': 12, 'leads': 2548, 'tragic': 4552, 'finale': 1723, 'tame': 4363, 'todays': 4509, 'standards': 4145, 'nude': 3058, 'swim': 4337, 'shows': 3960, 'extreme': 1609, 'covered': 1023, 'minor': 2857, 'considered': 951, 'release': 3602, 'today': 4508, 'theyre': 4445, 'pg': 3250, '13': 4, 'shock': 3938, 'beautifully': 429, 'dialogue': 1234, 'score': 3822, 'silent': 3975, 'luckily': 2682, 'breath': 573, 'symbolism': 4341, 'imagery': 2234, 'somewhat': 4068, 'negative': 2991, 'excuse': 1564, 'admire': 121, 'begin': 442, 'awful': 372, 'lets': 2580, 'humor': 2192, 'meat': 2787, 'horrible': 2163, 'harry': 2039, 'pity': 3281, 'known': 2492, 'whose': 4877, 'goal': 1925, 'alice': 182, 'cooper': 990, 'plausible': 3295, 'ruin': 3750, 'sign': 3970, 'expectations': 1576, 'against': 147, 'compared': 912, 'collection': 874, 'mine': 2853, 'close': 853, 'leo': 2571, 'coming': 896, 'deals': 1137, 'topic': 4526, 'aids': 161, 'person': 3238, 'scenario': 3808, 'relative': 3599, 'hide': 2097, 'believed': 455, 'homosexual': 2145, 'parents': 3188, 'accept': 80, 'means': 2783, 'reality': 3551, 'adequate': 120, 'impression': 2252, 'son': 4070, 'sexuality': 3909, 'allowed': 190, 'travel': 4567, 'ex': 1549, 'families': 1644, 'warmth': 4796, 'spend': 4105, 'concern': 931, 'each': 1395, 'strongly': 4231, 'german': 1896, 'previously': 3388, 'der': 1191, 'blair': 497, 'witch': 4909, 'seriously': 3892, 'sick': 3963, 'knows': 2493, 'bored': 541, 'revolves': 3682, 'theme': 4433, 'suicide': 4283, 'follows': 1775, 'deaths': 1142, 'seven': 3903, 'week': 4837, 'average': 362, 'segment': 3867, 'meant': 2784, 'separate': 3883, 'quick': 3490, 'wonder': 4926, 'intelligence': 2313, 'fill': 1714, 'uses': 4697, 'images': 2235, 'unlikely': 4671, 'memorable': 2802, 'involving': 2349, 'mans': 2730, 'fairly': 1631, 'unfortunate': 4653, 'struggle': 4234, 'sounds': 4084, 'cool': 989, 'amateur': 206, 'rush': 3759, 'calls': 654, 'mistaken': 2872, 'nice': 3008, 'twist': 4617, 'journalist': 2420, 'integrity': 2311, 'fall': 1637, 'grey': 1973, 'adds': 119, 'performance': 3228, 'date': 1118, 'indians': 2275, 'return': 3665, 'brosnan': 597, 'elderly': 1440, 'feeling': 1685, 'nostalgia': 3038, 'expressions': 1603, 'perfect': 3224, 'recognition': 3568, 'sorts': 4078, '100': 1, 'british': 589, 'huge': 2185, 'pride': 3391, 'walks': 4780, 'viewer': 4738, 'history': 2121, 'western': 4853, 'gangster': 1868, 'enthusiasm': 1501, 'tour': 4538, 'guide': 1993, 'professor': 3422, 'conservative': 948, 'indian': 2274, 'soccer': 4048, 'ultimate': 4627, 'match': 2762, 'unique': 4662, 'push': 3477, 'traditional': 4550, 'issue': 2364, 'late': 2523, 'crisis': 1060, 'needed': 2988, 'gone': 1935, 'elsewhere': 1449, 'wrap': 4963, 'rock': 3720, 'proved': 3446, 'everybody': 1540, 'chemistry': 782, 'fake': 1635, 'sub': 4252, 'par': 3184, 'past': 3207, 'solid': 4057, 'heads': 2059, 'wait': 4770, 'truly': 4597, 'dreadful': 1353, 'evil': 1548, 'visit': 4755, 'toilet': 4512, 'doubt': 1332, 'hammer': 2014, 'beer': 439, 'avoid': 363, 'plague': 3285, '18': 10, 'directors': 1266, 'task': 4368, 'stories': 4205, 'turned': 4606, 'heres': 2087, 'rank': 3518, 'segments': 3868, 'change': 749, 'latin': 2527, 'greatest': 1966, 'french': 1830, 'featuring': 1681, 'stunning': 4244, 'ben': 463, 'witty': 4917, 'cute': 1090, 'visually': 4758, 'thanks': 4423, 'ethan': 1528, 'steve': 4181, 'nick': 3012, 'oliver': 3102, 'touching': 4536, 'alexander': 180, 'pathetic': 3210, 'side': 3965, 'present': 3374, 'underrated': 4642, 'mother': 2911, 'million': 2847, 'dollar': 1314, 'baby': 376, 'lonely': 2643, 'aged': 149, 'vacation': 4704, 'blind': 506, 'wes': 4851, 'craven': 1034, 'emily': 1456, 'curious': 1083, 'walter': 4784, 'thomas': 4458, 'olivier': 3103, 'clean': 838, 'maggie': 2702, '11': 2, 'le': 2544, 'faithful': 1634, '12': 3, 'de': 1131, 'la': 2500, 'wood': 4933, '14': 6, 'richardson': 3688, '16': 8, 'richard': 3686, '17': 9, 'fortune': 1806, 'brilliant': 583, 'plain': 3286, 'promised': 3431, 'unintentional': 4658, 'entertainment': 1500, 'surprised': 4313, 'name': 2960, 'welcome': 4842, 'slight': 4027, 'difference': 1246, 'sheriff': 3929, 'satan': 3787, 'figure': 1711, 'buck': 605, 'likes': 2602, 'teaching': 4377, 'darkness': 1117, 'hero': 2088, 'favor': 1670, 'nowhere': 3056, 'lucas': 2680, 'cabin': 643, 'guys': 2001, 'rob': 3710, 'used': 4693, 'lesson': 2577, 'ted': 4386, 'shoot': 3942, 'told': 4513, 'criminal': 1057, 'calling': 653, 'stayed': 4167, 'control': 977, 'twilight': 4614, 'zone': 4999, 'circle': 821, 'fear': 1676, 'gothic': 1945, 'supernatural': 4302, 'company': 910, 'masterpiece': 2759, 'visuals': 4759, 'loved': 2670, 'wonderfully': 4929, 'sinister': 3998, 'dorothy': 1330, 'vivid': 4760, 'colour': 880, 'captured': 677, 'mention': 2810, 'threatening': 4468, 'image': 2233, 'lying': 2690, 'sheer': 3925, 'sort': 4077, 'melodrama': 2797, 'boot': 538, 'searching': 3842, 'freedom': 1828, 'road': 3709, 'prove': 3445, 'mix': 2876, 'easy': 1410, 'pace': 3161, 'portraying': 3343, 'concerned': 932, 'thankfully': 4422, 'laughing': 2533, 'likely': 2601, 'cult': 1077, 'potential': 3355, 'smith': 4038, 'albert': 174, 'fail': 1625, 'lacked': 2503, 'fell': 1690, 'pieces': 3273, 'continuity': 972, 'destroyed': 1214, 'mothers': 2912, 'disturbed': 1299, 'daughters': 1122, 'looks': 2649, 'beneath': 464, 'social': 4049, 'status': 4165, 'attempted': 341, 'washington': 4806, 'square': 4136, 'hole': 2132, 'destruction': 1216, 'wasting': 4810, 'precious': 3366, 'purely': 3472, 'stay': 4166, 'clear': 839, 'insult': 2309, 'industry': 2280, 'worthy': 4956, 'rating': 3529, 'developing': 1224, 'cry': 1073, 'beloved': 461, 'directing': 1260, 'scores': 3823, 'disgusting': 1286, 'target': 4366, 'died': 1244, 'laughably': 2531, 'premise': 3370, 're': 3535, 'walking': 4779, 'beaten': 424, 'zombie': 4997, 'filming': 1718, 'reveal': 3670, 'photography': 3260, 'jack': 2373, 'tommy': 4516, 'tunes': 4603, 'doctor': 1304, 'fix': 1744, 'killing': 2472, 'faces': 1618, 'burn': 625, 'eyes': 1613, 'twists': 4619, 'laughable': 2530, 'dare': 1113, 'level': 2584, 'god': 1926, 'type': 4621, 'trust': 4598, 'boys': 559, 'lose': 2654, 'sister': 4001, 'hate': 2046, 'tears': 4380, 'due': 1382, 'decades': 1145, 'passionate': 3206, 'subject': 4253, 'takes': 4351, 'approach': 282, 'blend': 504, 'ironic': 2355, 'endearing': 1469, 'professional': 3421, 'sees': 3866, 'particular': 3194, 'population': 3335, 'maker': 2714, 'global': 1920, 'growing': 1983, 'artists': 309, 'disappear': 1270, '25': 40, 'realism': 3549, 'achieved': 93, 'shooting': 3943, 'actual': 108, 'cup': 1080, 'event': 1535, 'digital': 1251, 'format': 1799, 'round': 3742, 'showing': 3958, 'iran': 2350, 'news': 3005, 'media': 2789, 'facts': 1624, 'tend': 4400, 'opposite': 3123, 'rules': 3754, 'law': 2538, 'call': 651, 'feminist': 1695, 'independent': 2272, 'songs': 4072, 'energy': 1478, 'outstanding': 3147, 'rocks': 3722, 'tight': 4492, 'song': 4071, 'childhood': 790, 'thru': 4483, 'richards': 3687, 'throwing': 4480, 'praise': 3364, 'tied': 4489, 'discovered': 1280, 'whom': 4875, 'opened': 3113, 'counter': 1011, 'behavior': 446, 'experienced': 1581, 'strip': 4228, 'shorts': 3948, 'performing': 3233, 'gotten': 1947, 'interviews': 2330, 'months': 2897, 'giving': 1915, 'dancer': 1104, 'concert': 935, 'appearance': 274, 'find': 1726, 'issues': 2365, 'addition': 118, 'messages': 2820, 'nazi': 2977, 'beat': 423, 'fight': 1707, 'designed': 1203, 'qualities': 3483, 'drunken': 1376, 'instance': 2304, 'situation': 4008, 'demands': 1175, 'stop': 4201, 'proceeds': 3411, 'occurs': 3078, 'established': 1524, 'victim': 4729, 'phone': 3255, 'appears': 278, 'ice': 2210, 'et': 1526, 'al': 170, 'physically': 3263, 'abuse': 74, 'repeated': 3631, 'racist': 3503, 'remarks': 3615, 'lesser': 2576, 'crime': 1055, 'greater': 1965, 'action': 100, 'thank': 4421, 'terrific': 4409, 'towards': 4540, 'dirty': 1268, 'bought': 552, 'dvds': 1392, 'bear': 420, 'useless': 4695, 'mr': 2929, 'dolls': 1316, 'educational': 1425, 'suffered': 4276, 'direct': 1258, 'boredom': 542, 'jim': 2402, 'passing': 3204, 'versions': 4721, 'producers': 3416, 'creative': 1041, 'theyll': 4444, 'hair': 2005, 'per': 3223, 'content': 966, 'streets': 4217, 'talking': 4360, 'michael': 2829, 'cares': 690, 'decides': 1150, 'relatives': 3601, 'model': 2880, 'touch': 4533, 'author': 359, 'book': 535, 'portrayed': 3342, 'editing': 1421, 'dialog': 1232, 'okay': 3099, 'move': 2921, 'rarely': 3524, 'flying': 1764, 'musical': 2947, 'carol': 693, 'cheap': 774, 'titles': 4506, 'site': 4005, 'aforementioned': 139, 'expect': 1575, 'amount': 219, 'helped': 2080, 'atrocious': 335, 'nuclear': 3057, 'causing': 726, 'zombies': 4998, 'kicks': 2463, 'melting': 2799, 'garbage': 1870, 'plenty': 3307, 'clearly': 840, 'influence': 2286, 'typically': 4624, 'predictable': 3367, 'honesty': 2148, 'possibly': 3351, 'italy': 2368, 'homeless': 2143, 'spirit': 4113, 'endless': 1473, 'resources': 3651, 'land': 2511, 'idiot': 2218, 'modern': 2882, 'christ': 807, 'finding': 1727, 'miracle': 2860, 'working': 4944, 'magic': 2703, '1990s': 25, 'enemy': 1477, 'eric': 1514, 'roberts': 3714, 'online': 3109, 'website': 4834, 'soul': 4079, 'wrote': 4974, 'explain': 1586, 'starred': 4153, 'abraham': 69, 'sword': 4340, 'train': 4556, 'southern': 4088, 'strangely': 4212, 'yeah': 4977, 'chance': 747, 'weekend': 4838, 'page': 3167, 'duty': 1390, 'bound': 553, 'don': 1320, 'accurate': 90, 'mixed': 2877, 'jerry': 2396, '1980s': 21, 'max': 2774, 'convinced': 984, 'thriller': 4472, 'satisfying': 3791, 'generated': 1882, 'claim': 828, 'compelling': 916, 'true': 4596, 'european': 1530, 'tension': 4404, 'behave': 445, 'raised': 3508, 'voice': 4761, 'nightmare': 3014, 'jane': 2380, 'study': 4242, 'focusing': 1769, 'joke': 2414, 'vulnerable': 4768, 'charles': 764, 'adult': 125, 'calm': 655, 'manipulative': 2727, 'henry': 2084, 'moment': 2886, 'reaction': 3541, 'fed': 1682, 'method': 2824, 'buried': 624, 'apart': 264, 'odd': 3080, 'reach': 3536, 'knowing': 2490, 'link': 2613, 'wasted': 4809, 'contemporary': 965, 'planet': 3289, 'review': 3676, 'science': 3816, 'fiction': 1702, 'era': 1513, 'damn': 1100, 'meaning': 2780, 'pseudo': 3454, 'transfer': 4559, 'sharp': 3922, 'space': 4090, 'mars': 2746, 'prior': 3400, 'ship': 3934, 'smoke': 4039, 'aimed': 162, 'member': 2800, 'offensive': 3086, 'screaming': 3827, 'bloody': 513, 'ha': 2002, 'aliens': 184, 'viewers': 4739, 'witness': 4914, 'small': 4033, 'rats': 3531, 'scares': 3806, 'heroic': 2090, 'cake': 648, 'returns': 3668, 'aint': 163, 'buffs': 612, 'curiosity': 1082, '3000': 43, 'field': 1704, 'incredibly': 2270, 'slasher': 4020, 'filmmaker': 1719, 'helicopter': 2076, 'trip': 4588, 'warm': 4794, 'awkward': 374, 'badly': 383, 'lit': 2621, 'wondered': 4927, 'constantly': 958, 'chosen': 805, 'factor': 1622, 'talent': 4354, 'laurel': 2537, 'chick': 786, 'terry': 4415, 'exciting': 1563, 'dry': 1377, 'thrill': 4471, 'virginia': 4750, 'settle': 3902, 'chicks': 787, 'word': 4937, 'delight': 1167, 'truck': 4595, 'cartoon': 704, 'sky': 4017, 'ya': 4976, 'grew': 1972, 'kiss': 2483, 'damage': 1099, 'caused': 724, 'banned': 395, 'hype': 2207, 'chooses': 800, 'substance': 4258, 'die': 1243, 'studios': 4241, 'saga': 3773, 'continues': 971, 'whereas': 4865, 'individual': 2277, 'depiction': 1185, 'scale': 3802, 'dynamic': 1394, 'complexity': 924, 'rising': 3703, 'falling': 1639, 'tone': 4517, 'pictures': 3270, 'note': 3044, 'fortunately': 1805, 'focus': 1766, 'mass': 2753, 'constructed': 959, 'flow': 1762, 'adventures': 131, 'presents': 3377, 'tragedy': 4551, 'connection': 946, 'outside': 3146, 'allowing': 191, 'significant': 3972, 'theatrical': 4430, 'nevertheless': 3002, 'revenge': 3675, 'emotions': 1461, 'holds': 2131, 'ride': 3692, 'taking': 4352, 'climactic': 848, 'slaughter': 4021, 'eyed': 1612, 'reputation': 3640, 'racial': 3501, 'nazis': 2978, 'fully': 1847, 'developed': 1223, 'realise': 3548, 'believable': 453, 'poetic': 3313, 'research': 3644, 'box': 555, 'recently': 3567, 'purchased': 3470, 'seasons': 3844, 'stick': 4185, 'treated': 4573, 'confusion': 943, 'measure': 2786, 'gorgeous': 1942, 'thugs': 4484, 'offer': 3087, 'lawyer': 2541, 'pulled': 3462, 'visual': 4757, 'narration': 2965, 'light': 2595, 'court': 1020, 'proceedings': 3410, 'intriguing': 2335, 'sadly': 3769, 'hints': 2113, 'remains': 3611, 'glad': 1916, 'further': 1853, 'toy': 4542, 'balance': 387, 'producer': 3415, 'weve': 4856, 'joe': 2407, 'button': 639, 'hill': 2108, 'forgettable': 1794, 'post': 3352, 'brains': 563, 'hey': 2095, 'youve': 4995, 'gonna': 1936, 'thousand': 4465, 'bank': 394, 'unnecessary': 4672, 'movements': 2924, 'accents': 79, 'devils': 1229, 'insight': 2298, 'meaningless': 2782, 'constant': 957, 'hunt': 2198, 'kinds': 2478, 'productions': 3420, 'material': 2766, 'deserved': 1200, 'faith': 1633, 'toward': 4539, 'cutting': 1092, 'forth': 1804, 'psychiatrist': 3455, 'flick': 1754, 'ed': 1415, 'jr': 2423, 'desperate': 1208, 'warn': 4797, 'hint': 2112, 'purpose': 3474, 'ignore': 2224, 'earned': 1401, 'noise': 3024, 'remotely': 3623, 'disaster': 1276, 'senseless': 3878, 'assume': 328, 'eccentric': 1414, 'writer': 4968, 'artist': 307, 'fellow': 1691, '45': 50, 'thin': 4449, 'tea': 4373, 'bag': 384, 'missing': 2869, 'blonde': 511, 'surprise': 4312, 'stretched': 4222, 'weeks': 4839, 'silver': 3977, 'ripped': 3701, 'raw': 3532, 'hasnt': 2044, 'forgotten': 1797, 'ingredients': 2289, 'short': 3946, 'choice': 797, 'revelation': 3674, 'naked': 2959, 'attached': 336, 'enjoys': 1489, 'caring': 691, 'pearl': 3220, 'celebrity': 729, 'nation': 2969, 'editor': 1423, 'hits': 2125, 'waiting': 4772, 'shocked': 3939, 'excited': 1561, 'losing': 2658, 'party': 3200, 'crude': 1069, 'needs': 2990, 'color': 877, 'screenplay': 3831, 'thoughts': 4464, 'suspense': 4330, 'gay': 1876, 'bathroom': 412, 'dialogs': 1233, 'delivering': 1171, 'speaks': 4096, 'impact': 2244, 'visible': 4753, 'explaining': 1588, 'meeting': 2794, 'incident': 2260, 'spoil': 4121, 'mood': 2898, 'possibilities': 3348, 'hollywoods': 2138, 'finest': 1730, 'levels': 2585, 'locations': 2636, 'havent': 2053, 'dozen': 1338, 'fifteen': 1706, 'station': 4164, 'explains': 1589, 'critical': 1062, '20th': 38, 'york': 4985, 'bus': 631, 'morning': 2906, 'chose': 804, 'glorious': 1921, 'humorous': 2193, 'firstly': 1737, 'smaller': 4034, 'executed': 1565, 'mirror': 2861, 'ring': 3698, 'loud': 2664, 'setting': 3900, 'innocent': 2294, 'souls': 4080, 'closing': 859, 'refreshing': 3586, 'sucked': 4270, 'colorful': 878, 'romantic': 3733, 'rough': 3741, 'summer': 4291, 'nostalgic': 3039, 'camp': 662, 'wishes': 4906, 'group': 1980, 'reunion': 3669, 'anymore': 258, 'contains': 964, 'alan': 171, 'lou': 2663, 'anybody': 257, '50s': 52, 'hot': 2174, 'frame': 1815, 'stinker': 4191, 'dragged': 1343, 'attack': 337, 'removed': 3624, 'references': 3583, 'mst3k': 2932, 'emma': 1457, 'stunts': 4246, 'tooth': 4524, 'fairy': 1632, 'burning': 627, 'childrens': 793, 'therefore': 4439, 'broadway': 592, 'bill': 481, 'dan': 1102, 'brooks': 596, 'cars': 702, 'clothes': 860, '1950s': 14, 'effort': 1432, 'rated': 3527, 'four': 1812, 'wound': 4960, 'six': 4010, 'eight': 1436, 'quit': 3494, 'festival': 1697, 'followed': 1773, 'discussion': 1284, 'afterwards': 145, 'critics': 1064, 'cruel': 1070, 'fitting': 1742, 'powerful': 3360, 'description': 1197, 'process': 3412, 'shy': 3962, 'mentioning': 2812, 'selfish': 3870, 'worried': 4949, 'atmosphere': 333, 'mistakes': 2873, 'terribly': 4408, 'pain': 3170, 'describes': 1196, 'responsibility': 3655, 'misery': 2865, 'journey': 2421, 'mail': 2706, 'sleeping': 4025, 'wanna': 4786, 'throw': 4479, 'steven': 4182, 'advice': 133, 'instantly': 2306, 'previous': 3387, 'loving': 2675, 'intelligent': 2314, 'butt': 638, 'familys': 1646, 'parody': 3192, 'unrealistic': 4677, 'quirky': 3493, 'falls': 1640, 'awesome': 371, 'hip': 2114, 'obsessed': 3069, 'comedies': 889, 'storytelling': 4209, 'initial': 2290, 'magical': 2704, '35': 45, 'christians': 809, 'muslim': 2949, 'torture': 4529, 'sent': 3880, 'witnesses': 4916, 'duke': 1383, 'overcome': 3151, 'ran': 3513, 'gruesome': 1986, 'trouble': 4592, 'questions': 3489, 'jesus': 2399, 'holy': 2140, 'ghost': 1902, 'leader': 2546, 'lover': 2672, 'flesh': 1753, 'exact': 1550, 'sweet': 4336, 'treats': 4575, 'church': 813, 'satisfied': 3789, 'compare': 911, 'scenery': 3810, 'showdown': 3955, 'blown': 516, 'worker': 4942, 'evident': 1547, 'pick': 3265, 'unlike': 4670, 'officer': 3092, 'carries': 699, 'checking': 778, 'information': 2288, 'responsible': 3656, 'whos': 4876, 'happiness': 2031, 'justice': 2438, 'twice': 4613, 'partner': 3198, 'confusing': 942, 'irritating': 2359, 'holes': 2133, 'striking': 4226, 'surrounded': 4318, 'nicely': 3009, 'carradine': 695, 'limited': 2606, 'deserves': 1201, 'flashbacks': 1747, 'gory': 1943, 'grave': 1962, 'window': 4894, 'carl': 692, 'keeping': 2450, 'flashback': 1746, 'laura': 2536, 'convince': 983, 'pay': 3216, 'bomb': 531, 'nonsensical': 3031, 'commentary': 899, 'rebel': 3561, 'mansion': 2731, 'supposedly': 4307, 'commit': 904, 'secretly': 3851, 'escaped': 1518, 'mental': 2808, 'somewhere': 4069, 'perspective': 3245, 'delivered': 1170, 'greatly': 1967, 'alas': 172, '40s': 49, 'humanity': 2189, 'gem': 1877, 'season': 3843, 'animated': 241, 'category': 718, 'imagination': 2236, 'legendary': 2565, 'surprisingly': 4316, 'nelson': 2997, 'wing': 4896, 'forest': 1791, 'liking': 2604, 'legend': 2564, 'list': 2617, 'eating': 1413, 'stuck': 4237, 'depressed': 1187, 'talk': 4358, 'hospital': 2172, 'based': 404, 'solely': 4056, '1983': 22, 'novel': 3052, 'letters': 2582, 'central': 735, 'massive': 2756, 'fate': 1665, 'walker': 4778, 'danny': 1112, 'glover': 1923, 'abusive': 75, 'margaret': 2735, 'dawn': 1127, 'susan': 4326, 'anderson': 227, '1973': 19, 'purple': 3473, 'source': 4086, 'involve': 2345, 'feature': 1678, 'length': 2569, 'prison': 3401, 'five': 1743, 'con': 928, 'chess': 783, 'masters': 2761, 'failure': 1629, 'utterly': 4702, 'belief': 451, 'tricks': 4583, 'fears': 1677, 'ourselves': 3140, 'chances': 748, 'dreams': 1355, 'major': 2711, 'jackie': 2374, 'agree': 155, 'mall': 2720, 'impressive': 2253, 'nowadays': 3055, 'chase': 769, 'shirley': 3936, 'temple': 4398, 'began': 441, 'experiment': 1583, 'dancing': 1107, 'peoples': 3222, 'minds': 2852, 'depression': 1189, 'gary': 1873, 'learned': 2551, '1st': 28, 'showed': 3956, 'wrestling': 4966, 'sucks': 4271, 'kick': 2460, 'samurai': 3779, 'civil': 826, 'japan': 2381, 'ensues': 1493, 'vs': 4767, 'machine': 2693, 'results': 3662, 'fish': 1738, 'water': 4816, 'antics': 255, 'metal': 2823, 'latter': 2528, 'proof': 3434, 'army': 295, 'battles': 415, 'drag': 1342, 'extended': 1604, 'initially': 2291, 'worlds': 4947, 'asking': 318, 'reading': 3544, 'described': 1195, 'finished': 1733, 'contact': 961, 'twin': 4615, 'send': 3875, 'useful': 4694, 'focused': 1767, 'scare': 3803, 'solve': 4060, 'stolen': 4195, 'clue': 864, 'arm': 292, 'picked': 3266, 'distribution': 1298, 'edward': 1426, 'william': 4887, 'training': 4558, 'location': 2635, 'ultra': 4629, 'gritty': 1977, 'basement': 405, 'handled': 2019, 'glimpse': 1919, '30s': 44, 'twenty': 4612, 'bits': 490, 'joey': 2408, 'unexpected': 4650, 'hadnt': 2004, 'reasons': 3560, 'wise': 4903, 'drags': 1345, 'kim': 2475, 'shirt': 3937, 'sing': 3992, 'tune': 4602, 'elvis': 1451, 'properly': 3437, 'timing': 4498, '2005': 35, 'report': 3635, 'official': 3094, 'miike': 2837, 'midnight': 2834, 'screening': 3830, 'stated': 4161, 'originally': 3131, 'handed': 2016, 'marketing': 2741, 'summary': 4290, 'troubled': 4593, 'friendly': 1836, 'spirits': 4115, 'display': 1291, 'guarantee': 1987, 'north': 3036, 'spielberg': 4110, 'wells': 4845, 'hoping': 2160, 'finish': 1732, 'timothy': 4499, 'heck': 2071, 'quickly': 3491, 'student': 4238, 'cgi': 740, 'card': 681, 'board': 522, 'sophisticated': 4075, 'sat': 3786, 'cost': 1003, 'realistic': 3550, 'kong': 2494, 'appreciation': 281, 'tomatoes': 4515, 'technology': 4385, 'intention': 2319, 'shouldnt': 3952, '2003': 33, 'leave': 2555, 'shelf': 3926, 'foot': 1781, 'easier': 1405, 'drawing': 1350, 'exists': 1573, 'george': 1893, 'theatre': 4429, 'values': 4710, 'abysmal': 76, 'lengthy': 2570, 'variety': 4714, 'spoilers': 4124, 'basic': 406, 'sounded': 4082, 'rural': 3758, 'california': 650, 'demon': 1177, 'accidentally': 85, 'community': 908, 'fbi': 1675, 'priest': 3392, 'cage': 645, 'demons': 1178, 'opposed': 3122, 'turning': 4608, 'cave': 727, 'gang': 1867, 'chasing': 772, 'agent': 150, 'comical': 894, 'cheese': 780, 'lifetime': 2594, 'tad': 4347, 'reasonably': 3559, 'mario': 2738, 'baseball': 403, 'shoes': 3941, 'rent': 3626, 'bruce': 602, 'willis': 4890, 'twelve': 4611, 'monkeys': 2891, 'delivers': 1172, 'convincingly': 986, 'cole': 873, 'convincing': 985, 'warming': 4795, 'effective': 1429, 'reviewer': 3677, 'lively': 2627, 'driven': 1365, 'facial': 1619, 'spoken': 4126, 'reactions': 3542, 'unwatchable': 4682, 'sloppy': 4030, 'painful': 3171, 'remembered': 3617, 'bright': 581, 'lights': 2597, 'wave': 4818, 'remarkable': 3613, 'disappeared': 1271, 'sold': 4052, 'walked': 4776, '2000': 30, 'unfunny': 4655, 'devoid': 1230, 'air': 164, 'warned': 4798, 'laughed': 2532, 'europe': 1529, 'vague': 4705, 'dear': 1140, 'tape': 4365, 'memory': 2804, 'johnny': 2410, 'scott': 3824, 'bo': 521, 'luke': 2687, 'jesse': 2397, 'lee': 2559, 'boss': 546, 'farm': 1656, 'sneak': 4043, 'construction': 960, 'cousin': 1021, 'burt': 629, 'reynolds': 3684, 'moral': 2902, 'david': 1124, 'lynch': 2691, 'blue': 518, 'count': 1010, 'talked': 4359, 'stays': 4169, 'key': 2458, 'pleasant': 3302, 'mentally': 2809, 'picks': 3268, 'fascinating': 1658, 'advance': 127, 'suspenseful': 4331, 'enters': 1496, 'folks': 1771, 'regard': 3588, 'dean': 1139, 'third': 4455, 'lived': 2626, 'rolling': 3730, 'hills': 2109, 'flat': 1748, 'reviewers': 3678, 'eat': 1411, 'raped': 3522, 'suffers': 4278, 'kitchen': 2485, 'suffering': 4277, 'anti': 254, 'troops': 4591, 'skill': 4013, 'brutal': 603, 'personal': 3240, 'combat': 882, 'sean': 3840, 'parallel': 3185, 'cliff': 847, 'elegant': 1441, 'helen': 2075, 'shelley': 3928, 'winters': 4901, 'killers': 2471, 'dating': 1120, 'lincoln': 2608, 'hand': 2015, 'religious': 3608, 'despair': 1207, 'madness': 2698, 'curtis': 1087, 'ruby': 3749, 'charlotte': 766, 'guilt': 1994, 'fire': 1734, 'radio': 3504, 'detective': 1220, 'lucy': 2684, 'serving': 3897, 'friday': 1834, '13th': 5, 'morgan': 2905, 'west': 4852, 'highlight': 2103, 'spooky': 4128, 'incredible': 2269, 'restaurant': 3658, 'likewise': 2603, 'mgm': 2828, 'whoever': 4872, 'trailers': 4555, 'unoriginal': 4673, 'australian': 357, 'norman': 3035, 'embarrassing': 1454, 'funnier': 1850, 'laughter': 2535, 'implausible': 2245, 'concept': 930, 'terrorists': 4414, 'wins': 4899, 'carry': 700, 'mainly': 2708, 'carefully': 689, 'cary': 706, 'grant': 1956, 'perfectly': 3226, 'reasonable': 3558, 'explosion': 1596, 'entertain': 1497, '1940s': 13, 'excessive': 1560, 'achieve': 92, 'quote': 3496, 'april': 284, '2002': 32, 'providing': 3451, 'moronic': 2907, 'occasionally': 3075, 'bergman': 466, 'practically': 3362, 'spot': 4131, 'immediately': 2242, 'critic': 1061, 'dislike': 1288, 'improve': 2254, 'amazed': 208, 'grim': 1974, 'adults': 126, 'alike': 185, 'stephen': 4176, 'kings': 2481, 'pet': 3246, 'moved': 2922, 'neighbor': 2992, 'louis': 2665, 'gripping': 1976, 'eerie': 1427, 'pops': 3332, 'rachel': 3500, 'passed': 3202, 'haunted': 2050, 'mild': 2839, 'interest': 2323, 'wounded': 4961, 'murderous': 2942, 'assault': 324, 'property': 3438, 'determined': 1221, 'ironically': 2356, 'sisters': 4002, 'cried': 1054, 'masterful': 2758, 'challenge': 743, 'ellen': 1446, 'figures': 1713, 'stone': 4197, 'angel': 231, 'secrets': 3852, 'kudos': 2497, 'persons': 3244, 'protect': 3443, 'dub': 1378, 'castle': 712, 'service': 3896, 'preview': 3386, '1999': 27, 'spanish': 4092, 'valley': 4707, 'string': 4227, 'flawless': 1751, 'crafted': 1029, 'civilization': 827, 'namely': 2962, 'capture': 676, 'motives': 2916, 'packed': 3166, 'hold': 2129, 'limits': 2607, 'universe': 4666, 'advanced': 128, 'weapons': 4829, 'tons': 4520, 'breaks': 571, 'strength': 4219, 'teen': 4388, 'japanese': 2382, 'winner': 4897, 'piano': 3264, 'uneven': 4649, 'accent': 78, 'pie': 3271, 'emotion': 1458, 'wars': 4804, 'regular': 3592, 'andy': 230, 'dick': 1239, 'newly': 3004, 'worry': 4950, 'blockbuster': 509, 'deeper': 1155, 'ships': 3935, 'majority': 2712, 'stronger': 4230, 'pleased': 3305, 'personally': 3243, 'helps': 2082, 'prefer': 3368, 'rights': 3697, 'changed': 750, 'added': 116, 'whether': 4866, 'voices': 4763, 'lips': 2615, 'dubbing': 1380, 'matches': 2764, 'rare': 3523, 'mouth': 2920, 'detailed': 1218, 'awe': 370, 'detail': 1217, 'ups': 4686, 'credit': 1049, 'drawn': 1351, 'colors': 879, 'plane': 3288, 'focuses': 1768, 'confidence': 938, 'greed': 1968, 'greedy': 1969, 'mainstream': 2709, 'matched': 2763, 'princess': 3397, 'cameron': 661, 'choreography': 802, 'wholly': 4874, 'ballet': 389, 'vhs': 4725, 'makeup': 2717, 'clown': 862, 'splendid': 4119, 'riveting': 3708, 'vicious': 4728, 'serial': 3889, 'intensity': 2317, 'steals': 4172, 'pays': 3218, 'screenwriter': 3833, 'harsh': 2040, 'morality': 2903, 'pushed': 3478, 'capable': 672, 'strictly': 4223, 'animal': 239, 'dimensional': 1253, 'creep': 1051, 'genuinely': 1892, 'poignant': 3315, 'diana': 1237, 'sympathetic': 4342, 'skin': 4015, 'considerable': 950, 'rubber': 3747, 'suits': 4287, 'arrive': 300, 'prevent': 3385, 'creation': 1040, 'godzilla': 1929, 'saving': 3797, 'accomplished': 87, 'revealed': 3671, 'double': 1331, 'elements': 1443, 'patrick': 3213, 'expert': 1585, 'fighter': 1708, 'estate': 1525, 'ireland': 2352, 'investigate': 2342, 'rocket': 3721, 'graphics': 1959, 'medium': 2792, 'design': 1202, 'atmospheric': 334, 'progress': 3425, 'doors': 1329, 'locked': 2637, 'witnessed': 4915, 'empty': 1465, 'gordon': 1940, 'jennifer': 2392, 'ann': 244, 'kelly': 2452, 'ned': 2986, 'halloween': 2010, 'wear': 4830, 'represent': 3637, 'moon': 2900, 'ancient': 225, 'jon': 2416, 'grows': 1985, 'exaggerated': 1552, 'explanation': 1590, 'spite': 4117, 'noticed': 3049, 'edited': 1420, 'brazil': 568, 'vote': 4766, 'dr': 1340, 'medical': 2790, 'experiments': 1584, 'rat': 3525, 'succeeded': 4263, 'dinner': 1254, 'baker': 385, 'accident': 84, 'provides': 3450, 'wendy': 4846, 'leslie': 2574, 'catherine': 719, 'davis': 1126, 'cox': 1026, 'alex': 179, 'victor': 4731, 'seek': 3858, 'deliver': 1169, 'genius': 1887, 'available': 361, 'clark': 832, 'pleasantly': 3303, 'stretch': 4221, 'slapstick': 4019, 'gain': 1863, 'deaf': 1134, 'simpson': 3987, 'kicking': 2462, 'happening': 2028, 'cell': 730, 'prisoner': 3402, 'smiling': 4037, 'occasion': 3073, 'birds': 485, 'odds': 3082, 'england': 1482, 'object': 3066, 'considering': 952, 'enjoying': 1487, 'holiday': 2134, 'nose': 3037, 'offered': 3088, 'cold': 872, 'complicated': 925, 'destroy': 1213, 'santa': 3783, 'plots': 3310, 'throws': 4482, 'curse': 1086, 'gotta': 1946, 'bargain': 400, 'pan': 3180, '70s': 56, 'screens': 3832, 'roll': 3728, 'worthless': 4954, 'driver': 1366, 'tree': 4576, 'wacky': 4769, 'endure': 1475, 'dig': 1250, 'drink': 1361, 'kinda': 2477, 'warning': 4800, 'contain': 962, 'heroes': 2089, 'macy': 2695, 'crimes': 1056, 'extraordinary': 1607, 'hank': 2024, 'mom': 2885, 'busy': 635, 'latest': 2526, 'junk': 2436, 'frustration': 1843, 'conceived': 929, 'liners': 2611, 'stiller': 4189, 'nights': 3016, 'theyve': 4446, 'becoming': 435, 'happen': 2026, 'captain': 674, 'cop': 991, 'corporate': 998, 'costume': 1005, 'extra': 1606, 'bullet': 620, 'frankenstein': 1822, 'menace': 2806, 'reflection': 3585, 'capturing': 679, 'trio': 4587, 'invisible': 2344, 'mitchell': 2875, 'claims': 830, 'paul': 3214, 'granted': 1957, 'inane': 2258, 'wanting': 4790, 'neat': 2982, 'spoof': 4127, 'burton': 630, 'necessarily': 2983, 'comics': 895, 'inferior': 2285, 'inevitable': 2282, 'youd': 4987, 'kicked': 2461, 'basis': 408, 'fly': 1763, 'numerous': 3062, 'marvelous': 2750, 'discovery': 1282, 'engaging': 1481, 'shining': 3933, 'served': 3894, 'stops': 4203, 'claire': 831, 'mad': 2696, 'picking': 3267, 'retired': 3664, 'ladies': 2506, 'disjointed': 1287, 'appreciate': 279, 'necessary': 2984, 'honor': 2150, 'beats': 426, 'porn': 3336, 'figured': 1712, 'crappy': 1032, 'adapted': 114, 'eastwood': 1409, 'mysterious': 2955, 'stranger': 4213, 'proud': 3444, 'spots': 4132, 'physical': 3262, 'skills': 4014, 'viewings': 4741, 'appealing': 272, 'starring': 4154, 'carpenter': 694, 'primary': 3394, 'texas': 4418, 'ron': 3734, 'blame': 499, 'appeared': 276, 'religion': 3607, 'embarrassed': 1453, 'worthwhile': 4955, 'element': 1442, 'alongside': 196, 'inept': 2281, 'choose': 799, 'hence': 2083, 'execution': 1566, 'amounts': 220, 'stands': 4147, 'pig': 3274, 'fx': 1858, 'hoped': 2156, 'ruined': 3751, 'descent': 1193, 'fu': 1844, 'account': 89, 'christian': 808, 'bible': 477, 'travels': 4569, 'credibility': 1047, 'earlier': 1399, 'claimed': 829, 'scientific': 3817, 'context': 968, 'cases': 708, 'newspaper': 3006, 'arrived': 301, 'sticks': 4186, 'starting': 4158, 'hed': 2072, 'encounter': 1466, 'authority': 360, 'husbands': 2205, 'arrested': 298, 'insane': 2296, 'wonders': 4931, 'irony': 2357, 'false': 1641, 'knowledge': 2491, 'failing': 1627, 'beliefs': 452, 'vampire': 4711, 'rule': 3753, 'humans': 2190, 'warrior': 4802, 'dolph': 1317, 'wisdom': 4902, 'casting': 711, 'robot': 3717, 'paper': 3183, 'robots': 3718, 'nightmares': 3015, 'pretentious': 3383, 'vietnam': 4735, 'hunter': 2199, 'harris': 2038, 'expressed': 1601, 'former': 1800, 'bobby': 525, 'alcoholic': 177, 'handle': 2018, 'quiet': 3492, 'surprises': 4314, 'states': 4163, 'bucks': 606, 'fest': 1696, 'hardy': 2037, 'learns': 2553, 'exist': 1569, 'pal': 3177, 'theyd': 4443, 'merit': 2816, 'houses': 2180, 'fever': 1699, 'exercise': 1568, 'office': 3091, 'concerns': 934, 'resulting': 3661, 'ie': 2221, 'techniques': 4384, 'infamous': 2284, 'swimming': 4338, 'existed': 1570, 'rain': 3506, 'born': 544, 'prince': 3396, 'question': 3487, 'willing': 4889, 'goofy': 1939, 'couldve': 1009, 'consistent': 953, 'loyal': 2679, 'grace': 1950, 'zero': 4996, 'creators': 1044, 'develop': 1222, 'greek': 1970, 'differences': 1247, 'everywhere': 1545, 'arrives': 302, 'vaguely': 4706, 'remind': 3618, 'dress': 1357, 'rental': 3627, 'plastic': 3294, 'props': 3439, 'sci': 3815, 'fi': 1701, 'devil': 1228, 'doll': 1313, 'staying': 4168, 'london': 2641, 'lab': 2501, 'assistant': 326, 'winds': 4895, 'devoted': 1231, 'orange': 3125, 'killings': 2473, 'doctors': 1305, 'centers': 734, 'tiny': 4500, 'neighborhood': 2993, 'treasure': 4571, 'hundreds': 2196, 'sell': 3871, 'rotten': 3740, 'higher': 2101, 'criticism': 1063, 'broadcast': 591, 'adaptation': 113, 'invasion': 2340, 'quotes': 3497, 'stereotype': 4178, 'pilot': 3276, 'brave': 567, 'brilliantly': 584, 'product': 3418, 'warner': 4799, 'cartoons': 705, 'noted': 3045, 'individuals': 2278, 'powers': 3361, 'strikes': 4225, 'section': 3853, 'types': 4622, 'abilities': 64, 'bugs': 613, 'overly': 3155, 'imaginative': 2237, 'stock': 4193, 'adding': 117, 'sam': 3777, 'villain': 4744, 'opportunities': 3120, '2nd': 41, 'crowd': 1067, '3rd': 47, 'sleep': 4024, 'ambitious': 211, 'relies': 3606, 'ham': 2011, 'sunshine': 4294, 'mary': 2751, 'football': 1783, 'buddies': 608, 'island': 2361, 'grow': 1982, 'mundane': 2938, 'themes': 4434, 'relevant': 3604, 'closer': 856, 'pacino': 3164, 'likable': 2598, 'rise': 3702, 'record': 3573, 'taste': 4369, 'term': 4405, 'von': 4765, 'surreal': 4317, 'drops': 1372, 'guard': 1988, 'intended': 2315, 'intent': 2318, 'cure': 1081, 'feed': 1683, 'aspect': 321, 'waves': 4819, 'foreign': 1790, 'survive': 4321, 'explicit': 1591, 'survival': 4320, 'nations': 2971, 'expression': 1602, 'hitchcock': 2123, 'conflicts': 940, 'germany': 1898, 'classical': 836, 'spy': 4135, 'principal': 3398, 'corruption': 1002, 'path': 3209, 'artistic': 308, 'julia': 2427, 'stood': 4199, 'television': 4394, 'cheating': 776, 'nervous': 2999, 'wreck': 4965, 'teachers': 4376, 'los': 2653, 'angeles': 233, 'answers': 252, 'ad': 110, 'secretary': 3850, 'hired': 2117, 'ralph': 3510, 'caliber': 649, 'whenever': 4863, 'fourth': 1813, '40': 48, 'virgin': 4749, 'handful': 2017, 'undoubtedly': 4648, 'signed': 3971, 'discuss': 1283, 'reaches': 3538, 'retarded': 3663, 'press': 3379, 'usually': 4700, 'woody': 4936, 'allen': 188, 'respected': 3653, 'bigger': 479, 'disappointment': 1275, 'turkey': 4604, 'lemmon': 2567, 'stewart': 4184, 'harvey': 2042, 'mess': 2818, 'program': 3424, 'unbearable': 4633, 'talents': 4356, 'wide': 4880, 'gandhi': 1866, 'chaplin': 756, 'nicholson': 3011, 'edition': 1422, 'sounding': 4083, 'wow': 4962, 'canada': 666, 'annie': 247, 'loves': 2674, 'creatures': 1046, 'roger': 3724, 'extras': 1608, 'includes': 2263, 'audio': 354, 'access': 83, 'united': 4664, 'loaded': 2632, 'understanding': 4645, 'track': 4544, 'masses': 2755, 'vehicle': 4718, 'iii': 2227, 'kay': 2447, 'godfather': 1927, 'knife': 2487, 'throat': 4476, 'corner': 996, 'anne': 246, 'university': 4667, 'gratuitous': 1961, 'fury': 1855, 'sincere': 3991, 'health': 2060, 'returned': 3666, 'survived': 4322, 'wake': 4774, 'memories': 2803, 'express': 1600, 'standing': 4146, 'carrying': 701, 'soap': 4047, 'popcorn': 3331, 'bother': 548, 'painfully': 3172, 'ass': 323, 'creator': 1043, 'jumping': 2431, 'join': 2412, 'understood': 4647, 'deserve': 1199, 'stereotypes': 4179, 'indie': 2276, 'fresh': 1833, 'satire': 3788, 'commercial': 902, 'literally': 2622, 'wears': 4832, 'oddly': 3081, 'bite': 489, 'suit': 4284, 'workers': 4943, 'capital': 673, 'suited': 4286, 'parties': 3196, 'threat': 4467, 'pointed': 3317, 'political': 3324, 'fashioned': 1660, 'knock': 2488, 'nonetheless': 3029, 'answer': 251, 'prize': 3405, 'argument': 291, 'france': 1816, 'jimmy': 2403, 'taxi': 4371, 'queen': 3485, 'drew': 1360, 'sports': 4130, 'sport': 4129, 'profound': 3423, 'inappropriate': 2259, 'tiger': 4491, 'legs': 2566, 'aid': 160, 'unreal': 4676, 'suppose': 4305, '80': 58, 'graphic': 1958, 'bay': 416, 'fat': 1663, 'unhappy': 4656, 'disc': 1278, 'nancy': 2964, 'clues': 865, 'nine': 3017, 'mafia': 2700, 'rick': 3689, 'gag': 1861, 'changes': 751, 'rooms': 3736, 'winning': 4898, 'tarzan': 4367, 'happily': 2030, 'jungle': 2434, 'ape': 266, 'blatant': 502, 'racism': 3502, 'blank': 501, 'lion': 2614, 'treat': 4572, 'outfit': 3144, 'revealing': 3672, 'joseph': 2419, 'brenda': 575, 'lloyd': 2630, 'tony': 4521, 'shoots': 3944, 'photographer': 3259, 'met': 2822, 'topless': 4527, 'statement': 4162, 'steal': 4170, 'hardcore': 2034, 'luck': 2681, 'polished': 3323, 'catchy': 717, 'attracted': 349, 'explored': 1595, 'required': 3641, 'exploitation': 1592, 'serve': 3893, 'tense': 4403, 'chaos': 755, 'biggest': 480, 'sake': 3775, 'mexican': 2826, 'share': 3920, 'importantly': 2248, 'poverty': 3357, 'attitude': 346, 'pop': 3330, 'terror': 4412, 'berlin': 467, 'highest': 2102, 'gross': 1978, 'academy': 77, 'award': 366, 'golden': 1934, 'controversial': 978, 'weakest': 4825, 'seventies': 3904, 'dramas': 1347, 'changing': 752, 'contrast': 975, 'careers': 687, 'depicting': 1184, 'recording': 3575, 'flawed': 1750, 'judy': 2426, 'streisand': 4218, 'laid': 2508, 'characterization': 759, 'charisma': 762, 'displayed': 1292, 'received': 3564, 'minimal': 2855, 'hitting': 2126, 'selling': 3873, 'composed': 926, 'lyrics': 2692, 'williams': 4888, 'holmes': 2139, 'solo': 4058, 'thrilling': 4474, 'remarkably': 3614, 'sarah': 3785, 'worn': 4948, 'bride': 577, 'unable': 4631, 'eager': 1396, 'grab': 1949, 'pulp': 3465, 'successfully': 4267, 'flicks': 1755, 'trail': 4553, 'jerk': 2395, 'unconvincing': 4638, 'blow': 514, 'landscape': 2513, 'tonight': 4519, 'recall': 3562, 'breathtaking': 574, 'fox': 1814, 'headed': 2058, 'competition': 918, 'channels': 754, 'protagonist': 3441, 'bridge': 578, 'cops': 993, 'trek': 4578, 'species': 4098, '1996': 26, 'jonathan': 2417, 'international': 2326, 'dinosaurs': 1256, 'acceptable': 81, 'dressed': 1358, 'hiding': 2099, 'dinosaur': 1255, 'altogether': 202, 'brian': 576, 'novels': 3053, 'versus': 4722, 'anime': 243, 'horrendous': 2162, 'guts': 1999, 'simon': 3982, 'via': 4726, 'thoughtful': 4463, 'pursuit': 3476, 'doomed': 1327, 'draws': 1352, 'enjoyment': 1488, 'saturday': 3792, 'conversations': 981, 'mummy': 2937, 'underground': 4640, 'desert': 1198, 'jewish': 2401, 'explained': 1587, 'fallen': 1638, 'planning': 3291, 'angels': 234, 'paulie': 3215, 'jay': 2386, 'pro': 3406, 'propaganda': 3435, 'careful': 688, 'spending': 4106, 'sudden': 4272, 'subsequent': 4257, 'historically': 2120, 'jump': 2429, '2006': 36, 'projects': 3428, 'burned': 626, 'halfway': 2008, 'technical': 4381, 'rival': 3706, 'fulci': 1845, 'amateurish': 207, 'comfortable': 892, 'theory': 4437, 'voight': 4764, 'national': 2970, 'judging': 2425, 'threw': 4470, 'engaged': 1480, 'fathers': 1667, 'agents': 151, 'grown': 1984, 'clothing': 861, 'suspend': 4329, 'ignorant': 2223, 'insulting': 2310, 'switch': 4339, 'chases': 771, 'blew': 505, 'involves': 2348, 'inner': 2292, 'ps': 3453, 'spin': 4112, 'logic': 2638, 'jail': 2376, 'interview': 2329, 'result': 3660, 'knew': 2486, 'prequel': 3372, 'crucial': 1068, 'fictional': 1703, 'ho': 2127, 'buff': 611, 'attorney': 348, 'mike': 2838, 'stooges': 4200, 'lower': 2677, 'pulls': 3464, 'passes': 3203, 'sidney': 3968, 'magazine': 2701, 'britain': 588, 'bullets': 621, 'jeff': 2390, 'liberal': 2588, 'accepted': 82, 'code': 869, 'matters': 2770, 'represents': 3639, 'superficial': 4298, 'lust': 2689, 'marriage': 2743, 'russian': 3762, 'absolute': 71, 'costs': 1004, 'equivalent': 1512, 'range': 3516, 'relation': 3595, 'alcohol': 176, 'dire': 1257, 'contrived': 976, 'secondly': 3847, 'risk': 3704, 'everyday': 1541, 'royal': 3746, 'folk': 1770, 'web': 4833, 'empire': 1464, 'resembles': 3646, 'talks': 4361, 'pushing': 3479, 'cynical': 1093, 'fond': 1776, 'sir': 4000, 'waited': 4771, 'choices': 798, 'restored': 3659, 'mate': 2765, 'hanging': 2023, 'mistake': 2871, 'unit': 4663, 'complain': 919, 'phony': 3256, 'speaking': 4095, 'gene': 1879, 'native': 2972, 'westerns': 4854, 'beings': 449, 'intrigued': 2334, 'simplistic': 3985, 'appreciated': 280, 'hopefully': 2157, 'replaced': 3634, 'affected': 137, 'cuts': 1091, 'kenneth': 2455, 'bland': 500, 'catholic': 720, 'lesbian': 2573, 'committed': 905, 'kennedy': 2454, 'walken': 4777, 'ghosts': 1903, 'cats': 721, 'scheme': 3812, 'rushed': 3760, 'tim': 4494, 'entry': 1504, 'entertained': 1498, 'barbara': 397, 'stanwyck': 4149, 'bette': 471, 'wealthy': 4827, 'shell': 3927, 'womans': 4922, 'guest': 1992, 'listed': 2618, '2004': 34, 'gas': 1874, 'companion': 909, 'touched': 4534, 'teenager': 4390, 'aka': 168, 'disneys': 1290, 'response': 3654, 'philip': 3252, 'sidekick': 3966, 'barry': 401, 'rabbit': 3498, 'existence': 1571, 'door': 1328, 'hire': 2116, 'colonel': 876, 'catch': 714, 'provoking': 3452, 'reached': 3537, 'horrific': 2166, 'tortured': 4530, 'basketball': 409, 'brand': 565, 'remaining': 3610, 'titanic': 4503, 'stanley': 4148, 'directs': 1267, 'thrills': 4475, 'domino': 1319, 'widmark': 4882, 'presumably': 3380, 'photographed': 3258, 'nasty': 2968, 'mickey': 2831, 'ugly': 4625, 'gangsters': 1869, 'pregnant': 3369, 'immensely': 2243, 'montana': 2895, 'practice': 3363, 'listening': 2620, 'exceptional': 1558, 'closest': 857, 'glenn': 1918, 'terrifying': 4410, 'shake': 3914, 'seat': 3845, 'theaters': 4428, 'sullivan': 4288, 'hanks': 2025, 'craig': 1030, 'jason': 2383, 'mob': 2879, 'frank': 1821, 'outcome': 3142, 'belongs': 460, 'areas': 287, 'decision': 1151, 'abc': 63, 'awards': 367, 'presentation': 3375, 'rid': 3690, 'mtv': 2933, 'donald': 1321, 'cable': 644, 'sadistic': 3768, 'murdered': 2940, 'stomach': 4196, 'sutherland': 4333, 'mountain': 2917, 'food': 1778, 'trapped': 4564, 'snow': 4045, 'storm': 4206, 'rangers': 3517, 'airplane': 166, 'mountains': 2918, 'daring': 1114, 'spread': 4133, 'sun': 4292, 'green': 1971, 'league': 2549, 'bet': 470, 'heston': 2094, 'bed': 436, 'mechanical': 2788, 'consistently': 954, 'robinson': 3716, 'connect': 944, 'courage': 1018, 'marry': 2745, 'miserable': 2863, 'jamie': 2379, 'arms': 294, 'shed': 3924, 'ashamed': 312, 'mini': 2854, 'offended': 3085, 'primarily': 3393, 'sea': 3838, 'michelle': 2830, 'trite': 4589, 'drug': 1373, 'rocky': 3723, 'cuba': 1075, 'florida': 1761, 'possibility': 3349, 'admittedly': 123, 'lawrence': 2539, 'movement': 2923, 'writes': 4970, 'led': 2558, 'frequently': 1832, 'tall': 4362, 'sons': 4073, 'dying': 1393, 'futuristic': 1857, 'vampires': 4712, 'alright': 198, 'anyways': 262, 'stargate': 4151, 'kurt': 2499, 'russell': 3761, 'jackson': 2375, 'amanda': 205, 'carter': 703, 'resident': 3647, 'june': 2433, 'march': 2734, 'arguably': 289, 'represented': 3638, 'defeat': 1157, 'host': 2173, 'joined': 2413, 'valuable': 4708, 'franchise': 1817, 'dropped': 1370, '2007': 37, 'popularity': 3334, 'atlantis': 332, 'planned': 3290, 'floor': 1759, 'unbelievably': 4635, 'owner': 3159, 'thick': 4447, 'promise': 3430, 'freddy': 1826, 'tedious': 4387, 'sentimental': 3882, 'irrelevant': 2358, 'crush': 1072, 'engage': 1479, 'montage': 2894, 'whilst': 4869, 'tie': 4488, 'reel': 3581, 'mask': 2752, 'store': 4204, 'nicholas': 3010, 'prime': 3395, 'situations': 4009, 'contained': 963, 'smooth': 4041, 'psychic': 3456, 'clichéd': 845, 'ears': 1402, 'kubrick': 2496, 'progresses': 3426, 'overlook': 3153, 'exploration': 1593, 'sixties': 4011, 'depicted': 1183, 'accompanied': 86, 'doom': 1326, 'inspired': 2301, 'tradition': 4549, 'loses': 2657, 'disagree': 1269, 'eddie': 1416, 'murphy': 2944, 'belong': 459, 'combined': 885, 'fame': 1642, 'stale': 4141, 'farce': 1654, 'outer': 3143, 'names': 2963, 'unintentionally': 4659, 'matthew': 2772, 'perry': 3237, 'utter': 4701, 'stupidity': 4248, 'wore': 4939, 'signs': 3973, 'mile': 2842, 'musicals': 2948, 'ward': 4793, 'millions': 2848, 'troubles': 4594, 'joan': 2404, 'powell': 3358, 'cagney': 646, 'styles': 4250, 'nominated': 3025, 'stevens': 4183, 'pile': 3275, 'vincent': 4746, 'pink': 3277, 'crying': 1074, 'depressing': 1188, 'womens': 4924, 'bodies': 526, 'videos': 4734, '1970s': 17, 'kung': 2498, 'slave': 4022, 'germans': 1897, 'keaton': 2448, 'martial': 2747, 'arts': 310, 'dancers': 1105, 'boat': 523, 'load': 2631, 'sacrifice': 3766, 'plight': 3308, '90s': 61, 'generations': 1884, 'directorial': 1265, 'uncomfortable': 4637, 'streep': 4215, 'jeremy': 2394, 'trap': 4563, 'stiff': 4187, 'market': 2740, 'spoke': 4125, 'ensemble': 1492, 'forty': 1807, 'francis': 1818, 'louise': 2666, 'hamilton': 2012, 'mayor': 2777, 'jaws': 2385, 'bin': 483, 'chuck': 812, 'jumps': 2432, 'trade': 4547, 'center': 732, 'promises': 3432, 'correct': 1000, 'directions': 1262, 'oil': 3097, 'fay': 1674, 'portion': 3338, 'briefly': 580, 'consists': 955, 'exposed': 1598, 'flies': 1756, 'suffice': 4279, 'network': 3000, 'narrator': 2967, 'gift': 1906, 'murders': 2943, 'ashley': 313, 'debut': 1143, 'serves': 3895, 'intrigue': 2333, 'acid': 95, 'subplot': 4255, 'trilogy': 4586, 'row': 3744, 'roman': 3731, 'surprising': 4315, 'st': 4137, 'clips': 852, 'mel': 2796, 'passion': 3205, 'revolutionary': 3681, 'peace': 3219, 'dignity': 1252, 'comparison': 914, 'testament': 4417, 'doubts': 1333, 'spiritual': 4116, 'guessed': 1990, 'menacing': 2807, 'succeeds': 4264, 'illogical': 2231, 'territory': 4411, 'repeat': 3630, 'sole': 4055, 'sue': 4274, 'executive': 1567, 'dogs': 1311, 'eg': 1434, 'loads': 2633, 'subtitles': 4259, 'daddy': 1096, 'provide': 3448, 'experiences': 1582, 'chain': 741, 'border': 539, 'fired': 1735, 'blows': 517, 'larry': 2520, 'andrew': 228, 'kirk': 2482, 'absence': 70, 'jessica': 2398, 'foul': 1810, 'neck': 2985, 'contrary': 974, 'poetry': 3314, 'hideous': 2098, 'dollars': 1315, 'brutally': 604, 'mere': 2814, 'india': 2273, 'thousands': 4466, 'mexico': 2827, 'hatred': 2049, 'uk': 4626, 'attacks': 339, 'punishment': 3467, 'related': 3594, 'ignored': 2225, 'ought': 3138, 'harder': 2035, 'wwii': 4975, 'coherent': 871, 'snake': 4042, 'obscure': 3068, 'forms': 1801, 'hearts': 2066, 'aired': 165, 'interaction': 2322, 'hurt': 2202, 'marty': 2749, 'cia': 814, 'werewolf': 4850, 'abandoned': 62, 'schools': 3814, 'prom': 3429, 'reveals': 3673, 'transformation': 4560, 'pat': 3208, 'photo': 3257, 'nail': 2957, 'elizabeth': 1445, 'attraction': 350, 'stealing': 4171, 'flynn': 1765, 'carrie': 697, 'warren': 4801, 'beatty': 427, 'struggling': 4236, 'incompetent': 2266, 'manager': 2724, 'agrees': 157, 'trademark': 4548, 'weapon': 4828, 'cheated': 775, 'understandable': 4644, 'lately': 2524, 'specifically': 4100, 'italian': 2367, 'ii': 2226, 'desire': 1205, 'print': 3399, 'neo': 2998, 'develops': 1226, 'specific': 4099, 'essence': 1521, 'fascinated': 1657, 'wishing': 4907, 'travesty': 4570, 'sequels': 3886, 'similarly': 3980, 'search': 3841, 'candy': 668, 'charlie': 765, 'hudson': 2184, 'punch': 3466, 'downhill': 1336, 'notch': 3043, 'hearing': 2063, 'museum': 2945, 'robbery': 3711, 'notable': 3041, 'structure': 4233, 'frequent': 1831, 'apparent': 269, 'prisoners': 3403, 'priceless': 3390, 'hbo': 2055, 'lone': 2642, 'iron': 2354, 'recognize': 3569, 'rose': 3739, 'taylor': 4372, 'howard': 2182, 'enterprise': 1495, 'disease': 1285, 'sellers': 3872, 'unknown': 4668, 'shape': 3919, 'inspector': 2299, 'seeks': 3860, 'vengeance': 4719, 'finger': 1731, 'laws': 2540, 'lessons': 2578, 'horses': 2171, 'interpretation': 2328, 'dialogues': 1235, 'holly': 2136, 'gradually': 1952, 'raising': 3509, 'ruthless': 3764, 'bell': 458, 'eve': 1532, 'nearby': 2980, 'gentle': 1890, 'giant': 1905, 'wicked': 4879, 'unforgettable': 4652, 'overwhelming': 3157, 'silence': 3974, 'manage': 2722, 'understated': 4646, 'politics': 3326, 'timeless': 4496, 'amongst': 218, 'regret': 3591, 'stopped': 4202, 'faults': 1669, 'weight': 4840, 'backgrounds': 381, 'sings': 3997, 'toys': 4543, 'lovable': 2668, 'pool': 3327, 'suggests': 4282, 'lie': 2590, 'swedish': 4335, 'speech': 4102, 'pleasure': 3306, 'equipment': 1511, 'iraq': 2351, 'illegal': 2229, 'forbidden': 1785, 'lasted': 2522, 'dubbed': 1379, 'turner': 4607, 'uwe': 4703, 'boll': 529, 'succeed': 4262, 'homer': 2144, 'album': 175, 'garbo': 1871, 'birthday': 487, 'hearted': 2065, 'blake': 498, 'ray': 3533, 'overlooked': 3154, 'depicts': 1186, 'haunting': 2051, 'ready': 3546, 'opinions': 3119, 'lies': 2591, 'merits': 2817, 'accused': 91, 'incomprehensible': 2267, 'erotic': 1515, 'losers': 2656, 'students': 4239, 'scooby': 3820, 'doo': 1325, 'drugs': 1374, 'raymond': 3534, 'monk': 2889, 'chased': 770, 'warriors': 4803, 'destiny': 1212, 'grandmother': 1955, 'coach': 868, 'broken': 594, 'proper': 3436, 'nurse': 3063, 'titled': 4505, 'doc': 1303, 'featured': 1679, 'classics': 837, 'shadows': 3913, 'generic': 1885, 'dozens': 1339, 'internet': 2327, 'scream': 3826, 'icon': 2211, 'georges': 1894, 'effectively': 1430, 'horrifying': 2167, 'rented': 3628, 'superman': 4301, 'operation': 3117, 'appropriate': 283, 'underlying': 4641, 'upper': 4685, 'reed': 3580, 'safe': 3771, 'promising': 3433, 'captures': 678, 'glass': 1917, 'pretending': 3382, 'manhattan': 2726, 'kate': 2446, 'clip': 851, 'reduced': 3579, 'exposure': 1599, 'deceased': 1146, 'brooklyn': 595, 'diamond': 1236, 'currently': 1085, 'condition': 937, 'scripted': 3835, 'blues': 519, 'deadly': 1133, 'elm': 1447, 'achievement': 94, 'sandra': 3782, 'placed': 3283, 'spectacular': 4101, 'raise': 3507, 'andrews': 229, 'hopes': 2159, 'opens': 3115, 'floating': 1758, 'crack': 1027, 'realizing': 3555, 'suspect': 4327, 'involvement': 2347, 'dressing': 1359, 'redemption': 3578, 'hat': 2045, 'incoherent': 2265, 'possessed': 3347, 'resort': 3650, 'nobody': 3022, 'importance': 2246, 'unsettling': 4679, 'masterpieces': 2760, 'combine': 884, 'spare': 4093, 'surfing': 4311, 'cleverly': 842, 'bold': 528, 'multi': 2935, 'rendition': 3625, 'appearing': 277, 'singers': 3994, 'triumph': 4590, 'clumsy': 866, 'wolf': 4920, 'spell': 4104, 'multiple': 2936, 'identify': 2216, 'drinking': 1362, 'shower': 3957, 'consequences': 947, 'east': 1407, 'seagal': 3839, 'junior': 2435, 'babe': 375, 'intimate': 2331, 'convoluted': 987, 'painted': 3174, 'stress': 4220, 'block': 508, 'asleep': 320, 'president': 3378, 'unseen': 4678, 'centered': 733, 'hilariously': 2107, 'motivations': 2915, 'discovers': 1281, 'paltrow': 3178, 'alert': 178, 'foster': 1809, 'hooked': 2153, 'blah': 496, 'boom': 537, '1980': 20, 'hurts': 2203, 'sink': 3999, 'teeth': 4393, 'advise': 134, 'broke': 593, 'petty': 3249, 'cg': 739, 'portray': 3340, 'trashy': 4566, 'pretend': 3381, '70': 55, 'amy': 222, 'anthony': 253, 'deeply': 1156, 'guessing': 1991, 'stones': 4198, 'yesterday': 4983, 'rage': 3505, 'domestic': 1318, 'terrorist': 4413, 'myers': 2952, 'private': 3404, 'pair': 3176, 'cash': 709, 'horrid': 2165, 'bettie': 473, 'tales': 4357, 'juvenile': 2441, 'associated': 327, 'photos': 3261, 'betty': 474, 'asked': 317, 'surviving': 4323, 'text': 4419, 'horrors': 2169, 'notorious': 3051, 'bela': 450, 'lugosi': 2686, 'maria': 2736, 'blunt': 520, 'connected': 945, 'essential': 1522, 'panic': 3181, 'alfred': 181, 'tender': 4401, 'introduction': 2339, 'painting': 3175, 'daily': 1097, 'unaware': 4632, 'suspicious': 4332, 'feelings': 1686, 'decisions': 1152, 'afford': 138, 'parker': 3191, 'impress': 2250, 'clint': 850, 'un': 4630, 'dickens': 1240, 'persona': 3239, 'facing': 1620, 'miscast': 2862, 'sits': 4006, 'shop': 3945, 'partly': 3197, 'apes': 267, 'dreary': 1356, 'mildred': 2841, 'san': 3780, 'francisco': 1819, 'minded': 2850, 'hang': 2022, 'furthermore': 1854, 'brady': 561, 'base': 402, 'convey': 982, 'boxing': 556, 'fisher': 1739, 'ocean': 3079, 'lumet': 2688, 'desperation': 1210, 'creativity': 1042, 'craft': 1028, 'draw': 1349, 'survivor': 4324, 'ranks': 3519, 'pitch': 3279, 'veteran': 4724, 'spider': 4109, 'increasingly': 2268, 'guilty': 1995, 'ease': 1404, 'angle': 236, 'shines': 3932, 'authentic': 358, 'eaten': 1412, 'pants': 3182, 'suggested': 4281, 'kidding': 2465, 'ford': 1789, 'moody': 2899, 'hates': 2048, 'hook': 2152, 'sandler': 3781, 'officers': 3093, 'enemies': 1476, 'fancy': 1649, 'elvira': 1450, 'mistress': 2874, 'edie': 1419, 'enormous': 1490, 'rap': 3520, 'tap': 4364, 'pages': 3168, 'awfully': 373, 'motivation': 2914, 'misses': 2868, 'extent': 1605, 'prostitute': 3440, 'swear': 4334, 'inventive': 2341, 'introduce': 2336, 'adorable': 124, 'molly': 2884, 'hood': 2151, 'da': 1094, 'massacre': 2754, 'someones': 4065, 'hopper': 2161, 'roy': 3745, 'size': 4012, 'bat': 410, 'coffee': 870, 'map': 2733, 'sensitive': 3879, 'compelled': 915, 'stilted': 4190, 'cardboard': 682, 'intellectual': 2312, 'mindless': 2851, 'originality': 3130, 'wished': 4905, 'pot': 3354, 'dentist': 1180, 'lily': 2605, 'spring': 4134, 'showcase': 3954, 'thumbs': 4485, 'kidnapped': 2466, 'slap': 4018, 'damon': 1101, 'exceptionally': 1559, 'user': 4696, 'endings': 1472, '75': 57, 'minimum': 2856, 'elephant': 1444, 'survivors': 4325, 'combination': 883, 'helping': 2081, 'inevitably': 2283, 'dragon': 1344, 'blowing': 515, 'brilliance': 582, 'jenny': 2393, 'favorites': 1672, 'countryside': 1015, 'wizard': 4919, 'oz': 3160, 'stole': 4194, 'nomination': 3026, 'education': 1424, 'trees': 4577, 'drives': 1367, 'bbc': 417, 'intentions': 2321, 'hello': 2078, 'ramones': 3512, 'recorded': 3574, 'miserably': 2864, 'factory': 1623, 'ken': 2453, 'scrooge': 3837, 'communist': 907, 'repetitive': 3633, 'household': 2179, 'attitudes': 347, 'miller': 2846, 'unfolds': 4651, 'captivating': 675, 'diane': 1238, 'lane': 2515, 'falk': 1636, 'columbo': 881, 'prepared': 3371, 'widow': 4883, 'offering': 3089, 'bird': 484, 'complaint': 920, 'library': 2589, 'choreographed': 801, 'hal': 2006, 'caine': 647, 'security': 3854, 'noble': 3021, 'activities': 102, 'dedicated': 1153, 'closely': 855, 'todd': 4510, 'relate': 3593, 'purchase': 3469, 'cd': 728, 'hyde': 2206, 'broad': 590, 'performers': 3232, 'appearances': 275, 'shadow': 3912, 'assigned': 325, 'che': 773, 'defined': 1160, 'distracting': 1297, 'chorus': 803, 'navy': 2976, 'savage': 3793, 'credible': 1048, 'fonda': 1777, 'nyc': 3065, 'strike': 4224, 'bare': 398, 'murderer': 2941, 'loosely': 2651, 'stinks': 4192, 'omen': 3104, 'neil': 2995, 'formula': 1802, 'funeral': 1849, 'witches': 4910, 'davies': 1125, 'gifted': 1907, 'hart': 2041, 'closet': 858, 'portrait': 3339, 'hung': 2197, 'chest': 784, 'scientists': 3819, 'alternate': 200, 'occurred': 3077, 'snl': 4044, 'rolled': 3729, 'kingdom': 2480, 'scarecrow': 3804, 'distinct': 1296, 'sappy': 3784, 'visits': 4756, 'current': 1084, 'attacked': 338, 'blade': 495, 'mouse': 2919, 'winter': 4900, 'mann': 2728, 'marks': 2742, 'vast': 4716, 'flight': 1757, 'tiresome': 4502, 'felix': 1689, 'julie': 2428, 'grandfather': 1954, 'smoking': 4040, 'reads': 3545, 'shark': 3921, 'split': 4120, 'garden': 1872, 'cusack': 1088, 'groups': 1981, 'niro': 3019, 'backdrop': 379, 'simmons': 3981, 'sinatra': 3989, 'brando': 566, 'dropping': 1371, 'agreed': 156, 'tracy': 4546, 'madonna': 2699, 'kissing': 2484, 'gray': 1963, 'polanski': 3321, 'tremendous': 4579, 'soviet': 4089, 'everyones': 1543, 'sum': 4289, 'seed': 3856, 'phantom': 3251, 'tends': 4402, 'questionable': 3488, 'waters': 4817, 'destroying': 1215, 'larger': 2519, 'assumed': 329, 'potentially': 3356, 'teens': 4392, 'korean': 2495, 'itll': 2369, 'businessman': 634, 'receives': 3565, 'subtlety': 4261, 'gender': 1878, 'bears': 421, 'avoided': 364, 'voiced': 4762, 'letter': 2581, 'staff': 4138, 'landscapes': 2514, 'hop': 2154, 'porno': 3337, 'cinderella': 815, 'lay': 2542, 'repeatedly': 3632, 'intentionally': 2320, 'beating': 425, 'virus': 4752, 'ian': 2209, 'rambo': 3511, 'advertising': 132, 'matrix': 2767, 'returning': 3667, 'wilson': 4891, 'crocodile': 1065, '1972': 18, 'eyre': 1614, 'dalton': 1098, 'rochester': 3719, '1984': 23, 'bands': 392, 'hippie': 2115, 'dawson': 1128, 'lol': 2640, 'lees': 2560, 'australia': 356, 'simplicity': 3984, 'tribute': 4581, 'chapter': 757, 'concerning': 933, '1960s': 15, 'improvement': 2256, 'installment': 2303, 'patients': 3212, 'hysterical': 2208, 'inducing': 2279, 'cook': 988, 'widely': 4881, 'september': 3884, 'affect': 136, 'demand': 1174, 'angela': 232, 'bourne': 554, 'wives': 4918, 'device': 1227, 'embarrassment': 1455, 'robbins': 3712, 'struggles': 4235, 'benefit': 465, 'models': 2881, 'monkey': 2890, 'chan': 746, 'attend': 344, 'subplots': 4256, 'morris': 2908, 'roots': 3738, 'wayne': 4821, 'bull': 619, 'bang': 393, 'ginger': 1908, 'rogers': 3725, 'dutch': 1389, 'machines': 2694, 'bush': 632, 'stunt': 4245, 'dracula': 1341, 'karloff': 2445, 'trained': 4557, 'awake': 365, 'isolated': 2363, 'defend': 1158, 'suitable': 4285, 'grasp': 1960, 'tag': 4348, '3d': 46, 'examples': 1554, 'ninja': 3018, 'armed': 293, 'faster': 1662, 'cared': 685, 'philosophy': 3254, 'pit': 3278, 'gerard': 1895, 'classes': 834, 'neighbors': 2994, 'synopsis': 4344, 'corrupt': 1001, 'airport': 167, 'instant': 2305, 'transition': 4561, 'flop': 1760, 'heat': 2067, 'scottish': 3825, 'evening': 1534, '1968': 16, 'desired': 1206, 'duo': 1386, 'astaire': 330, 'cinematographer': 819, 'rex': 3683, 'comparing': 913, 'legal': 2563, 'cities': 823, '60': 53, 'analysis': 224, 'severe': 3906, 'spain': 4091, 'franco': 1820, 'bottle': 550, 'jet': 2400, 'li': 2587, 'bacall': 377, 'blacks': 494, 'pulling': 3463, 'contract': 973, 'ruth': 3763, 'philosophical': 3253, 'learning': 2552, 'poem': 3312, 'mighty': 2836, 'bath': 411, 'matthau': 2771, 'wealth': 4826, 'wallace': 4782, 'fetched': 1698, 'leg': 2562, 'jeffrey': 2391, 'branagh': 564, 'hamlet': 2013, 'continued': 970, 'earl': 1398, 'bumbling': 622, 'justify': 2439, 'freak': 1824, 'arnold': 296, 'stan': 4142, 'idiotic': 2219, 'illness': 2230, 'amitabh': 216, 'plant': 3293, 'jaw': 2384, 'literature': 2623, 'peters': 3248, 'borrowed': 545, 'relations': 3596, 'paranoia': 3186, 'introduces': 2338, 'instinct': 2308, 'sitcom': 4004, 'bollywood': 530, 'justin': 2440, 'command': 897, 'edgar': 1417, 'contest': 967, 'landing': 2512, 'purposes': 3475, 'cannibal': 669, 'formulaic': 1803, 'arrival': 299, 'khan': 2459, 'pokemon': 3320, 'bud': 607, 'gabriel': 1859, 'bleak': 503, 'dave': 1123, 'blob': 507, 'carrey': 696, 'grinch': 1975, 'dust': 1388, 'denzel': 1181, 'bonus': 534, 'victoria': 4732, 'bone': 533, 'eastern': 1408, 'react': 3540, 'hopeless': 2158, 'pamela': 3179, 'kapoor': 2443, 'mentions': 2813, 'akshay': 169, 'giallo': 1904, 'designs': 1204, 'yelling': 4980, 'campbell': 663, 'watches': 4814, 'ritter': 3705, 'championship': 745, 'lena': 2568, 'strangers': 4214, 'slick': 4026, 'methods': 2825, 'gundam': 1997, 'modesty': 2883, 'butler': 637, 'females': 1694, 'freeman': 1829, 'cringe': 1059, 'sid': 3964, 'whale': 4857, 'gadget': 1860}\n"
     ]
    }
   ],
   "source": [
    "print(str(vocabulary))"
   ]
  },
  {
   "cell_type": "markdown",
   "metadata": {},
   "source": [
    "Once you have added the endpoint name to the Lambda function, click on **Save**. Your Lambda function is now up and running. Next we need to create a way for our web app to execute the Lambda function."
   ]
  },
  {
   "cell_type": "markdown",
   "metadata": {},
   "source": [
    "### Setting up API Gateway\n",
    "\n",
    "Now that our Lambda function is set up, it is time to create a new API using API Gateway that will trigger the Lambda function we have just created.\n",
    "\n",
    "Using AWS Console, navigate to **Amazon API Gateway** and then click on **Get started**.\n",
    "\n",
    "On the next page, make sure that **New API** is selected and give the new api a name, for example, `sentiment_analysis_web_app`. Then, click on **Create API**.\n",
    "\n",
    "Now we have created an API, however it doesn't currently do anything. What we want it to do is to trigger the Lambda function that we created earlier.\n",
    "\n",
    "Select the **Actions** dropdown menu and click **Create Method**. A new blank method will be created, select its dropdown menu and select **POST**, then click on the check mark beside it.\n",
    "\n",
    "For the integration point, make sure that **Lambda Function** is selected and click on the **Use Lambda Proxy integration**. This option makes sure that the data that is sent to the API is then sent directly to the Lambda function with no processing. It also means that the return value must be a proper response object as it will also not be processed by API Gateway.\n",
    "\n",
    "Type the name of the Lambda function you created earlier into the **Lambda Function** text entry box and then click on **Save**. Click on **OK** in the pop-up box that then appears, giving permission to API Gateway to invoke the Lambda function you created.\n",
    "\n",
    "The last step in creating the API Gateway is to select the **Actions** dropdown and click on **Deploy API**. You will need to create a new Deployment stage and name it anything you like, for example `prod`.\n",
    "\n",
    "You have now successfully set up a public API to access your SageMaker model. Make sure to copy or write down the URL provided to invoke your newly created public API as this will be needed in the next step. This URL can be found at the top of the page, highlighted in blue next to the text **Invoke URL**."
   ]
  },
  {
   "cell_type": "markdown",
   "metadata": {},
   "source": [
    "## Step 7: Deploying our web app\n",
    "\n",
    "Now that we have a publicly available API, we can start using it in a web app. For our purposes, we have provided a simple static html file which can make use of the public api you created earlier.\n",
    "\n",
    "In the `website` folder there should be a file called `index.html`. Download the file to your computer and open that file up in a text editor of your choice. There should be a line which contains **\\*\\*REPLACE WITH PUBLIC API URL\\*\\***. Replace this string with the url that you wrote down in the last step and then save the file.\n",
    "\n",
    "Now, if you open `index.html` on your local computer, your browser will behave as a local web server and you can use the provided site to interact with your SageMaker model.\n",
    "\n",
    "If you'd like to go further, you can host this html file anywhere you'd like, for example using github or hosting a static site on Amazon's S3. Once you have done this you can share the link with anyone you'd like and have them play with it too!\n",
    "\n",
    "> **Important Note** In order for the web app to communicate with the SageMaker endpoint, the endpoint has to actually be deployed and running. This means that you are paying for it. Make sure that the endpoint is running when you want to use the web app but that you shut it down when you don't need it, otherwise you will end up with a surprisingly large AWS bill."
   ]
  },
  {
   "cell_type": "markdown",
   "metadata": {},
   "source": [
    "### Delete the endpoint\n",
    "\n",
    "Remember to always shut down your endpoint if you are no longer using it. You are charged for the length of time that the endpoint is running so if you forget and leave it on you could end up with an unexpectedly large bill."
   ]
  },
  {
   "cell_type": "code",
   "execution_count": 51,
   "metadata": {},
   "outputs": [],
   "source": [
    "xgb_predictor.delete_endpoint()"
   ]
  },
  {
   "cell_type": "markdown",
   "metadata": {},
   "source": [
    "## Optional: Clean up\n",
    "\n",
    "The default notebook instance on SageMaker doesn't have a lot of excess disk space available. As you continue to complete and execute notebooks you will eventually fill up this disk space, leading to errors which can be difficult to diagnose. Once you are completely finished using a notebook it is a good idea to remove the files that you created along the way. Of course, you can do this from the terminal or from the notebook hub if you would like. The cell below contains some commands to clean up the created files from within the notebook."
   ]
  },
  {
   "cell_type": "code",
   "execution_count": 52,
   "metadata": {},
   "outputs": [],
   "source": [
    "# First we will remove all of the files contained in the data_dir directory\n",
    "!rm $data_dir/*\n",
    "\n",
    "# And then we delete the directory itself\n",
    "!rmdir $data_dir\n",
    "\n",
    "# Similarly we remove the files in the cache_dir directory and the directory itself\n",
    "!rm $cache_dir/*\n",
    "!rmdir $cache_dir"
   ]
  },
  {
   "cell_type": "code",
   "execution_count": null,
   "metadata": {},
   "outputs": [],
   "source": []
  }
 ],
 "metadata": {
  "kernelspec": {
   "display_name": "Python 3.9.4 64-bit ('3.9.4')",
   "language": "python",
   "name": "python3"
  },
  "language_info": {
   "codemirror_mode": {
    "name": "ipython",
    "version": 3
   },
   "file_extension": ".py",
   "mimetype": "text/x-python",
   "name": "python",
   "nbconvert_exporter": "python",
   "pygments_lexer": "ipython3",
   "version": "3.9.4"
  },
  "vscode": {
   "interpreter": {
    "hash": "017ac8a0813a894857ac85c3080468aa30be6f181b5c5e953892ff115d2acc76"
   }
  }
 },
 "nbformat": 4,
 "nbformat_minor": 2
}
